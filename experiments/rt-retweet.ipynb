{
 "cells": [
  {
   "cell_type": "markdown",
   "id": "30fb94ce-7582-4b4e-91e5-852ed71cb955",
   "metadata": {},
   "source": [
    "# Imports"
   ]
  },
  {
   "cell_type": "code",
   "execution_count": 48,
   "id": "7bf9d038-da9c-443f-9ce8-56fe7a99be3a",
   "metadata": {},
   "outputs": [],
   "source": [
    "import pandas as pd \n",
    "import matplotlib.pyplot as plt\n",
    "import networkit as nk\n",
    "import tqdm\n",
    "import numpy as np\n",
    "import glob\n",
    "import sys\n",
    "\n",
    "from sklearn.metrics import ndcg_score\n",
    "from sklearn.preprocessing import MinMaxScaler, normalize\n",
    "from scipy.stats import kendalltau"
   ]
  },
  {
   "cell_type": "markdown",
   "id": "56539e88-7258-43e1-8ffb-c3203f144ec8",
   "metadata": {},
   "source": [
    "# Load data"
   ]
  },
  {
   "cell_type": "code",
   "execution_count": 10,
   "id": "0aa3398b-2712-4caf-acd3-ef8e854e3eca",
   "metadata": {},
   "outputs": [
    {
     "data": {
      "text/html": [
       "<div>\n",
       "<style scoped>\n",
       "    .dataframe tbody tr th:only-of-type {\n",
       "        vertical-align: middle;\n",
       "    }\n",
       "\n",
       "    .dataframe tbody tr th {\n",
       "        vertical-align: top;\n",
       "    }\n",
       "\n",
       "    .dataframe thead th {\n",
       "        text-align: right;\n",
       "    }\n",
       "</style>\n",
       "<table border=\"1\" class=\"dataframe\">\n",
       "  <thead>\n",
       "    <tr style=\"text-align: right;\">\n",
       "      <th></th>\n",
       "      <th>source</th>\n",
       "      <th>target</th>\n",
       "    </tr>\n",
       "  </thead>\n",
       "  <tbody>\n",
       "    <tr>\n",
       "      <th>0</th>\n",
       "      <td>2182</td>\n",
       "      <td>1</td>\n",
       "    </tr>\n",
       "    <tr>\n",
       "      <th>1</th>\n",
       "      <td>8079</td>\n",
       "      <td>1</td>\n",
       "    </tr>\n",
       "    <tr>\n",
       "      <th>2</th>\n",
       "      <td>11313</td>\n",
       "      <td>1</td>\n",
       "    </tr>\n",
       "    <tr>\n",
       "      <th>3</th>\n",
       "      <td>24832</td>\n",
       "      <td>1</td>\n",
       "    </tr>\n",
       "    <tr>\n",
       "      <th>4</th>\n",
       "      <td>28164</td>\n",
       "      <td>1</td>\n",
       "    </tr>\n",
       "  </tbody>\n",
       "</table>\n",
       "</div>"
      ],
      "text/plain": [
       "   source  target\n",
       "0    2182       1\n",
       "1    8079       1\n",
       "2   11313       1\n",
       "3   24832       1\n",
       "4   28164       1"
      ]
     },
     "execution_count": 10,
     "metadata": {},
     "output_type": "execute_result"
    }
   ],
   "source": [
    "with open('../data/rt-retweet-crawl/rt-retweet-crawl.mtx') as f:\n",
    "    next(f)\n",
    "    next(f)\n",
    "    \n",
    "    retweets_df = pd.DataFrame([line.split(\"\\n\")[0].split(\" \") for line in f.readlines()], columns=[\"source\", \"target\"])\n",
    "    \n",
    "retweets_df[\"source\"] = retweets_df[\"source\"].astype(int)\n",
    "retweets_df[\"target\"] = retweets_df[\"target\"].astype(int)\n",
    "\n",
    "retweets_df.head()"
   ]
  },
  {
   "cell_type": "markdown",
   "id": "1e08bb50-022c-464f-be37-e45768343ad7",
   "metadata": {},
   "source": [
    "# Generate networkit graph"
   ]
  },
  {
   "cell_type": "code",
   "execution_count": 11,
   "id": "559e790a-0d26-43b8-82b7-9985c808ac9a",
   "metadata": {},
   "outputs": [
    {
     "name": "stdout",
     "output_type": "stream",
     "text": [
      "Number of nodes:  1112623\n",
      "Number of edges:  10000\n",
      "CPU times: user 470 ms, sys: 145 ms, total: 615 ms\n",
      "Wall time: 614 ms\n"
     ]
    }
   ],
   "source": [
    "%%time\n",
    "\n",
    "kn = 10**4\n",
    "g = nk.Graph(directed=False)\n",
    "\n",
    "for row in retweets_df[[\"source\", \"target\"]].to_records(index=False).tolist()[:kn]:\n",
    "    g.addEdge(row[0], row[1], addMissing=True)\n",
    "\n",
    "print(\"Number of nodes: \", g.numberOfNodes())\n",
    "print(\"Number of edges: \", g.numberOfEdges()) "
   ]
  },
  {
   "cell_type": "markdown",
   "id": "4b564fe1-6c73-497a-888e-b4b516700949",
   "metadata": {},
   "source": [
    "# Network metrics"
   ]
  },
  {
   "cell_type": "markdown",
   "id": "99a6f921-d814-4767-9feb-31ce188ad008",
   "metadata": {},
   "source": [
    "## Density"
   ]
  },
  {
   "cell_type": "code",
   "execution_count": 146,
   "id": "ed89b9dc-01f9-4c85-a6bd-6cbc8f723d10",
   "metadata": {},
   "outputs": [
    {
     "name": "stdout",
     "output_type": "stream",
     "text": [
      "Density:  1.61560176607997e-08\n"
     ]
    }
   ],
   "source": [
    "print(f\"Density: \", nk.graphtools.density(g))"
   ]
  },
  {
   "cell_type": "markdown",
   "id": "545e1f87-3957-4262-a14b-dfae73dac6d5",
   "metadata": {},
   "source": [
    "## Average clustering coefficient"
   ]
  },
  {
   "cell_type": "code",
   "execution_count": 151,
   "id": "4549fec5-3114-4143-bcfc-9a472e26900c",
   "metadata": {},
   "outputs": [
    {
     "name": "stdout",
     "output_type": "stream",
     "text": [
      "Average clustering coefficient:  0.0\n"
     ]
    }
   ],
   "source": [
    "print(f\"Average clustering coefficient: \", nk.globals.ClusteringCoefficient().exactGlobal(g))"
   ]
  },
  {
   "cell_type": "markdown",
   "id": "68d31e62-6860-4fd1-b904-4dc85ac15a65",
   "metadata": {},
   "source": [
    "## Diameter"
   ]
  },
  {
   "cell_type": "code",
   "execution_count": 152,
   "id": "7470324a-1794-4884-a4b8-04b2f3fee820",
   "metadata": {},
   "outputs": [
    {
     "name": "stdout",
     "output_type": "stream",
     "text": [
      "Diameter:  (0, 0)\n"
     ]
    }
   ],
   "source": [
    "print(f\"Diameter: \", nk.distance.Diameter(g).getDiameter())"
   ]
  },
  {
   "cell_type": "markdown",
   "id": "f6a41ebb-018b-456d-aa8a-c91c6da94e18",
   "metadata": {},
   "source": [
    "# Centrality measures"
   ]
  },
  {
   "cell_type": "code",
   "execution_count": 12,
   "id": "b9a419ed-125a-4435-8a86-86132f57c98e",
   "metadata": {},
   "outputs": [],
   "source": [
    "centrality = {}"
   ]
  },
  {
   "cell_type": "markdown",
   "id": "2e1bd0ec-4d6d-4ffc-badd-0e363ede06ea",
   "metadata": {},
   "source": [
    "## Degree centrality"
   ]
  },
  {
   "cell_type": "code",
   "execution_count": 13,
   "id": "34619fb2-ee25-4320-9b11-53b07e35e25b",
   "metadata": {},
   "outputs": [
    {
     "name": "stdout",
     "output_type": "stream",
     "text": [
      "CPU times: user 1.04 s, sys: 97.1 ms, total: 1.14 s\n",
      "Wall time: 276 ms\n"
     ]
    },
    {
     "data": {
      "text/plain": [
       "[(1381, 160.0),\n",
       " (447, 134.0),\n",
       " (1231, 127.0),\n",
       " (452, 121.0),\n",
       " (1399, 111.0),\n",
       " (856, 92.0),\n",
       " (901, 86.0),\n",
       " (124, 85.0),\n",
       " (472, 85.0),\n",
       " (617, 85.0)]"
      ]
     },
     "execution_count": 13,
     "metadata": {},
     "output_type": "execute_result"
    }
   ],
   "source": [
    "%%time\n",
    "\n",
    "centrality[\"degree\"] = nk.centrality.DegreeCentrality(g)\n",
    "centrality[\"degree\"].run()\n",
    "centrality[\"degree\"].ranking()[:10]"
   ]
  },
  {
   "cell_type": "markdown",
   "id": "6845efde-ed7a-4f66-8249-b699d5a305ed",
   "metadata": {},
   "source": [
    "## Closeness centrality"
   ]
  },
  {
   "cell_type": "code",
   "execution_count": 14,
   "id": "c6dff7e5-d0d0-4010-97fa-b7bd7db92f3b",
   "metadata": {},
   "outputs": [
    {
     "name": "stdout",
     "output_type": "stream",
     "text": [
      "CPU times: user 2.68 s, sys: 91.6 ms, total: 2.77 s\n",
      "Wall time: 548 ms\n"
     ]
    },
    {
     "data": {
      "text/plain": [
       "[(918, 0.0009262540522642208),\n",
       " (27351, 0.0009145962690635989),\n",
       " (390165, 0.0009013610410973633),\n",
       " (928, 0.0008675344702188405),\n",
       " (196, 0.0008672229160843938),\n",
       " (1081871, 0.0008589417297619286),\n",
       " (508794, 0.0008556640410853403),\n",
       " (856, 0.0008528049316600735),\n",
       " (416, 0.0008525733233572953),\n",
       " (795, 0.0008517405740928173)]"
      ]
     },
     "execution_count": 14,
     "metadata": {},
     "output_type": "execute_result"
    }
   ],
   "source": [
    "%%time\n",
    "\n",
    "centrality[\"closeness\"] = nk.centrality.Closeness(g, True, nk.centrality.ClosenessVariant.Generalized)\n",
    "centrality[\"closeness\"].run()\n",
    "centrality[\"closeness\"].ranking()[:10]"
   ]
  },
  {
   "cell_type": "markdown",
   "id": "c6e0a09e-481f-4252-92e8-c7917c2c9c22",
   "metadata": {},
   "source": [
    "## Top-k closeness centrality"
   ]
  },
  {
   "cell_type": "code",
   "execution_count": 15,
   "id": "5e2cec62-2583-43e7-b9d5-051d9d213ab1",
   "metadata": {},
   "outputs": [
    {
     "name": "stdout",
     "output_type": "stream",
     "text": [
      "CPU times: user 3.89 s, sys: 99.5 ms, total: 3.99 s\n",
      "Wall time: 881 ms\n"
     ]
    },
    {
     "data": {
      "text/plain": [
       "[918, 27351, 390165, 928, 196, 1081871, 508794, 856, 416, 795]"
      ]
     },
     "execution_count": 15,
     "metadata": {},
     "output_type": "execute_result"
    }
   ],
   "source": [
    "%%time\n",
    "\n",
    "centrality[\"topkcloseness_0\"] = nk.centrality.TopCloseness(g, k=10000, first_heu=False, sec_heu=False)\n",
    "centrality[\"topkcloseness_0\"].run()\n",
    "centrality[\"topkcloseness_0\"].topkNodesList()[:10]"
   ]
  },
  {
   "cell_type": "code",
   "execution_count": 16,
   "id": "62c34333-4bdd-49dc-a0df-8229c81dbc9d",
   "metadata": {},
   "outputs": [
    {
     "name": "stdout",
     "output_type": "stream",
     "text": [
      "CPU times: user 3min 15s, sys: 39.8 s, total: 3min 55s\n",
      "Wall time: 40.7 s\n"
     ]
    },
    {
     "data": {
      "text/plain": [
       "[918, 27351, 390165, 928, 196, 1081871, 508794, 856, 416, 795]"
      ]
     },
     "execution_count": 16,
     "metadata": {},
     "output_type": "execute_result"
    }
   ],
   "source": [
    "%%time\n",
    "\n",
    "centrality[\"topkcloseness_1\"] = nk.centrality.TopCloseness(g, k=10000, first_heu=False, sec_heu=True)\n",
    "centrality[\"topkcloseness_1\"].run()\n",
    "centrality[\"topkcloseness_1\"].topkNodesList()[:10]"
   ]
  },
  {
   "cell_type": "markdown",
   "id": "09e5ad5e-a4e6-40c1-be76-ba74a10ff573",
   "metadata": {},
   "source": [
    "# Comparison"
   ]
  },
  {
   "cell_type": "markdown",
   "id": "6b3a6509-57f0-4a85-a607-be4ccda381ad",
   "metadata": {},
   "source": [
    "## Preprocess"
   ]
  },
  {
   "cell_type": "code",
   "execution_count": 133,
   "id": "515fa923-526d-4a7f-8b6b-7ee86e21424e",
   "metadata": {},
   "outputs": [],
   "source": [
    "normalised_scores = {}\n",
    "\n",
    "scaler = MinMaxScaler()\n",
    "normalised_scores[\"degree\"] = scaler.fit_transform(np.array([row[1] for row in centrality[\"degree\"].ranking()]).reshape(-1, 1)).flatten()\n",
    "\n",
    "scaler = MinMaxScaler()\n",
    "normalised_scores[\"closeness\"] = scaler.fit_transform(np.array([row[1] for row in centrality[\"closeness\"].ranking()]).reshape(-1, 1)).flatten()\n",
    "\n",
    "scaler = MinMaxScaler()\n",
    "normalised_scores[\"topkcloseness_0\"] = scaler.fit_transform(np.array(centrality[\"topkcloseness_0\"].topkScoresList()).reshape(-1, 1)).flatten()\n",
    "\n",
    "scaler = MinMaxScaler()\n",
    "normalised_scores[\"topkcloseness_1\"] = scaler.fit_transform(np.array(centrality[\"topkcloseness_1\"].topkScoresList()).reshape(-1, 1)).flatten()\n",
    "\n",
    "nodes = {}\n",
    "nodes[\"degree\"] = [row[0] for row in centrality[\"degree\"].ranking()]\n",
    "nodes[\"closeness\"] = [row[0] for row in centrality[\"closeness\"].ranking()]\n",
    "nodes[\"topkcloseness_0\"] = centrality[\"topkcloseness_0\"].topkNodesList()\n",
    "nodes[\"topkcloseness_1\"] = centrality[\"topkcloseness_1\"].topkNodesList()"
   ]
  },
  {
   "cell_type": "markdown",
   "id": "5531e4a4-f124-4fa3-be84-b125b83fe047",
   "metadata": {},
   "source": [
    "## NDCG degree to (top-k) closeness"
   ]
  },
  {
   "cell_type": "code",
   "execution_count": 135,
   "id": "67c2b8cd-1870-40fd-ad12-5a77f8083463",
   "metadata": {},
   "outputs": [
    {
     "name": "stdout",
     "output_type": "stream",
     "text": [
      "CPU times: user 3.74 s, sys: 29.1 ms, total: 3.77 s\n",
      "Wall time: 3.77 s\n"
     ]
    },
    {
     "data": {
      "text/html": [
       "<div>\n",
       "<style scoped>\n",
       "    .dataframe tbody tr th:only-of-type {\n",
       "        vertical-align: middle;\n",
       "    }\n",
       "\n",
       "    .dataframe tbody tr th {\n",
       "        vertical-align: top;\n",
       "    }\n",
       "\n",
       "    .dataframe thead th {\n",
       "        text-align: right;\n",
       "    }\n",
       "</style>\n",
       "<table border=\"1\" class=\"dataframe\">\n",
       "  <thead>\n",
       "    <tr style=\"text-align: right;\">\n",
       "      <th></th>\n",
       "      <th>closeness</th>\n",
       "      <th>topkcloseness_0</th>\n",
       "      <th>topkcloseness_1</th>\n",
       "    </tr>\n",
       "  </thead>\n",
       "  <tbody>\n",
       "    <tr>\n",
       "      <th>5</th>\n",
       "      <td>0.000000</td>\n",
       "      <td>0.000000</td>\n",
       "      <td>0.000000</td>\n",
       "    </tr>\n",
       "    <tr>\n",
       "      <th>10</th>\n",
       "      <td>0.301853</td>\n",
       "      <td>0.301853</td>\n",
       "      <td>0.301853</td>\n",
       "    </tr>\n",
       "    <tr>\n",
       "      <th>100</th>\n",
       "      <td>0.727953</td>\n",
       "      <td>0.727959</td>\n",
       "      <td>0.727959</td>\n",
       "    </tr>\n",
       "    <tr>\n",
       "      <th>1000</th>\n",
       "      <td>0.892102</td>\n",
       "      <td>0.892111</td>\n",
       "      <td>0.892111</td>\n",
       "    </tr>\n",
       "    <tr>\n",
       "      <th>10000</th>\n",
       "      <td>0.943927</td>\n",
       "      <td>0.943825</td>\n",
       "      <td>0.943825</td>\n",
       "    </tr>\n",
       "  </tbody>\n",
       "</table>\n",
       "</div>"
      ],
      "text/plain": [
       "       closeness  topkcloseness_0  topkcloseness_1\n",
       "5       0.000000         0.000000         0.000000\n",
       "10      0.301853         0.301853         0.301853\n",
       "100     0.727953         0.727959         0.727959\n",
       "1000    0.892102         0.892111         0.892111\n",
       "10000   0.943927         0.943825         0.943825"
      ]
     },
     "execution_count": 135,
     "metadata": {},
     "output_type": "execute_result"
    }
   ],
   "source": [
    "ndcg_scores = {}\n",
    "\n",
    "for k in [5, 10, 100, 1000, 10000]:\n",
    "    ndcg_scores[k] = {}\n",
    "    \n",
    "    for centrality_measure in [\"closeness\", \"topkcloseness_0\", \"topkcloseness_1\"]:\n",
    "        y_score = [normalised_scores[centrality_measure][index] if node in nodes[\"degree\"][:k] else 0 for index, node in enumerate(nodes[centrality_measure][:k])]\n",
    "        y_true = normalised_scores[\"degree\"][:k]\n",
    "\n",
    "        ndcg_scores[k][centrality_measure] = ndcg_score([y_score], [y_true])\n",
    "    \n",
    "pd.DataFrame(ndcg_scores).T"
   ]
  },
  {
   "cell_type": "markdown",
   "id": "608b41f0-d512-41cb-873a-b63b7f1a1e7a",
   "metadata": {},
   "source": [
    "## NDCG (top-k) closeness to degree"
   ]
  },
  {
   "cell_type": "code",
   "execution_count": 137,
   "id": "5f7e56d6-8c8c-485c-8e8c-e12fbe11b479",
   "metadata": {},
   "outputs": [
    {
     "name": "stdout",
     "output_type": "stream",
     "text": [
      "CPU times: user 4.28 s, sys: 31.3 ms, total: 4.32 s\n",
      "Wall time: 4.32 s\n"
     ]
    },
    {
     "data": {
      "text/html": [
       "<div>\n",
       "<style scoped>\n",
       "    .dataframe tbody tr th:only-of-type {\n",
       "        vertical-align: middle;\n",
       "    }\n",
       "\n",
       "    .dataframe tbody tr th {\n",
       "        vertical-align: top;\n",
       "    }\n",
       "\n",
       "    .dataframe thead th {\n",
       "        text-align: right;\n",
       "    }\n",
       "</style>\n",
       "<table border=\"1\" class=\"dataframe\">\n",
       "  <thead>\n",
       "    <tr style=\"text-align: right;\">\n",
       "      <th></th>\n",
       "      <th>closeness</th>\n",
       "      <th>topkcloseness_0</th>\n",
       "      <th>topkcloseness_1</th>\n",
       "    </tr>\n",
       "  </thead>\n",
       "  <tbody>\n",
       "    <tr>\n",
       "      <th>5</th>\n",
       "      <td>0.000000</td>\n",
       "      <td>0.000000</td>\n",
       "      <td>0.000000</td>\n",
       "    </tr>\n",
       "    <tr>\n",
       "      <th>10</th>\n",
       "      <td>0.356207</td>\n",
       "      <td>0.356207</td>\n",
       "      <td>0.356207</td>\n",
       "    </tr>\n",
       "    <tr>\n",
       "      <th>100</th>\n",
       "      <td>0.516597</td>\n",
       "      <td>0.516597</td>\n",
       "      <td>0.516597</td>\n",
       "    </tr>\n",
       "    <tr>\n",
       "      <th>1000</th>\n",
       "      <td>0.724889</td>\n",
       "      <td>0.724889</td>\n",
       "      <td>0.724889</td>\n",
       "    </tr>\n",
       "    <tr>\n",
       "      <th>10000</th>\n",
       "      <td>0.994682</td>\n",
       "      <td>0.994682</td>\n",
       "      <td>0.994682</td>\n",
       "    </tr>\n",
       "  </tbody>\n",
       "</table>\n",
       "</div>"
      ],
      "text/plain": [
       "       closeness  topkcloseness_0  topkcloseness_1\n",
       "5       0.000000         0.000000         0.000000\n",
       "10      0.356207         0.356207         0.356207\n",
       "100     0.516597         0.516597         0.516597\n",
       "1000    0.724889         0.724889         0.724889\n",
       "10000   0.994682         0.994682         0.994682"
      ]
     },
     "execution_count": 137,
     "metadata": {},
     "output_type": "execute_result"
    }
   ],
   "source": [
    "ndcg_scores = {}\n",
    "\n",
    "for k in [5, 10, 100, 1000, 10000]:\n",
    "    ndcg_scores[k] = {}\n",
    "    \n",
    "    for centrality_measure in [\"closeness\", \"topkcloseness_0\", \"topkcloseness_1\"]:\n",
    "        y_score = [normalised_scores[\"degree\"][index] if node in nodes[centrality_measure][:k] else 0 for index, node in enumerate(nodes[\"degree\"][:k])]\n",
    "        y_true = normalised_scores[centrality_measure][:k]\n",
    "\n",
    "        ndcg_scores[k][centrality_measure] = ndcg_score([y_score], [y_true])\n",
    "    \n",
    "pd.DataFrame(ndcg_scores).T"
   ]
  },
  {
   "cell_type": "markdown",
   "id": "68722b94-fb72-4866-bd92-ebbbb54dc5ab",
   "metadata": {},
   "source": [
    "## Kendall tau degree to (top k) closeness centrality correlation"
   ]
  },
  {
   "cell_type": "code",
   "execution_count": 140,
   "id": "0e43494b-8fbb-42c0-83bf-a8782b7332ee",
   "metadata": {},
   "outputs": [
    {
     "data": {
      "text/html": [
       "<div>\n",
       "<style scoped>\n",
       "    .dataframe tbody tr th:only-of-type {\n",
       "        vertical-align: middle;\n",
       "    }\n",
       "\n",
       "    .dataframe tbody tr th {\n",
       "        vertical-align: top;\n",
       "    }\n",
       "\n",
       "    .dataframe thead th {\n",
       "        text-align: right;\n",
       "    }\n",
       "</style>\n",
       "<table border=\"1\" class=\"dataframe\">\n",
       "  <thead>\n",
       "    <tr style=\"text-align: right;\">\n",
       "      <th></th>\n",
       "      <th>closeness</th>\n",
       "      <th>topkcloseness_0</th>\n",
       "      <th>topkcloseness_1</th>\n",
       "    </tr>\n",
       "  </thead>\n",
       "  <tbody>\n",
       "    <tr>\n",
       "      <th>5</th>\n",
       "      <td>NaN</td>\n",
       "      <td>NaN</td>\n",
       "      <td>NaN</td>\n",
       "    </tr>\n",
       "    <tr>\n",
       "      <th>10</th>\n",
       "      <td>-0.360041</td>\n",
       "      <td>-0.360041</td>\n",
       "      <td>-0.360041</td>\n",
       "    </tr>\n",
       "    <tr>\n",
       "      <th>100</th>\n",
       "      <td>0.213119</td>\n",
       "      <td>0.213119</td>\n",
       "      <td>0.213119</td>\n",
       "    </tr>\n",
       "    <tr>\n",
       "      <th>1000</th>\n",
       "      <td>0.310668</td>\n",
       "      <td>0.310668</td>\n",
       "      <td>0.310668</td>\n",
       "    </tr>\n",
       "    <tr>\n",
       "      <th>10000</th>\n",
       "      <td>0.322817</td>\n",
       "      <td>0.327122</td>\n",
       "      <td>0.327122</td>\n",
       "    </tr>\n",
       "  </tbody>\n",
       "</table>\n",
       "</div>"
      ],
      "text/plain": [
       "       closeness  topkcloseness_0  topkcloseness_1\n",
       "5            NaN              NaN              NaN\n",
       "10     -0.360041        -0.360041        -0.360041\n",
       "100     0.213119         0.213119         0.213119\n",
       "1000    0.310668         0.310668         0.310668\n",
       "10000   0.322817         0.327122         0.327122"
      ]
     },
     "execution_count": 140,
     "metadata": {},
     "output_type": "execute_result"
    }
   ],
   "source": [
    "kendall_tau_corr = {}\n",
    "\n",
    "for k in [5, 10, 100, 1000, 10000]:\n",
    "    kendall_tau_corr[k] = {}\n",
    "    \n",
    "    for centrality_measure in [\"closeness\", \"topkcloseness_0\", \"topkcloseness_1\"]:\n",
    "        y_score = [normalised_scores[centrality_measure][index] if node in nodes[\"degree\"][:k] else 0 for index, node in enumerate(nodes[centrality_measure][:k])]\n",
    "        y_true = normalised_scores[\"degree\"][:k]\n",
    "\n",
    "        corr, _ = kendalltau([y_true], [y_score])\n",
    "        kendall_tau_corr[k][centrality_measure] = corr\n",
    "    \n",
    "pd.DataFrame(kendall_tau_corr).T"
   ]
  },
  {
   "cell_type": "markdown",
   "id": "0ce96b5f-74ac-450a-b577-597593716192",
   "metadata": {},
   "source": [
    "## Kendall tau (top k) closeness to degree centrality correlation"
   ]
  },
  {
   "cell_type": "code",
   "execution_count": 141,
   "id": "22ceca4f-7879-4a77-b5b0-1e9ae3dd610c",
   "metadata": {},
   "outputs": [
    {
     "data": {
      "text/html": [
       "<div>\n",
       "<style scoped>\n",
       "    .dataframe tbody tr th:only-of-type {\n",
       "        vertical-align: middle;\n",
       "    }\n",
       "\n",
       "    .dataframe tbody tr th {\n",
       "        vertical-align: top;\n",
       "    }\n",
       "\n",
       "    .dataframe thead th {\n",
       "        text-align: right;\n",
       "    }\n",
       "</style>\n",
       "<table border=\"1\" class=\"dataframe\">\n",
       "  <thead>\n",
       "    <tr style=\"text-align: right;\">\n",
       "      <th></th>\n",
       "      <th>closeness</th>\n",
       "      <th>topkcloseness_0</th>\n",
       "      <th>topkcloseness_1</th>\n",
       "    </tr>\n",
       "  </thead>\n",
       "  <tbody>\n",
       "    <tr>\n",
       "      <th>5</th>\n",
       "      <td>NaN</td>\n",
       "      <td>NaN</td>\n",
       "      <td>NaN</td>\n",
       "    </tr>\n",
       "    <tr>\n",
       "      <th>10</th>\n",
       "      <td>-0.049690</td>\n",
       "      <td>-0.049690</td>\n",
       "      <td>-0.049690</td>\n",
       "    </tr>\n",
       "    <tr>\n",
       "      <th>100</th>\n",
       "      <td>0.068144</td>\n",
       "      <td>0.068144</td>\n",
       "      <td>0.068144</td>\n",
       "    </tr>\n",
       "    <tr>\n",
       "      <th>1000</th>\n",
       "      <td>0.151910</td>\n",
       "      <td>0.151910</td>\n",
       "      <td>0.151910</td>\n",
       "    </tr>\n",
       "    <tr>\n",
       "      <th>10000</th>\n",
       "      <td>0.205205</td>\n",
       "      <td>0.205206</td>\n",
       "      <td>0.205206</td>\n",
       "    </tr>\n",
       "  </tbody>\n",
       "</table>\n",
       "</div>"
      ],
      "text/plain": [
       "       closeness  topkcloseness_0  topkcloseness_1\n",
       "5            NaN              NaN              NaN\n",
       "10     -0.049690        -0.049690        -0.049690\n",
       "100     0.068144         0.068144         0.068144\n",
       "1000    0.151910         0.151910         0.151910\n",
       "10000   0.205205         0.205206         0.205206"
      ]
     },
     "execution_count": 141,
     "metadata": {},
     "output_type": "execute_result"
    }
   ],
   "source": [
    "kendall_tau_corr = {}\n",
    "\n",
    "for k in [5, 10, 100, 1000, 10000]:\n",
    "    kendall_tau_corr[k] = {}\n",
    "    \n",
    "    for centrality_measure in [\"closeness\", \"topkcloseness_0\", \"topkcloseness_1\"]:\n",
    "        y_score = [normalised_scores[\"degree\"][index] if node in nodes[centrality_measure][:k] else 0 for index, node in enumerate(nodes[\"degree\"][:k])]\n",
    "        y_true = normalised_scores[centrality_measure][:k]\n",
    "\n",
    "        corr, _ = kendalltau([y_true], [y_score])\n",
    "        kendall_tau_corr[k][centrality_measure] = corr\n",
    "    \n",
    "pd.DataFrame(kendall_tau_corr).T"
   ]
  },
  {
   "cell_type": "code",
   "execution_count": null,
   "id": "753af7b9-73c0-4f48-aada-dd765f12149d",
   "metadata": {},
   "outputs": [],
   "source": []
  }
 ],
 "metadata": {
  "kernelspec": {
   "display_name": "Python 3 (ipykernel)",
   "language": "python",
   "name": "python3"
  },
  "language_info": {
   "codemirror_mode": {
    "name": "ipython",
    "version": 3
   },
   "file_extension": ".py",
   "mimetype": "text/x-python",
   "name": "python",
   "nbconvert_exporter": "python",
   "pygments_lexer": "ipython3",
   "version": "3.9.13"
  }
 },
 "nbformat": 4,
 "nbformat_minor": 5
}
