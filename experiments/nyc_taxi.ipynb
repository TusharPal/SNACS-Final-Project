{
 "cells": [
  {
   "cell_type": "markdown",
   "metadata": {},
   "source": [
    "# Imports"
   ]
  },
  {
   "cell_type": "code",
   "execution_count": 67,
   "metadata": {},
   "outputs": [],
   "source": [
    "import pandas as pd \n",
    "import matplotlib.pyplot as plt\n",
    "import networkit as nk\n",
    "import networkx as nx\n",
    "import tqdm\n",
    "import numpy as np\n",
    "import glob\n",
    "\n",
    "from sklearn.metrics import ndcg_score"
   ]
  },
  {
   "cell_type": "markdown",
   "metadata": {},
   "source": [
    "# Load source data"
   ]
  },
  {
   "cell_type": "code",
   "execution_count": 211,
   "metadata": {},
   "outputs": [
    {
     "data": {
      "text/html": [
       "<div>\n",
       "<style scoped>\n",
       "    .dataframe tbody tr th:only-of-type {\n",
       "        vertical-align: middle;\n",
       "    }\n",
       "\n",
       "    .dataframe tbody tr th {\n",
       "        vertical-align: top;\n",
       "    }\n",
       "\n",
       "    .dataframe thead th {\n",
       "        text-align: right;\n",
       "    }\n",
       "</style>\n",
       "<table border=\"1\" class=\"dataframe\">\n",
       "  <thead>\n",
       "    <tr style=\"text-align: right;\">\n",
       "      <th></th>\n",
       "      <th>VendorID</th>\n",
       "      <th>tpep_pickup_datetime</th>\n",
       "      <th>tpep_dropoff_datetime</th>\n",
       "      <th>passenger_count</th>\n",
       "      <th>trip_distance</th>\n",
       "      <th>RatecodeID</th>\n",
       "      <th>store_and_fwd_flag</th>\n",
       "      <th>PULocationID</th>\n",
       "      <th>DOLocationID</th>\n",
       "      <th>payment_type</th>\n",
       "      <th>fare_amount</th>\n",
       "      <th>extra</th>\n",
       "      <th>mta_tax</th>\n",
       "      <th>tip_amount</th>\n",
       "      <th>tolls_amount</th>\n",
       "      <th>improvement_surcharge</th>\n",
       "      <th>total_amount</th>\n",
       "      <th>congestion_surcharge</th>\n",
       "      <th>airport_fee</th>\n",
       "    </tr>\n",
       "  </thead>\n",
       "  <tbody>\n",
       "    <tr>\n",
       "      <th>0</th>\n",
       "      <td>1</td>\n",
       "      <td>2019-06-01 00:55:13</td>\n",
       "      <td>2019-06-01 00:56:17</td>\n",
       "      <td>1.0</td>\n",
       "      <td>0.0</td>\n",
       "      <td>1.0</td>\n",
       "      <td>N</td>\n",
       "      <td>145</td>\n",
       "      <td>145</td>\n",
       "      <td>2</td>\n",
       "      <td>3.0</td>\n",
       "      <td>0.5</td>\n",
       "      <td>0.5</td>\n",
       "      <td>0.00</td>\n",
       "      <td>0.0</td>\n",
       "      <td>0.3</td>\n",
       "      <td>4.30</td>\n",
       "      <td>0.0</td>\n",
       "      <td>None</td>\n",
       "    </tr>\n",
       "    <tr>\n",
       "      <th>1</th>\n",
       "      <td>1</td>\n",
       "      <td>2019-06-01 00:06:31</td>\n",
       "      <td>2019-06-01 00:06:52</td>\n",
       "      <td>1.0</td>\n",
       "      <td>0.0</td>\n",
       "      <td>1.0</td>\n",
       "      <td>N</td>\n",
       "      <td>262</td>\n",
       "      <td>263</td>\n",
       "      <td>2</td>\n",
       "      <td>2.5</td>\n",
       "      <td>3.0</td>\n",
       "      <td>0.5</td>\n",
       "      <td>0.00</td>\n",
       "      <td>0.0</td>\n",
       "      <td>0.3</td>\n",
       "      <td>6.30</td>\n",
       "      <td>2.5</td>\n",
       "      <td>None</td>\n",
       "    </tr>\n",
       "    <tr>\n",
       "      <th>2</th>\n",
       "      <td>1</td>\n",
       "      <td>2019-06-01 00:17:05</td>\n",
       "      <td>2019-06-01 00:36:38</td>\n",
       "      <td>1.0</td>\n",
       "      <td>4.4</td>\n",
       "      <td>1.0</td>\n",
       "      <td>N</td>\n",
       "      <td>74</td>\n",
       "      <td>7</td>\n",
       "      <td>2</td>\n",
       "      <td>17.5</td>\n",
       "      <td>0.5</td>\n",
       "      <td>0.5</td>\n",
       "      <td>0.00</td>\n",
       "      <td>0.0</td>\n",
       "      <td>0.3</td>\n",
       "      <td>18.80</td>\n",
       "      <td>0.0</td>\n",
       "      <td>None</td>\n",
       "    </tr>\n",
       "    <tr>\n",
       "      <th>3</th>\n",
       "      <td>1</td>\n",
       "      <td>2019-06-01 00:59:02</td>\n",
       "      <td>2019-06-01 00:59:12</td>\n",
       "      <td>0.0</td>\n",
       "      <td>0.8</td>\n",
       "      <td>1.0</td>\n",
       "      <td>N</td>\n",
       "      <td>145</td>\n",
       "      <td>145</td>\n",
       "      <td>2</td>\n",
       "      <td>2.5</td>\n",
       "      <td>1.0</td>\n",
       "      <td>0.5</td>\n",
       "      <td>0.00</td>\n",
       "      <td>0.0</td>\n",
       "      <td>0.3</td>\n",
       "      <td>4.30</td>\n",
       "      <td>0.0</td>\n",
       "      <td>None</td>\n",
       "    </tr>\n",
       "    <tr>\n",
       "      <th>4</th>\n",
       "      <td>1</td>\n",
       "      <td>2019-06-01 00:03:25</td>\n",
       "      <td>2019-06-01 00:15:42</td>\n",
       "      <td>1.0</td>\n",
       "      <td>1.7</td>\n",
       "      <td>1.0</td>\n",
       "      <td>N</td>\n",
       "      <td>113</td>\n",
       "      <td>148</td>\n",
       "      <td>1</td>\n",
       "      <td>9.5</td>\n",
       "      <td>3.0</td>\n",
       "      <td>0.5</td>\n",
       "      <td>2.65</td>\n",
       "      <td>0.0</td>\n",
       "      <td>0.3</td>\n",
       "      <td>15.95</td>\n",
       "      <td>2.5</td>\n",
       "      <td>None</td>\n",
       "    </tr>\n",
       "  </tbody>\n",
       "</table>\n",
       "</div>"
      ],
      "text/plain": [
       "   VendorID tpep_pickup_datetime tpep_dropoff_datetime  passenger_count  \\\n",
       "0         1  2019-06-01 00:55:13   2019-06-01 00:56:17              1.0   \n",
       "1         1  2019-06-01 00:06:31   2019-06-01 00:06:52              1.0   \n",
       "2         1  2019-06-01 00:17:05   2019-06-01 00:36:38              1.0   \n",
       "3         1  2019-06-01 00:59:02   2019-06-01 00:59:12              0.0   \n",
       "4         1  2019-06-01 00:03:25   2019-06-01 00:15:42              1.0   \n",
       "\n",
       "   trip_distance  RatecodeID store_and_fwd_flag  PULocationID  DOLocationID  \\\n",
       "0            0.0         1.0                  N           145           145   \n",
       "1            0.0         1.0                  N           262           263   \n",
       "2            4.4         1.0                  N            74             7   \n",
       "3            0.8         1.0                  N           145           145   \n",
       "4            1.7         1.0                  N           113           148   \n",
       "\n",
       "   payment_type  fare_amount  extra  mta_tax  tip_amount  tolls_amount  \\\n",
       "0             2          3.0    0.5      0.5        0.00           0.0   \n",
       "1             2          2.5    3.0      0.5        0.00           0.0   \n",
       "2             2         17.5    0.5      0.5        0.00           0.0   \n",
       "3             2          2.5    1.0      0.5        0.00           0.0   \n",
       "4             1          9.5    3.0      0.5        2.65           0.0   \n",
       "\n",
       "   improvement_surcharge  total_amount  congestion_surcharge airport_fee  \n",
       "0                    0.3          4.30                   0.0        None  \n",
       "1                    0.3          6.30                   2.5        None  \n",
       "2                    0.3         18.80                   0.0        None  \n",
       "3                    0.3          4.30                   0.0        None  \n",
       "4                    0.3         15.95                   2.5        None  "
      ]
     },
     "execution_count": 211,
     "metadata": {},
     "output_type": "execute_result"
    }
   ],
   "source": [
    "nyc_taxi_df = pd.concat([pd.read_parquet(filepath) for filepath in glob.glob(\"../data/nyc_taxi/yellow*.parquet\")[:3]], ignore_index=True)\n",
    "\n",
    "nyc_taxi_df.head()"
   ]
  },
  {
   "cell_type": "code",
   "execution_count": 71,
   "metadata": {},
   "outputs": [
    {
     "data": {
      "text/html": [
       "<div>\n",
       "<style scoped>\n",
       "    .dataframe tbody tr th:only-of-type {\n",
       "        vertical-align: middle;\n",
       "    }\n",
       "\n",
       "    .dataframe tbody tr th {\n",
       "        vertical-align: top;\n",
       "    }\n",
       "\n",
       "    .dataframe thead th {\n",
       "        text-align: right;\n",
       "    }\n",
       "</style>\n",
       "<table border=\"1\" class=\"dataframe\">\n",
       "  <thead>\n",
       "    <tr style=\"text-align: right;\">\n",
       "      <th></th>\n",
       "      <th>PULocationID</th>\n",
       "      <th>DOLocationID</th>\n",
       "      <th>tpep_dropoff_datetime</th>\n",
       "    </tr>\n",
       "  </thead>\n",
       "  <tbody>\n",
       "    <tr>\n",
       "      <th>0</th>\n",
       "      <td>1</td>\n",
       "      <td>1</td>\n",
       "      <td>1748</td>\n",
       "    </tr>\n",
       "    <tr>\n",
       "      <th>1</th>\n",
       "      <td>1</td>\n",
       "      <td>16</td>\n",
       "      <td>1</td>\n",
       "    </tr>\n",
       "    <tr>\n",
       "      <th>2</th>\n",
       "      <td>1</td>\n",
       "      <td>21</td>\n",
       "      <td>1</td>\n",
       "    </tr>\n",
       "    <tr>\n",
       "      <th>3</th>\n",
       "      <td>1</td>\n",
       "      <td>23</td>\n",
       "      <td>1</td>\n",
       "    </tr>\n",
       "    <tr>\n",
       "      <th>4</th>\n",
       "      <td>1</td>\n",
       "      <td>43</td>\n",
       "      <td>1</td>\n",
       "    </tr>\n",
       "  </tbody>\n",
       "</table>\n",
       "</div>"
      ],
      "text/plain": [
       "   PULocationID  DOLocationID  tpep_dropoff_datetime\n",
       "0             1             1                   1748\n",
       "1             1            16                      1\n",
       "2             1            21                      1\n",
       "3             1            23                      1\n",
       "4             1            43                      1"
      ]
     },
     "execution_count": 71,
     "metadata": {},
     "output_type": "execute_result"
    }
   ],
   "source": [
    "nyc_taxi_weighted_df = nyc_taxi_df[[\"PULocationID\", \"DOLocationID\", \"tpep_dropoff_datetime\"]].groupby(by=[\"PULocationID\", \"DOLocationID\"])[\"tpep_dropoff_datetime\"].count().reset_index()\n",
    "\n",
    "nyc_taxi_weighted_df.head()"
   ]
  },
  {
   "cell_type": "code",
   "execution_count": 156,
   "metadata": {},
   "outputs": [
    {
     "data": {
      "text/html": [
       "<div>\n",
       "<style scoped>\n",
       "    .dataframe tbody tr th:only-of-type {\n",
       "        vertical-align: middle;\n",
       "    }\n",
       "\n",
       "    .dataframe tbody tr th {\n",
       "        vertical-align: top;\n",
       "    }\n",
       "\n",
       "    .dataframe thead th {\n",
       "        text-align: right;\n",
       "    }\n",
       "</style>\n",
       "<table border=\"1\" class=\"dataframe\">\n",
       "  <thead>\n",
       "    <tr style=\"text-align: right;\">\n",
       "      <th></th>\n",
       "      <th>PULocationID</th>\n",
       "      <th>total_amount</th>\n",
       "    </tr>\n",
       "  </thead>\n",
       "  <tbody>\n",
       "    <tr>\n",
       "      <th>128</th>\n",
       "      <td>132</td>\n",
       "      <td>40446499.93</td>\n",
       "    </tr>\n",
       "    <tr>\n",
       "      <th>134</th>\n",
       "      <td>138</td>\n",
       "      <td>23929887.32</td>\n",
       "    </tr>\n",
       "    <tr>\n",
       "      <th>157</th>\n",
       "      <td>161</td>\n",
       "      <td>15480609.56</td>\n",
       "    </tr>\n",
       "    <tr>\n",
       "      <th>226</th>\n",
       "      <td>230</td>\n",
       "      <td>13908667.26</td>\n",
       "    </tr>\n",
       "    <tr>\n",
       "      <th>158</th>\n",
       "      <td>162</td>\n",
       "      <td>13614055.41</td>\n",
       "    </tr>\n",
       "  </tbody>\n",
       "</table>\n",
       "</div>"
      ],
      "text/plain": [
       "     PULocationID  total_amount\n",
       "128           132   40446499.93\n",
       "134           138   23929887.32\n",
       "157           161   15480609.56\n",
       "226           230   13908667.26\n",
       "158           162   13614055.41"
      ]
     },
     "execution_count": 156,
     "metadata": {},
     "output_type": "execute_result"
    }
   ],
   "source": [
    "PU_total_revenue_df = nyc_taxi_df.groupby(\"PULocationID\")[\"total_amount\"].sum().reset_index().sort_values(\"total_amount\", ascending=False)\n",
    "\n",
    "PU_total_revenue_df.head()"
   ]
  },
  {
   "cell_type": "code",
   "execution_count": 193,
   "metadata": {},
   "outputs": [
    {
     "data": {
      "text/html": [
       "<div>\n",
       "<style scoped>\n",
       "    .dataframe tbody tr th:only-of-type {\n",
       "        vertical-align: middle;\n",
       "    }\n",
       "\n",
       "    .dataframe tbody tr th {\n",
       "        vertical-align: top;\n",
       "    }\n",
       "\n",
       "    .dataframe thead th {\n",
       "        text-align: right;\n",
       "    }\n",
       "</style>\n",
       "<table border=\"1\" class=\"dataframe\">\n",
       "  <thead>\n",
       "    <tr style=\"text-align: right;\">\n",
       "      <th></th>\n",
       "      <th>PULocationID</th>\n",
       "      <th>total_amount</th>\n",
       "      <th>trip_distance</th>\n",
       "      <th>unit_revenue</th>\n",
       "    </tr>\n",
       "  </thead>\n",
       "  <tbody>\n",
       "    <tr>\n",
       "      <th>0</th>\n",
       "      <td>1</td>\n",
       "      <td>218325.22</td>\n",
       "      <td>3592.86</td>\n",
       "      <td>60.766414</td>\n",
       "    </tr>\n",
       "    <tr>\n",
       "      <th>261</th>\n",
       "      <td>265</td>\n",
       "      <td>1046910.47</td>\n",
       "      <td>38429.74</td>\n",
       "      <td>27.242195</td>\n",
       "    </tr>\n",
       "    <tr>\n",
       "      <th>29</th>\n",
       "      <td>30</td>\n",
       "      <td>2312.17</td>\n",
       "      <td>141.31</td>\n",
       "      <td>16.362395</td>\n",
       "    </tr>\n",
       "    <tr>\n",
       "      <th>195</th>\n",
       "      <td>199</td>\n",
       "      <td>15.36</td>\n",
       "      <td>0.95</td>\n",
       "      <td>16.168421</td>\n",
       "    </tr>\n",
       "    <tr>\n",
       "      <th>95</th>\n",
       "      <td>96</td>\n",
       "      <td>12510.82</td>\n",
       "      <td>796.87</td>\n",
       "      <td>15.699951</td>\n",
       "    </tr>\n",
       "  </tbody>\n",
       "</table>\n",
       "</div>"
      ],
      "text/plain": [
       "     PULocationID  total_amount  trip_distance  unit_revenue\n",
       "0               1     218325.22        3592.86     60.766414\n",
       "261           265    1046910.47       38429.74     27.242195\n",
       "29             30       2312.17         141.31     16.362395\n",
       "195           199         15.36           0.95     16.168421\n",
       "95             96      12510.82         796.87     15.699951"
      ]
     },
     "execution_count": 193,
     "metadata": {},
     "output_type": "execute_result"
    }
   ],
   "source": [
    "unit_revenue_df = nyc_taxi_df.groupby(\"PULocationID\")[[\"total_amount\", \"trip_distance\"]].sum().reset_index()\n",
    "unit_revenue_df[\"unit_revenue\"] = unit_revenue_df[\"total_amount\"]/unit_revenue_df[\"trip_distance\"]\n",
    "unit_revenue_df.sort_values(\"unit_revenue\", ascending=False, inplace=True)\n",
    "\n",
    "unit_revenue_df.head()"
   ]
  },
  {
   "cell_type": "code",
   "execution_count": 190,
   "metadata": {},
   "outputs": [
    {
     "data": {
      "text/html": [
       "<div>\n",
       "<style scoped>\n",
       "    .dataframe tbody tr th:only-of-type {\n",
       "        vertical-align: middle;\n",
       "    }\n",
       "\n",
       "    .dataframe tbody tr th {\n",
       "        vertical-align: top;\n",
       "    }\n",
       "\n",
       "    .dataframe thead th {\n",
       "        text-align: right;\n",
       "    }\n",
       "</style>\n",
       "<table border=\"1\" class=\"dataframe\">\n",
       "  <thead>\n",
       "    <tr style=\"text-align: right;\">\n",
       "      <th></th>\n",
       "      <th>VendorID</th>\n",
       "      <th>tpep_pickup_datetime</th>\n",
       "      <th>tpep_dropoff_datetime</th>\n",
       "      <th>passenger_count</th>\n",
       "      <th>trip_distance</th>\n",
       "      <th>RatecodeID</th>\n",
       "      <th>store_and_fwd_flag</th>\n",
       "      <th>PULocationID</th>\n",
       "      <th>DOLocationID</th>\n",
       "      <th>payment_type</th>\n",
       "      <th>fare_amount</th>\n",
       "      <th>extra</th>\n",
       "      <th>mta_tax</th>\n",
       "      <th>tip_amount</th>\n",
       "      <th>tolls_amount</th>\n",
       "      <th>improvement_surcharge</th>\n",
       "      <th>total_amount</th>\n",
       "      <th>congestion_surcharge</th>\n",
       "      <th>airport_fee</th>\n",
       "      <th>unit_revenue</th>\n",
       "    </tr>\n",
       "  </thead>\n",
       "  <tbody>\n",
       "    <tr>\n",
       "      <th>0</th>\n",
       "      <td>1</td>\n",
       "      <td>2019-06-01 00:55:13</td>\n",
       "      <td>2019-06-01 00:56:17</td>\n",
       "      <td>1.0</td>\n",
       "      <td>0.1</td>\n",
       "      <td>1.0</td>\n",
       "      <td>N</td>\n",
       "      <td>145</td>\n",
       "      <td>145</td>\n",
       "      <td>2</td>\n",
       "      <td>3.0</td>\n",
       "      <td>0.5</td>\n",
       "      <td>0.5</td>\n",
       "      <td>0.00</td>\n",
       "      <td>0.0</td>\n",
       "      <td>0.3</td>\n",
       "      <td>4.30</td>\n",
       "      <td>0.0</td>\n",
       "      <td>None</td>\n",
       "      <td>43.000000</td>\n",
       "    </tr>\n",
       "    <tr>\n",
       "      <th>1</th>\n",
       "      <td>1</td>\n",
       "      <td>2019-06-01 00:06:31</td>\n",
       "      <td>2019-06-01 00:06:52</td>\n",
       "      <td>1.0</td>\n",
       "      <td>0.1</td>\n",
       "      <td>1.0</td>\n",
       "      <td>N</td>\n",
       "      <td>262</td>\n",
       "      <td>263</td>\n",
       "      <td>2</td>\n",
       "      <td>2.5</td>\n",
       "      <td>3.0</td>\n",
       "      <td>0.5</td>\n",
       "      <td>0.00</td>\n",
       "      <td>0.0</td>\n",
       "      <td>0.3</td>\n",
       "      <td>6.30</td>\n",
       "      <td>2.5</td>\n",
       "      <td>None</td>\n",
       "      <td>63.000000</td>\n",
       "    </tr>\n",
       "    <tr>\n",
       "      <th>2</th>\n",
       "      <td>1</td>\n",
       "      <td>2019-06-01 00:17:05</td>\n",
       "      <td>2019-06-01 00:36:38</td>\n",
       "      <td>1.0</td>\n",
       "      <td>4.5</td>\n",
       "      <td>1.0</td>\n",
       "      <td>N</td>\n",
       "      <td>74</td>\n",
       "      <td>7</td>\n",
       "      <td>2</td>\n",
       "      <td>17.5</td>\n",
       "      <td>0.5</td>\n",
       "      <td>0.5</td>\n",
       "      <td>0.00</td>\n",
       "      <td>0.0</td>\n",
       "      <td>0.3</td>\n",
       "      <td>18.80</td>\n",
       "      <td>0.0</td>\n",
       "      <td>None</td>\n",
       "      <td>4.177778</td>\n",
       "    </tr>\n",
       "    <tr>\n",
       "      <th>3</th>\n",
       "      <td>1</td>\n",
       "      <td>2019-06-01 00:59:02</td>\n",
       "      <td>2019-06-01 00:59:12</td>\n",
       "      <td>0.0</td>\n",
       "      <td>0.9</td>\n",
       "      <td>1.0</td>\n",
       "      <td>N</td>\n",
       "      <td>145</td>\n",
       "      <td>145</td>\n",
       "      <td>2</td>\n",
       "      <td>2.5</td>\n",
       "      <td>1.0</td>\n",
       "      <td>0.5</td>\n",
       "      <td>0.00</td>\n",
       "      <td>0.0</td>\n",
       "      <td>0.3</td>\n",
       "      <td>4.30</td>\n",
       "      <td>0.0</td>\n",
       "      <td>None</td>\n",
       "      <td>4.777778</td>\n",
       "    </tr>\n",
       "    <tr>\n",
       "      <th>4</th>\n",
       "      <td>1</td>\n",
       "      <td>2019-06-01 00:03:25</td>\n",
       "      <td>2019-06-01 00:15:42</td>\n",
       "      <td>1.0</td>\n",
       "      <td>1.8</td>\n",
       "      <td>1.0</td>\n",
       "      <td>N</td>\n",
       "      <td>113</td>\n",
       "      <td>148</td>\n",
       "      <td>1</td>\n",
       "      <td>9.5</td>\n",
       "      <td>3.0</td>\n",
       "      <td>0.5</td>\n",
       "      <td>2.65</td>\n",
       "      <td>0.0</td>\n",
       "      <td>0.3</td>\n",
       "      <td>15.95</td>\n",
       "      <td>2.5</td>\n",
       "      <td>None</td>\n",
       "      <td>8.861111</td>\n",
       "    </tr>\n",
       "    <tr>\n",
       "      <th>5</th>\n",
       "      <td>1</td>\n",
       "      <td>2019-06-01 00:28:31</td>\n",
       "      <td>2019-06-01 00:39:23</td>\n",
       "      <td>2.0</td>\n",
       "      <td>1.7</td>\n",
       "      <td>1.0</td>\n",
       "      <td>N</td>\n",
       "      <td>79</td>\n",
       "      <td>125</td>\n",
       "      <td>1</td>\n",
       "      <td>9.5</td>\n",
       "      <td>3.0</td>\n",
       "      <td>0.5</td>\n",
       "      <td>1.00</td>\n",
       "      <td>0.0</td>\n",
       "      <td>0.3</td>\n",
       "      <td>14.30</td>\n",
       "      <td>2.5</td>\n",
       "      <td>None</td>\n",
       "      <td>8.411765</td>\n",
       "    </tr>\n",
       "    <tr>\n",
       "      <th>6</th>\n",
       "      <td>1</td>\n",
       "      <td>2019-06-01 00:46:46</td>\n",
       "      <td>2019-06-01 00:50:55</td>\n",
       "      <td>4.0</td>\n",
       "      <td>0.7</td>\n",
       "      <td>1.0</td>\n",
       "      <td>N</td>\n",
       "      <td>211</td>\n",
       "      <td>148</td>\n",
       "      <td>2</td>\n",
       "      <td>4.5</td>\n",
       "      <td>3.0</td>\n",
       "      <td>0.5</td>\n",
       "      <td>0.00</td>\n",
       "      <td>0.0</td>\n",
       "      <td>0.3</td>\n",
       "      <td>8.30</td>\n",
       "      <td>2.5</td>\n",
       "      <td>None</td>\n",
       "      <td>11.857143</td>\n",
       "    </tr>\n",
       "    <tr>\n",
       "      <th>7</th>\n",
       "      <td>1</td>\n",
       "      <td>2019-06-01 00:54:49</td>\n",
       "      <td>2019-06-01 01:02:57</td>\n",
       "      <td>2.0</td>\n",
       "      <td>1.3</td>\n",
       "      <td>1.0</td>\n",
       "      <td>N</td>\n",
       "      <td>79</td>\n",
       "      <td>249</td>\n",
       "      <td>1</td>\n",
       "      <td>7.5</td>\n",
       "      <td>3.0</td>\n",
       "      <td>0.5</td>\n",
       "      <td>1.00</td>\n",
       "      <td>0.0</td>\n",
       "      <td>0.3</td>\n",
       "      <td>12.30</td>\n",
       "      <td>2.5</td>\n",
       "      <td>None</td>\n",
       "      <td>9.461538</td>\n",
       "    </tr>\n",
       "    <tr>\n",
       "      <th>8</th>\n",
       "      <td>1</td>\n",
       "      <td>2019-06-01 00:09:57</td>\n",
       "      <td>2019-06-01 00:25:54</td>\n",
       "      <td>2.0</td>\n",
       "      <td>2.1</td>\n",
       "      <td>1.0</td>\n",
       "      <td>N</td>\n",
       "      <td>158</td>\n",
       "      <td>68</td>\n",
       "      <td>2</td>\n",
       "      <td>11.5</td>\n",
       "      <td>3.0</td>\n",
       "      <td>0.5</td>\n",
       "      <td>0.00</td>\n",
       "      <td>0.0</td>\n",
       "      <td>0.3</td>\n",
       "      <td>15.30</td>\n",
       "      <td>2.5</td>\n",
       "      <td>None</td>\n",
       "      <td>7.285714</td>\n",
       "    </tr>\n",
       "    <tr>\n",
       "      <th>9</th>\n",
       "      <td>1</td>\n",
       "      <td>2019-06-01 00:29:12</td>\n",
       "      <td>2019-06-01 01:03:13</td>\n",
       "      <td>1.0</td>\n",
       "      <td>8.7</td>\n",
       "      <td>1.0</td>\n",
       "      <td>N</td>\n",
       "      <td>186</td>\n",
       "      <td>243</td>\n",
       "      <td>1</td>\n",
       "      <td>31.5</td>\n",
       "      <td>3.0</td>\n",
       "      <td>0.5</td>\n",
       "      <td>7.05</td>\n",
       "      <td>0.0</td>\n",
       "      <td>0.3</td>\n",
       "      <td>42.35</td>\n",
       "      <td>2.5</td>\n",
       "      <td>None</td>\n",
       "      <td>4.867816</td>\n",
       "    </tr>\n",
       "  </tbody>\n",
       "</table>\n",
       "</div>"
      ],
      "text/plain": [
       "   VendorID tpep_pickup_datetime tpep_dropoff_datetime  passenger_count  \\\n",
       "0         1  2019-06-01 00:55:13   2019-06-01 00:56:17              1.0   \n",
       "1         1  2019-06-01 00:06:31   2019-06-01 00:06:52              1.0   \n",
       "2         1  2019-06-01 00:17:05   2019-06-01 00:36:38              1.0   \n",
       "3         1  2019-06-01 00:59:02   2019-06-01 00:59:12              0.0   \n",
       "4         1  2019-06-01 00:03:25   2019-06-01 00:15:42              1.0   \n",
       "5         1  2019-06-01 00:28:31   2019-06-01 00:39:23              2.0   \n",
       "6         1  2019-06-01 00:46:46   2019-06-01 00:50:55              4.0   \n",
       "7         1  2019-06-01 00:54:49   2019-06-01 01:02:57              2.0   \n",
       "8         1  2019-06-01 00:09:57   2019-06-01 00:25:54              2.0   \n",
       "9         1  2019-06-01 00:29:12   2019-06-01 01:03:13              1.0   \n",
       "\n",
       "   trip_distance  RatecodeID store_and_fwd_flag  PULocationID  DOLocationID  \\\n",
       "0            0.1         1.0                  N           145           145   \n",
       "1            0.1         1.0                  N           262           263   \n",
       "2            4.5         1.0                  N            74             7   \n",
       "3            0.9         1.0                  N           145           145   \n",
       "4            1.8         1.0                  N           113           148   \n",
       "5            1.7         1.0                  N            79           125   \n",
       "6            0.7         1.0                  N           211           148   \n",
       "7            1.3         1.0                  N            79           249   \n",
       "8            2.1         1.0                  N           158            68   \n",
       "9            8.7         1.0                  N           186           243   \n",
       "\n",
       "   payment_type  fare_amount  extra  mta_tax  tip_amount  tolls_amount  \\\n",
       "0             2          3.0    0.5      0.5        0.00           0.0   \n",
       "1             2          2.5    3.0      0.5        0.00           0.0   \n",
       "2             2         17.5    0.5      0.5        0.00           0.0   \n",
       "3             2          2.5    1.0      0.5        0.00           0.0   \n",
       "4             1          9.5    3.0      0.5        2.65           0.0   \n",
       "5             1          9.5    3.0      0.5        1.00           0.0   \n",
       "6             2          4.5    3.0      0.5        0.00           0.0   \n",
       "7             1          7.5    3.0      0.5        1.00           0.0   \n",
       "8             2         11.5    3.0      0.5        0.00           0.0   \n",
       "9             1         31.5    3.0      0.5        7.05           0.0   \n",
       "\n",
       "   improvement_surcharge  total_amount  congestion_surcharge airport_fee  \\\n",
       "0                    0.3          4.30                   0.0        None   \n",
       "1                    0.3          6.30                   2.5        None   \n",
       "2                    0.3         18.80                   0.0        None   \n",
       "3                    0.3          4.30                   0.0        None   \n",
       "4                    0.3         15.95                   2.5        None   \n",
       "5                    0.3         14.30                   2.5        None   \n",
       "6                    0.3          8.30                   2.5        None   \n",
       "7                    0.3         12.30                   2.5        None   \n",
       "8                    0.3         15.30                   2.5        None   \n",
       "9                    0.3         42.35                   2.5        None   \n",
       "\n",
       "   unit_revenue  \n",
       "0     43.000000  \n",
       "1     63.000000  \n",
       "2      4.177778  \n",
       "3      4.777778  \n",
       "4      8.861111  \n",
       "5      8.411765  \n",
       "6     11.857143  \n",
       "7      9.461538  \n",
       "8      7.285714  \n",
       "9      4.867816  "
      ]
     },
     "execution_count": 190,
     "metadata": {},
     "output_type": "execute_result"
    }
   ],
   "source": [
    "nyc_taxi_df.head(10)"
   ]
  },
  {
   "cell_type": "markdown",
   "metadata": {},
   "source": [
    "# Generate networkit graph"
   ]
  },
  {
   "cell_type": "code",
   "execution_count": 72,
   "metadata": {},
   "outputs": [
    {
     "name": "stdout",
     "output_type": "stream",
     "text": [
      "Number of nodes:  266\n",
      "Number of edges:  20880424\n",
      "CPU times: user 8.1 s, sys: 1.08 s, total: 9.18 s\n",
      "Wall time: 9.32 s\n"
     ]
    }
   ],
   "source": [
    "%%time\n",
    "\n",
    "g = nk.Graph(directed=True)\n",
    "\n",
    "for row in nyc_taxi_df[[\"PULocationID\", \"DOLocationID\"]].to_records(index=False).tolist():\n",
    "    g.addEdge(row[0], row[1], addMissing=True)\n",
    "\n",
    "print(\"Number of nodes: \", g.numberOfNodes())\n",
    "print(\"Number of edges: \", g.numberOfEdges())    "
   ]
  },
  {
   "cell_type": "markdown",
   "metadata": {},
   "source": [
    "# Generate networkx graph"
   ]
  },
  {
   "cell_type": "code",
   "execution_count": 14,
   "metadata": {},
   "outputs": [
    {
     "name": "stdout",
     "output_type": "stream",
     "text": [
      "Number of nodes:  261\n",
      "Number of edges:  32729\n",
      "CPU times: user 50.9 ms, sys: 5.44 ms, total: 56.3 ms\n",
      "Wall time: 75.6 ms\n"
     ]
    }
   ],
   "source": [
    "%%time\n",
    "\n",
    "gx = nx.DiGraph()\n",
    "\n",
    "gx.add_weighted_edges_from(nyc_taxi_weighted_df.to_records(index=False).tolist())\n",
    "\n",
    "print(\"Number of nodes: \", gx.number_of_nodes())\n",
    "print(\"Number of edges: \", gx.number_of_edges())  "
   ]
  },
  {
   "cell_type": "markdown",
   "metadata": {},
   "source": [
    "# Compare centrality measures"
   ]
  },
  {
   "cell_type": "code",
   "execution_count": 73,
   "metadata": {},
   "outputs": [],
   "source": [
    "centrality = {}"
   ]
  },
  {
   "cell_type": "markdown",
   "metadata": {},
   "source": [
    "## Outdegree"
   ]
  },
  {
   "cell_type": "code",
   "execution_count": 115,
   "metadata": {},
   "outputs": [
    {
     "name": "stdout",
     "output_type": "stream",
     "text": [
      "CPU times: user 2.27 s, sys: 106 ms, total: 2.37 s\n",
      "Wall time: 2.38 s\n"
     ]
    },
    {
     "data": {
      "text/plain": [
       "[(237, 505862401770),\n",
       " (161, 434443039527),\n",
       " (236, 426514976088),\n",
       " (162, 375301948458),\n",
       " (186, 347558091324),\n",
       " (230, 334468737946),\n",
       " (170, 316085964390),\n",
       " (48, 305983450129),\n",
       " (142, 302610229191),\n",
       " (163, 282345470312)]"
      ]
     },
     "execution_count": 115,
     "metadata": {},
     "output_type": "execute_result"
    }
   ],
   "source": [
    "%%time\n",
    "\n",
    "centrality[\"outdegree\"] = [(node, sum([g.degreeOut(neighbor_node) for neighbor_node in g.iterNeighbors(node)])) for node in g.iterNodes()]\n",
    "centrality[\"outdegree\"] = sorted(centrality[\"outdegree\"], key = lambda x: x[1], reverse=True)\n",
    "centrality[\"outdegree\"][:10]"
   ]
  },
  {
   "cell_type": "markdown",
   "metadata": {},
   "source": [
    "## Revenue"
   ]
  },
  {
   "cell_type": "code",
   "execution_count": 212,
   "metadata": {},
   "outputs": [
    {
     "data": {
      "text/plain": [
       "[132, 138, 161, 230, 162, 186, 237, 236, 48, 170]"
      ]
     },
     "execution_count": 212,
     "metadata": {},
     "output_type": "execute_result"
    }
   ],
   "source": [
    "centrality[\"revenue\"] = PU_total_revenue_df[\"PULocationID\"].to_list()\n",
    "centrality[\"revenue\"][:10]"
   ]
  },
  {
   "cell_type": "markdown",
   "metadata": {},
   "source": [
    "## Degree centrality"
   ]
  },
  {
   "cell_type": "code",
   "execution_count": 104,
   "metadata": {},
   "outputs": [
    {
     "name": "stdout",
     "output_type": "stream",
     "text": [
      "CPU times: user 2.19 ms, sys: 1.36 ms, total: 3.55 ms\n",
      "Wall time: 853 µs\n"
     ]
    },
    {
     "data": {
      "text/plain": [
       "[(237, 888550.0),\n",
       " (161, 846981.0),\n",
       " (236, 786512.0),\n",
       " (162, 759254.0),\n",
       " (186, 744075.0),\n",
       " (132, 719652.0),\n",
       " (230, 703453.0),\n",
       " (48, 665536.0),\n",
       " (170, 657893.0),\n",
       " (234, 612619.0)]"
      ]
     },
     "execution_count": 104,
     "metadata": {},
     "output_type": "execute_result"
    }
   ],
   "source": [
    "%%time\n",
    "\n",
    "centrality[\"degree\"] = nk.centrality.DegreeCentrality(g)\n",
    "centrality[\"degree\"].run()\n",
    "centrality[\"degree\"].ranking()[:10]"
   ]
  },
  {
   "cell_type": "markdown",
   "metadata": {},
   "source": [
    "## Betweenness centrality "
   ]
  },
  {
   "cell_type": "code",
   "execution_count": 75,
   "metadata": {},
   "outputs": [
    {
     "name": "stdout",
     "output_type": "stream",
     "text": [
      "CPU times: user 1min 50s, sys: 2.73 s, total: 1min 53s\n",
      "Wall time: 10.3 s\n"
     ]
    },
    {
     "data": {
      "text/plain": [
       "[(132, 5819.658803529627),\n",
       " (138, 1555.2492354060396),\n",
       " (170, 1284.6154168683659),\n",
       " (161, 1063.5218332338752),\n",
       " (230, 1015.4987973068023),\n",
       " (231, 807.8454862650535),\n",
       " (48, 795.8228757948912),\n",
       " (264, 751.8929122837028),\n",
       " (140, 677.4441971459421),\n",
       " (186, 675.6085760546856)]"
      ]
     },
     "execution_count": 75,
     "metadata": {},
     "output_type": "execute_result"
    }
   ],
   "source": [
    "%%time\n",
    "\n",
    "centrality[\"betweenness\"] = nk.centrality.Betweenness(g)\n",
    "centrality[\"betweenness\"].run()\n",
    "centrality[\"betweenness\"].ranking()[:10]"
   ]
  },
  {
   "cell_type": "markdown",
   "metadata": {},
   "source": [
    "## Closeness centrality"
   ]
  },
  {
   "cell_type": "code",
   "execution_count": 76,
   "metadata": {},
   "outputs": [
    {
     "name": "stdout",
     "output_type": "stream",
     "text": [
      "CPU times: user 15.9 s, sys: 51.2 ms, total: 16 s\n",
      "Wall time: 1.44 s\n"
     ]
    },
    {
     "data": {
      "text/plain": [
       "[(132, 0.9811892510005717),\n",
       " (138, 0.9738118882110938),\n",
       " (164, 0.9738118882110938),\n",
       " (48, 0.9701646526747226),\n",
       " (79, 0.9701646526747226),\n",
       " (161, 0.9701646526747226),\n",
       " (162, 0.9701646526747226),\n",
       " (230, 0.9701646526747226),\n",
       " (100, 0.9665446353139961),\n",
       " (107, 0.9665446353139961)]"
      ]
     },
     "execution_count": 76,
     "metadata": {},
     "output_type": "execute_result"
    }
   ],
   "source": [
    "%%time\n",
    "\n",
    "centrality[\"closeness\"] = nk.centrality.Closeness(g, True, nk.centrality.ClosenessVariant.Generalized)\n",
    "centrality[\"closeness\"].run()\n",
    "centrality[\"closeness\"].ranking()[:10]"
   ]
  },
  {
   "cell_type": "markdown",
   "metadata": {},
   "source": [
    "## Top k closeness centrality"
   ]
  },
  {
   "cell_type": "code",
   "execution_count": 126,
   "metadata": {},
   "outputs": [
    {
     "name": "stdout",
     "output_type": "stream",
     "text": [
      "CPU times: user 13.9 s, sys: 90.3 ms, total: 14 s\n",
      "Wall time: 1.34 s\n"
     ]
    },
    {
     "data": {
      "text/plain": [
       "[(132, 0.9811892510005717),\n",
       " (138, 0.9738118882110937),\n",
       " (164, 0.9738118882110937),\n",
       " (48, 0.9701646526747225),\n",
       " (79, 0.9701646526747225),\n",
       " (161, 0.9701646526747225),\n",
       " (162, 0.9701646526747225),\n",
       " (230, 0.9701646526747225),\n",
       " (100, 0.9665446353139963),\n",
       " (107, 0.9665446353139963)]"
      ]
     },
     "execution_count": 126,
     "metadata": {},
     "output_type": "execute_result"
    }
   ],
   "source": [
    "%%time\n",
    "\n",
    "centrality[\"topkcloseness\"] = nk.centrality.TopCloseness(g, k=100, first_heu=True, sec_heu=True)\n",
    "centrality[\"topkcloseness\"].run()\n",
    "list(zip(centrality[\"topkcloseness\"].topkNodesList(), centrality[\"topkcloseness\"].topkScoresList()))[:10]"
   ]
  },
  {
   "cell_type": "markdown",
   "metadata": {},
   "source": [
    "## Eigenvector centrality"
   ]
  },
  {
   "cell_type": "code",
   "execution_count": 86,
   "metadata": {},
   "outputs": [
    {
     "name": "stdout",
     "output_type": "stream",
     "text": [
      "CPU times: user 3.59 s, sys: 120 ms, total: 3.71 s\n",
      "Wall time: 351 ms\n"
     ]
    },
    {
     "data": {
      "text/plain": [
       "[(236, 0.35660225801150014),\n",
       " (237, 0.3512548155206102),\n",
       " (161, 0.29503779226330196),\n",
       " (162, 0.23563017491578633),\n",
       " (170, 0.2083957828233215),\n",
       " (230, 0.20629884542961494),\n",
       " (142, 0.199372459961929),\n",
       " (141, 0.19098325391750565),\n",
       " (48, 0.18046415616189848),\n",
       " (239, 0.1775128813116595)]"
      ]
     },
     "execution_count": 86,
     "metadata": {},
     "output_type": "execute_result"
    }
   ],
   "source": [
    "%%time\n",
    "\n",
    "centrality[\"eigenvector\"] = nk.centrality.EigenvectorCentrality(g)\n",
    "centrality[\"eigenvector\"].run()\n",
    "centrality[\"eigenvector\"].ranking()[:10]"
   ]
  },
  {
   "cell_type": "markdown",
   "metadata": {},
   "source": [
    "## Pagerank centrality"
   ]
  },
  {
   "cell_type": "code",
   "execution_count": 81,
   "metadata": {},
   "outputs": [
    {
     "name": "stdout",
     "output_type": "stream",
     "text": [
      "CPU times: user 2.89 s, sys: 29.5 ms, total: 2.91 s\n",
      "Wall time: 288 ms\n"
     ]
    },
    {
     "data": {
      "text/plain": [
       "[(264, 0.040102376041534986),\n",
       " (236, 0.02286254302121352),\n",
       " (161, 0.022343325951096754),\n",
       " (237, 0.021456308113371556),\n",
       " (170, 0.019047433147212915),\n",
       " (230, 0.017749122794730128),\n",
       " (162, 0.017686118006468785),\n",
       " (48, 0.01639280726250008),\n",
       " (142, 0.015702011350520368),\n",
       " (239, 0.015332633613601543)]"
      ]
     },
     "execution_count": 81,
     "metadata": {},
     "output_type": "execute_result"
    }
   ],
   "source": [
    "%%time\n",
    "\n",
    "centrality[\"pagerank\"] = nk.centrality.PageRank(g, damp=0.85, tol=1e-9)\n",
    "centrality[\"pagerank\"].run()\n",
    "centrality[\"pagerank\"].ranking()[:10]"
   ]
  },
  {
   "cell_type": "markdown",
   "metadata": {},
   "source": [
    "## NDCG@20 comparison"
   ]
  },
  {
   "cell_type": "markdown",
   "metadata": {},
   "source": [
    "## w.r.t topkcloseness"
   ]
  },
  {
   "cell_type": "code",
   "execution_count": 176,
   "metadata": {},
   "outputs": [
    {
     "name": "stdout",
     "output_type": "stream",
     "text": [
      "{5: {'outdegree': 0.9802003514876603, 'degree': 0.9802003514876603, 'betweenness': 0.9169933178484533, 'closeness': 1.0, 'eigenvector': 0.936086480971909, 'pagerank': 0.9097038564396647}, 10: {'outdegree': 0.8422678989144964, 'degree': 0.8398823776040713, 'betweenness': 0.9372705975961665, 'closeness': 1.0, 'eigenvector': 0.8838673456413113, 'pagerank': 0.8025561857932396}, 20: {'outdegree': 0.8976912954031848, 'degree': 0.8422705220731262, 'betweenness': 0.8382141711931822, 'closeness': 1.0, 'eigenvector': 0.8416272245286782, 'pagerank': 0.8322052278047525}, 30: {'outdegree': 0.8835433036319539, 'degree': 0.840566588007736, 'betweenness': 0.8650978828180543, 'closeness': 1.0000000000000002, 'eigenvector': 0.9219549172446244, 'pagerank': 0.9016027717208137}, 40: {'outdegree': 0.8768141196667536, 'degree': 0.828560867003561, 'betweenness': 0.8738744351348068, 'closeness': 0.9999999999999998, 'eigenvector': 0.9165424190149815, 'pagerank': 0.8911952265849241}, 50: {'outdegree': 0.8521107203876774, 'degree': 0.8813214580494115, 'betweenness': 0.818153446017932, 'closeness': 1.0, 'eigenvector': 0.8811869770578572, 'pagerank': 0.825251224714393}}\n"
     ]
    }
   ],
   "source": [
    "ndcg_scores = {}\n",
    "\n",
    "for k in [5, 10, 20, 30, 40, 50]:\n",
    "\n",
    "    ndcg_scores[k] = {}\n",
    "\n",
    "    y_score = [centrality[\"topkcloseness\"].topkNodesList()[:k]]\n",
    "\n",
    "    for centrality_measure in [\"outdegree\", \"degree\", \"betweenness\", \"closeness\", \"eigenvector\", \"pagerank\"]:\n",
    "\n",
    "        if centrality_measure == \"outdegree\":\n",
    "            y_true = [[row[0] for row in centrality[centrality_measure][:k]]]\n",
    "\n",
    "        else:\n",
    "            y_true = [[row[0] for row in centrality[centrality_measure].ranking()[:k]]]\n",
    "        \n",
    "        ndcg_scores[k][centrality_measure] = ndcg_score(y_true, y_score, k=k)\n",
    "\n",
    "print(ndcg_scores)"
   ]
  },
  {
   "cell_type": "code",
   "execution_count": 177,
   "metadata": {},
   "outputs": [
    {
     "data": {
      "text/html": [
       "<div>\n",
       "<style scoped>\n",
       "    .dataframe tbody tr th:only-of-type {\n",
       "        vertical-align: middle;\n",
       "    }\n",
       "\n",
       "    .dataframe tbody tr th {\n",
       "        vertical-align: top;\n",
       "    }\n",
       "\n",
       "    .dataframe thead th {\n",
       "        text-align: right;\n",
       "    }\n",
       "</style>\n",
       "<table border=\"1\" class=\"dataframe\">\n",
       "  <thead>\n",
       "    <tr style=\"text-align: right;\">\n",
       "      <th></th>\n",
       "      <th>outdegree</th>\n",
       "      <th>degree</th>\n",
       "      <th>betweenness</th>\n",
       "      <th>closeness</th>\n",
       "      <th>eigenvector</th>\n",
       "      <th>pagerank</th>\n",
       "    </tr>\n",
       "  </thead>\n",
       "  <tbody>\n",
       "    <tr>\n",
       "      <th>5</th>\n",
       "      <td>0.980200</td>\n",
       "      <td>0.980200</td>\n",
       "      <td>0.916993</td>\n",
       "      <td>1.0</td>\n",
       "      <td>0.936086</td>\n",
       "      <td>0.909704</td>\n",
       "    </tr>\n",
       "    <tr>\n",
       "      <th>10</th>\n",
       "      <td>0.842268</td>\n",
       "      <td>0.839882</td>\n",
       "      <td>0.937271</td>\n",
       "      <td>1.0</td>\n",
       "      <td>0.883867</td>\n",
       "      <td>0.802556</td>\n",
       "    </tr>\n",
       "    <tr>\n",
       "      <th>20</th>\n",
       "      <td>0.897691</td>\n",
       "      <td>0.842271</td>\n",
       "      <td>0.838214</td>\n",
       "      <td>1.0</td>\n",
       "      <td>0.841627</td>\n",
       "      <td>0.832205</td>\n",
       "    </tr>\n",
       "    <tr>\n",
       "      <th>30</th>\n",
       "      <td>0.883543</td>\n",
       "      <td>0.840567</td>\n",
       "      <td>0.865098</td>\n",
       "      <td>1.0</td>\n",
       "      <td>0.921955</td>\n",
       "      <td>0.901603</td>\n",
       "    </tr>\n",
       "    <tr>\n",
       "      <th>40</th>\n",
       "      <td>0.876814</td>\n",
       "      <td>0.828561</td>\n",
       "      <td>0.873874</td>\n",
       "      <td>1.0</td>\n",
       "      <td>0.916542</td>\n",
       "      <td>0.891195</td>\n",
       "    </tr>\n",
       "    <tr>\n",
       "      <th>50</th>\n",
       "      <td>0.852111</td>\n",
       "      <td>0.881321</td>\n",
       "      <td>0.818153</td>\n",
       "      <td>1.0</td>\n",
       "      <td>0.881187</td>\n",
       "      <td>0.825251</td>\n",
       "    </tr>\n",
       "  </tbody>\n",
       "</table>\n",
       "</div>"
      ],
      "text/plain": [
       "    outdegree    degree  betweenness  closeness  eigenvector  pagerank\n",
       "5    0.980200  0.980200     0.916993        1.0     0.936086  0.909704\n",
       "10   0.842268  0.839882     0.937271        1.0     0.883867  0.802556\n",
       "20   0.897691  0.842271     0.838214        1.0     0.841627  0.832205\n",
       "30   0.883543  0.840567     0.865098        1.0     0.921955  0.901603\n",
       "40   0.876814  0.828561     0.873874        1.0     0.916542  0.891195\n",
       "50   0.852111  0.881321     0.818153        1.0     0.881187  0.825251"
      ]
     },
     "execution_count": 177,
     "metadata": {},
     "output_type": "execute_result"
    }
   ],
   "source": [
    "ndcg_scores_df = pd.DataFrame(ndcg_scores).T\n",
    "\n",
    "ndcg_scores_df"
   ]
  },
  {
   "cell_type": "code",
   "execution_count": 178,
   "metadata": {},
   "outputs": [
    {
     "data": {
      "image/png": "[encoded data removed]",
      "text/plain": [
       "<Figure size 1000x500 with 1 Axes>"
      ]
     },
     "metadata": {},
     "output_type": "display_data"
    }
   ],
   "source": [
    "plt.figure(figsize=(10, 5))\n",
    "\n",
    "for column in ndcg_scores_df.columns:\n",
    "    plt.plot(ndcg_scores_df.index, ndcg_scores_df[column], label=column)\n",
    "\n",
    "plt.legend()\n",
    "plt.show()"
   ]
  },
  {
   "cell_type": "markdown",
   "metadata": {},
   "source": [
    "## w.r.t top revenue locations"
   ]
  },
  {
   "cell_type": "code",
   "execution_count": 217,
   "metadata": {},
   "outputs": [
    {
     "name": "stdout",
     "output_type": "stream",
     "text": [
      "{5: {'outdegree': 0.8926096124367476, 'degree': 0.8926096124367476, 'betweenness': 0.9347661092595823, 'closeness': 0.9036818090243446, 'topkcloseness': 0.9036818090243446, 'eigenvector': 0.8861124933616022, 'pagerank': 0.9139123252718566}, 10: {'outdegree': 0.8786028299556579, 'degree': 0.8708529743695195, 'betweenness': 0.9582242163715621, 'closeness': 0.9630108350234612, 'topkcloseness': 0.9630108350234612, 'eigenvector': 0.8899017162284686, 'pagerank': 0.8836911823928519}, 15: {'outdegree': 0.8952098167360382, 'degree': 0.8177624908322204, 'betweenness': 0.9399681388287692, 'closeness': 0.9110227913366573, 'topkcloseness': 0.9110227913366573, 'eigenvector': 0.8175434514322661, 'pagerank': 0.8624109172169769}, 20: {'outdegree': 0.8934626648400217, 'degree': 0.8327001062703603, 'betweenness': 0.9148999999515345, 'closeness': 0.8689273371938726, 'topkcloseness': 0.8689273371938726, 'eigenvector': 0.8301574722008351, 'pagerank': 0.8662045642986717}}\n"
     ]
    }
   ],
   "source": [
    "ndcg_scores = {}\n",
    "\n",
    "for k in [5, 10, 15, 20]:\n",
    "\n",
    "    ndcg_scores[k] = {}\n",
    "\n",
    "    y_true = [centrality[\"revenue\"][:k]]\n",
    "\n",
    "    for centrality_measure in [\"outdegree\", \"degree\", \"betweenness\", \"closeness\", \"topkcloseness\", \"eigenvector\", \"pagerank\"]:\n",
    "\n",
    "        if centrality_measure == \"outdegree\":\n",
    "            y_score = [[row[0] for row in centrality[centrality_measure][:k]]]\n",
    "\n",
    "        elif centrality_measure == \"topkcloseness\":\n",
    "            y_score = [centrality[\"topkcloseness\"].topkNodesList()[:k]]\n",
    "\n",
    "        else:\n",
    "            y_score = [[row[0] for row in centrality[centrality_measure].ranking()[:k]]]\n",
    "        \n",
    "        ndcg_scores[k][centrality_measure] = ndcg_score(y_true, y_score, k=k)\n",
    "\n",
    "print(ndcg_scores)"
   ]
  },
  {
   "cell_type": "code",
   "execution_count": 218,
   "metadata": {},
   "outputs": [
    {
     "data": {
      "text/html": [
       "<div>\n",
       "<style scoped>\n",
       "    .dataframe tbody tr th:only-of-type {\n",
       "        vertical-align: middle;\n",
       "    }\n",
       "\n",
       "    .dataframe tbody tr th {\n",
       "        vertical-align: top;\n",
       "    }\n",
       "\n",
       "    .dataframe thead th {\n",
       "        text-align: right;\n",
       "    }\n",
       "</style>\n",
       "<table border=\"1\" class=\"dataframe\">\n",
       "  <thead>\n",
       "    <tr style=\"text-align: right;\">\n",
       "      <th></th>\n",
       "      <th>outdegree</th>\n",
       "      <th>degree</th>\n",
       "      <th>betweenness</th>\n",
       "      <th>closeness</th>\n",
       "      <th>topkcloseness</th>\n",
       "      <th>eigenvector</th>\n",
       "      <th>pagerank</th>\n",
       "    </tr>\n",
       "  </thead>\n",
       "  <tbody>\n",
       "    <tr>\n",
       "      <th>5</th>\n",
       "      <td>0.892610</td>\n",
       "      <td>0.892610</td>\n",
       "      <td>0.934766</td>\n",
       "      <td>0.903682</td>\n",
       "      <td>0.903682</td>\n",
       "      <td>0.886112</td>\n",
       "      <td>0.913912</td>\n",
       "    </tr>\n",
       "    <tr>\n",
       "      <th>10</th>\n",
       "      <td>0.878603</td>\n",
       "      <td>0.870853</td>\n",
       "      <td>0.958224</td>\n",
       "      <td>0.963011</td>\n",
       "      <td>0.963011</td>\n",
       "      <td>0.889902</td>\n",
       "      <td>0.883691</td>\n",
       "    </tr>\n",
       "    <tr>\n",
       "      <th>15</th>\n",
       "      <td>0.895210</td>\n",
       "      <td>0.817762</td>\n",
       "      <td>0.939968</td>\n",
       "      <td>0.911023</td>\n",
       "      <td>0.911023</td>\n",
       "      <td>0.817543</td>\n",
       "      <td>0.862411</td>\n",
       "    </tr>\n",
       "    <tr>\n",
       "      <th>20</th>\n",
       "      <td>0.893463</td>\n",
       "      <td>0.832700</td>\n",
       "      <td>0.914900</td>\n",
       "      <td>0.868927</td>\n",
       "      <td>0.868927</td>\n",
       "      <td>0.830157</td>\n",
       "      <td>0.866205</td>\n",
       "    </tr>\n",
       "  </tbody>\n",
       "</table>\n",
       "</div>"
      ],
      "text/plain": [
       "    outdegree    degree  betweenness  closeness  topkcloseness  eigenvector  \\\n",
       "5    0.892610  0.892610     0.934766   0.903682       0.903682     0.886112   \n",
       "10   0.878603  0.870853     0.958224   0.963011       0.963011     0.889902   \n",
       "15   0.895210  0.817762     0.939968   0.911023       0.911023     0.817543   \n",
       "20   0.893463  0.832700     0.914900   0.868927       0.868927     0.830157   \n",
       "\n",
       "    pagerank  \n",
       "5   0.913912  \n",
       "10  0.883691  \n",
       "15  0.862411  \n",
       "20  0.866205  "
      ]
     },
     "execution_count": 218,
     "metadata": {},
     "output_type": "execute_result"
    }
   ],
   "source": [
    "ndcg_scores_df = pd.DataFrame(ndcg_scores).T\n",
    "\n",
    "ndcg_scores_df"
   ]
  },
  {
   "cell_type": "code",
   "execution_count": 219,
   "metadata": {},
   "outputs": [
    {
     "data": {
      "image/png": "[encoded data removed]",
      "text/plain": [
       "<Figure size 1000x500 with 1 Axes>"
      ]
     },
     "metadata": {},
     "output_type": "display_data"
    }
   ],
   "source": [
    "plt.figure(figsize=(10, 5))\n",
    "\n",
    "for column in ndcg_scores_df.columns:\n",
    "    plt.plot(ndcg_scores_df.index, ndcg_scores_df[column], label=column)\n",
    "\n",
    "plt.legend()\n",
    "plt.show()"
   ]
  },
  {
   "cell_type": "markdown",
   "metadata": {},
   "source": [
    "# Revenue earned comparison"
   ]
  },
  {
   "cell_type": "code",
   "execution_count": 166,
   "metadata": {},
   "outputs": [
    {
     "name": "stdout",
     "output_type": "stream",
     "text": [
      "{5: {'outdegree': 68136121.09, 'degree': 68136121.09, 'betweenness': 105414551.37, 'closeness': 93317261.73, 'topkcloseness': 93317261.73, 'eigenvector': 66250698.78999999, 'pagerank': 56222207.87}, 10: {'outdegree': 125555781.2, 'degree': 156123083.38, 'betweenness': 147404665.36, 'closeness': 151819021.82999998, 'topkcloseness': 151819021.82999998, 'eigenvector': 117635465.41, 'pagerank': 113984515.49}, 20: {'outdegree': 255750380.04000002, 'degree': 257743240.37000003, 'betweenness': 235319515.59000003, 'closeness': 225813119.67000002, 'topkcloseness': 225813119.67000002, 'eigenvector': 202237959.12, 'pagerank': 195760733.77000004}, 30: {'outdegree': 317920540.09000003, 'degree': 319538965.87000006, 'betweenness': 300018399.47999996, 'closeness': 303177792.92, 'topkcloseness': 303177792.92, 'eigenvector': 276687719.18999994, 'pagerank': 249497341.48000002}, 40: {'outdegree': 361165879.69000006, 'degree': 361165879.69000006, 'betweenness': 336386597.14, 'closeness': 350946899.09000003, 'topkcloseness': 350946899.09000003, 'eigenvector': 358055991.53000003, 'pagerank': 343610160.15}}\n"
     ]
    }
   ],
   "source": [
    "revenue = {}\n",
    "\n",
    "for k in [5, 10, 20, 30, 40]:\n",
    "\n",
    "    revenue[k] = {}\n",
    "\n",
    "    for centrality_measure in [\"outdegree\", \"degree\", \"betweenness\", \"closeness\", \"topkcloseness\", \"eigenvector\", \"pagerank\"]:\n",
    "\n",
    "        if centrality_measure == \"outdegree\":\n",
    "            top_nodes = [[row[0] for row in centrality[centrality_measure][:k]]][0]\n",
    "\n",
    "        elif centrality_measure == \"topkcloseness\":\n",
    "            top_nodes = [centrality[\"topkcloseness\"].topkNodesList()[:k]][0]\n",
    "\n",
    "        else:\n",
    "            top_nodes = [[row[0] for row in centrality[centrality_measure].ranking()[:k]]][0]\n",
    "        \n",
    "        revenue[k][centrality_measure] = PU_total_revenue_df[PU_total_revenue_df[\"PULocationID\"].isin(top_nodes)][\"total_amount\"].sum()\n",
    "\n",
    "print(revenue)"
   ]
  },
  {
   "cell_type": "code",
   "execution_count": 167,
   "metadata": {},
   "outputs": [
    {
     "data": {
      "text/html": [
       "<div>\n",
       "<style scoped>\n",
       "    .dataframe tbody tr th:only-of-type {\n",
       "        vertical-align: middle;\n",
       "    }\n",
       "\n",
       "    .dataframe tbody tr th {\n",
       "        vertical-align: top;\n",
       "    }\n",
       "\n",
       "    .dataframe thead th {\n",
       "        text-align: right;\n",
       "    }\n",
       "</style>\n",
       "<table border=\"1\" class=\"dataframe\">\n",
       "  <thead>\n",
       "    <tr style=\"text-align: right;\">\n",
       "      <th></th>\n",
       "      <th>outdegree</th>\n",
       "      <th>degree</th>\n",
       "      <th>betweenness</th>\n",
       "      <th>closeness</th>\n",
       "      <th>topkcloseness</th>\n",
       "      <th>eigenvector</th>\n",
       "      <th>pagerank</th>\n",
       "    </tr>\n",
       "  </thead>\n",
       "  <tbody>\n",
       "    <tr>\n",
       "      <th>5</th>\n",
       "      <td>6.813612e+07</td>\n",
       "      <td>6.813612e+07</td>\n",
       "      <td>1.054146e+08</td>\n",
       "      <td>9.331726e+07</td>\n",
       "      <td>9.331726e+07</td>\n",
       "      <td>6.625070e+07</td>\n",
       "      <td>5.622221e+07</td>\n",
       "    </tr>\n",
       "    <tr>\n",
       "      <th>10</th>\n",
       "      <td>1.255558e+08</td>\n",
       "      <td>1.561231e+08</td>\n",
       "      <td>1.474047e+08</td>\n",
       "      <td>1.518190e+08</td>\n",
       "      <td>1.518190e+08</td>\n",
       "      <td>1.176355e+08</td>\n",
       "      <td>1.139845e+08</td>\n",
       "    </tr>\n",
       "    <tr>\n",
       "      <th>20</th>\n",
       "      <td>2.557504e+08</td>\n",
       "      <td>2.577432e+08</td>\n",
       "      <td>2.353195e+08</td>\n",
       "      <td>2.258131e+08</td>\n",
       "      <td>2.258131e+08</td>\n",
       "      <td>2.022380e+08</td>\n",
       "      <td>1.957607e+08</td>\n",
       "    </tr>\n",
       "    <tr>\n",
       "      <th>30</th>\n",
       "      <td>3.179205e+08</td>\n",
       "      <td>3.195390e+08</td>\n",
       "      <td>3.000184e+08</td>\n",
       "      <td>3.031778e+08</td>\n",
       "      <td>3.031778e+08</td>\n",
       "      <td>2.766877e+08</td>\n",
       "      <td>2.494973e+08</td>\n",
       "    </tr>\n",
       "    <tr>\n",
       "      <th>40</th>\n",
       "      <td>3.611659e+08</td>\n",
       "      <td>3.611659e+08</td>\n",
       "      <td>3.363866e+08</td>\n",
       "      <td>3.509469e+08</td>\n",
       "      <td>3.509469e+08</td>\n",
       "      <td>3.580560e+08</td>\n",
       "      <td>3.436102e+08</td>\n",
       "    </tr>\n",
       "  </tbody>\n",
       "</table>\n",
       "</div>"
      ],
      "text/plain": [
       "       outdegree        degree   betweenness     closeness  topkcloseness  \\\n",
       "5   6.813612e+07  6.813612e+07  1.054146e+08  9.331726e+07   9.331726e+07   \n",
       "10  1.255558e+08  1.561231e+08  1.474047e+08  1.518190e+08   1.518190e+08   \n",
       "20  2.557504e+08  2.577432e+08  2.353195e+08  2.258131e+08   2.258131e+08   \n",
       "30  3.179205e+08  3.195390e+08  3.000184e+08  3.031778e+08   3.031778e+08   \n",
       "40  3.611659e+08  3.611659e+08  3.363866e+08  3.509469e+08   3.509469e+08   \n",
       "\n",
       "     eigenvector      pagerank  \n",
       "5   6.625070e+07  5.622221e+07  \n",
       "10  1.176355e+08  1.139845e+08  \n",
       "20  2.022380e+08  1.957607e+08  \n",
       "30  2.766877e+08  2.494973e+08  \n",
       "40  3.580560e+08  3.436102e+08  "
      ]
     },
     "execution_count": 167,
     "metadata": {},
     "output_type": "execute_result"
    }
   ],
   "source": [
    "revenue_df = pd.DataFrame(revenue).T\n",
    "\n",
    "revenue_df"
   ]
  },
  {
   "cell_type": "code",
   "execution_count": 168,
   "metadata": {},
   "outputs": [
    {
     "data": {
      "image/png": "[encoded data removed]",
      "text/plain": [
       "<Figure size 1000x500 with 1 Axes>"
      ]
     },
     "metadata": {},
     "output_type": "display_data"
    }
   ],
   "source": [
    "plt.figure(figsize=(10, 5))\n",
    "\n",
    "for column in revenue_df.columns:\n",
    "    plt.plot(revenue_df.index, revenue_df[column], label=column)\n",
    "\n",
    "plt.legend()\n",
    "plt.show()"
   ]
  },
  {
   "cell_type": "markdown",
   "metadata": {},
   "source": [
    "# Trip distance comparison"
   ]
  },
  {
   "cell_type": "code",
   "execution_count": 195,
   "metadata": {},
   "outputs": [
    {
     "name": "stdout",
     "output_type": "stream",
     "text": [
      "{5: {'outdegree': 7.879957168997189, 'degree': 7.879957168997189, 'betweenness': 6.106919822830221, 'closeness': 5.9657005113508355, 'topkcloseness': 5.9657005113508355, 'eigenvector': 7.84978900356096, 'pagerank': 7.993046871716163}, 10: {'outdegree': 7.593570068909616, 'degree': 7.273192485328326, 'betweenness': 6.7029111799939045, 'closeness': 6.68175659612204, 'topkcloseness': 6.68175659612204, 'eigenvector': 7.57930153507502, 'pagerank': 7.634361956329045}, 20: {'outdegree': 7.263869590158288, 'degree': 7.21411437926416, 'betweenness': 7.065461778811098, 'closeness': 6.856856028906783, 'topkcloseness': 6.856856028906783, 'eigenvector': 7.535334823688946, 'pagerank': 7.476163093546194}, 30: {'outdegree': 7.28546705118655, 'degree': 7.261421983336405, 'betweenness': 7.07123165423792, 'closeness': 7.033119939997462, 'topkcloseness': 7.033119939997462, 'eigenvector': 7.3216692240313295, 'pagerank': 8.012826178460573}, 40: {'outdegree': 7.159055190644378, 'degree': 7.159055190644378, 'betweenness': 6.959068344292163, 'closeness': 7.006962579193578, 'topkcloseness': 7.006962579193578, 'eigenvector': 7.1407844927513535, 'pagerank': 7.591433255799596}}\n"
     ]
    }
   ],
   "source": [
    "mean_revenue = {}\n",
    "\n",
    "for k in [5, 10, 20, 30, 40]:\n",
    "\n",
    "    mean_revenue[k] = {}\n",
    "\n",
    "    for centrality_measure in [\"outdegree\", \"degree\", \"betweenness\", \"closeness\", \"topkcloseness\", \"eigenvector\", \"pagerank\"]:\n",
    "\n",
    "        if centrality_measure == \"outdegree\":\n",
    "            top_nodes = [[row[0] for row in centrality[centrality_measure][:k]]][0]\n",
    "\n",
    "        elif centrality_measure == \"topkcloseness\":\n",
    "            top_nodes = [centrality[\"topkcloseness\"].topkNodesList()[:k]][0]\n",
    "\n",
    "        else:\n",
    "            top_nodes = [[row[0] for row in centrality[centrality_measure].ranking()[:k]]][0]\n",
    "        \n",
    "        mean_revenue[k][centrality_measure] = unit_revenue_df[unit_revenue_df[\"PULocationID\"].isin(top_nodes)][\"unit_revenue\"].mean()\n",
    "\n",
    "print(mean_revenue)"
   ]
  },
  {
   "cell_type": "code",
   "execution_count": 196,
   "metadata": {},
   "outputs": [
    {
     "data": {
      "text/html": [
       "<div>\n",
       "<style scoped>\n",
       "    .dataframe tbody tr th:only-of-type {\n",
       "        vertical-align: middle;\n",
       "    }\n",
       "\n",
       "    .dataframe tbody tr th {\n",
       "        vertical-align: top;\n",
       "    }\n",
       "\n",
       "    .dataframe thead th {\n",
       "        text-align: right;\n",
       "    }\n",
       "</style>\n",
       "<table border=\"1\" class=\"dataframe\">\n",
       "  <thead>\n",
       "    <tr style=\"text-align: right;\">\n",
       "      <th></th>\n",
       "      <th>outdegree</th>\n",
       "      <th>degree</th>\n",
       "      <th>betweenness</th>\n",
       "      <th>closeness</th>\n",
       "      <th>topkcloseness</th>\n",
       "      <th>eigenvector</th>\n",
       "      <th>pagerank</th>\n",
       "    </tr>\n",
       "  </thead>\n",
       "  <tbody>\n",
       "    <tr>\n",
       "      <th>5</th>\n",
       "      <td>7.879957</td>\n",
       "      <td>7.879957</td>\n",
       "      <td>6.106920</td>\n",
       "      <td>5.965701</td>\n",
       "      <td>5.965701</td>\n",
       "      <td>7.849789</td>\n",
       "      <td>7.993047</td>\n",
       "    </tr>\n",
       "    <tr>\n",
       "      <th>10</th>\n",
       "      <td>7.593570</td>\n",
       "      <td>7.273192</td>\n",
       "      <td>6.702911</td>\n",
       "      <td>6.681757</td>\n",
       "      <td>6.681757</td>\n",
       "      <td>7.579302</td>\n",
       "      <td>7.634362</td>\n",
       "    </tr>\n",
       "    <tr>\n",
       "      <th>20</th>\n",
       "      <td>7.263870</td>\n",
       "      <td>7.214114</td>\n",
       "      <td>7.065462</td>\n",
       "      <td>6.856856</td>\n",
       "      <td>6.856856</td>\n",
       "      <td>7.535335</td>\n",
       "      <td>7.476163</td>\n",
       "    </tr>\n",
       "    <tr>\n",
       "      <th>30</th>\n",
       "      <td>7.285467</td>\n",
       "      <td>7.261422</td>\n",
       "      <td>7.071232</td>\n",
       "      <td>7.033120</td>\n",
       "      <td>7.033120</td>\n",
       "      <td>7.321669</td>\n",
       "      <td>8.012826</td>\n",
       "    </tr>\n",
       "    <tr>\n",
       "      <th>40</th>\n",
       "      <td>7.159055</td>\n",
       "      <td>7.159055</td>\n",
       "      <td>6.959068</td>\n",
       "      <td>7.006963</td>\n",
       "      <td>7.006963</td>\n",
       "      <td>7.140784</td>\n",
       "      <td>7.591433</td>\n",
       "    </tr>\n",
       "  </tbody>\n",
       "</table>\n",
       "</div>"
      ],
      "text/plain": [
       "    outdegree    degree  betweenness  closeness  topkcloseness  eigenvector  \\\n",
       "5    7.879957  7.879957     6.106920   5.965701       5.965701     7.849789   \n",
       "10   7.593570  7.273192     6.702911   6.681757       6.681757     7.579302   \n",
       "20   7.263870  7.214114     7.065462   6.856856       6.856856     7.535335   \n",
       "30   7.285467  7.261422     7.071232   7.033120       7.033120     7.321669   \n",
       "40   7.159055  7.159055     6.959068   7.006963       7.006963     7.140784   \n",
       "\n",
       "    pagerank  \n",
       "5   7.993047  \n",
       "10  7.634362  \n",
       "20  7.476163  \n",
       "30  8.012826  \n",
       "40  7.591433  "
      ]
     },
     "execution_count": 196,
     "metadata": {},
     "output_type": "execute_result"
    }
   ],
   "source": [
    "mean_revenue_df = pd.DataFrame(mean_revenue).T\n",
    "\n",
    "mean_revenue_df"
   ]
  },
  {
   "cell_type": "code",
   "execution_count": 197,
   "metadata": {},
   "outputs": [
    {
     "data": {
      "image/png": "[encoded data removed]",
      "text/plain": [
       "<Figure size 1000x500 with 1 Axes>"
      ]
     },
     "metadata": {},
     "output_type": "display_data"
    }
   ],
   "source": [
    "plt.figure(figsize=(10, 5))\n",
    "\n",
    "for column in mean_revenue_df.columns:\n",
    "    plt.plot(mean_revenue_df.index, mean_revenue_df[column], label=column)\n",
    "\n",
    "plt.legend()\n",
    "plt.show()"
   ]
  },
  {
   "cell_type": "code",
   "execution_count": null,
   "metadata": {},
   "outputs": [],
   "source": []
  }
 ],
 "metadata": {
  "kernelspec": {
   "display_name": "Python 3.9.13 ('venv': venv)",
   "language": "python",
   "name": "python3"
  },
  "language_info": {
   "codemirror_mode": {
    "name": "ipython",
    "version": 3
   },
   "file_extension": ".py",
   "mimetype": "text/x-python",
   "name": "python",
   "nbconvert_exporter": "python",
   "pygments_lexer": "ipython3",
   "version": "3.9.13"
  },
  "orig_nbformat": 4,
  "vscode": {
   "interpreter": {
    "hash": "d5cc4e86fa364bec93d88269df7d8fba81299fa2b9385aebe79869b9c4b54db4"
   }
  }
 },
 "nbformat": 4,
 "nbformat_minor": 2
}
