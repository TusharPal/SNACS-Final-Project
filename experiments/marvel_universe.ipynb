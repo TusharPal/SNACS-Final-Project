{
 "cells": [
  {
   "cell_type": "markdown",
   "id": "30fb94ce-7582-4b4e-91e5-852ed71cb955",
   "metadata": {},
   "source": [
    "# Imports"
   ]
  },
  {
   "cell_type": "code",
   "execution_count": 3,
   "id": "7bf9d038-da9c-443f-9ce8-56fe7a99be3a",
   "metadata": {},
   "outputs": [],
   "source": [
    "import pandas as pd \n",
    "import matplotlib.pyplot as plt\n",
    "import networkit as nk\n",
    "import tqdm\n",
    "import numpy as np\n",
    "import glob\n",
    "import time\n",
    "import json\n",
    "\n",
    "from sklearn.metrics import ndcg_score\n",
    "from sklearn.preprocessing import MinMaxScaler\n",
    "from scipy.stats import kendalltau, spearmanr"
   ]
  },
  {
   "cell_type": "markdown",
   "id": "56539e88-7258-43e1-8ffb-c3203f144ec8",
   "metadata": {},
   "source": [
    "# Load data"
   ]
  },
  {
   "cell_type": "code",
   "execution_count": 6,
   "id": "91ae87aa-1d5c-4264-8c3c-4c97fac54620",
   "metadata": {},
   "outputs": [
    {
     "name": "stdout",
     "output_type": "stream",
     "text": [
      "   # source   target  source  target\n",
      "0         0     6486       0    6486\n",
      "1         1     6487       1    6487\n",
      "2         1     6488       1    6488\n",
      "3         1     6489       1    6489\n",
      "4         1     6490       1    6490\n"
     ]
    }
   ],
   "source": [
    "marvel_universe_df = pd.read_csv(\"../data/marvel_universe/edges.csv\", on_bad_lines=\"skip\")\n",
    "\n",
    "marvel_universe_df[\"source\"] = marvel_universe_df[\"# source\"].astype(int)\n",
    "marvel_universe_df[\"target\"] = marvel_universe_df[\" target\"].astype(int)\n",
    "\n",
    "print(marvel_universe_df.head())"
   ]
  },
  {
   "cell_type": "markdown",
   "id": "1e08bb50-022c-464f-be37-e45768343ad7",
   "metadata": {},
   "source": [
    "# Generate networkit graph"
   ]
  },
  {
   "cell_type": "code",
   "execution_count": 7,
   "id": "559e790a-0d26-43b8-82b7-9985c808ac9a",
   "metadata": {},
   "outputs": [],
   "source": [
    "g = nk.Graph(directed=False)\n",
    "\n",
    "for row in marvel_universe_df[[\"source\", \"target\"]].to_records(index=False).tolist():\n",
    "    g.addEdge(row[0], row[1], addMissing=True)\n",
    "\n",
    "g.removeSelfLoops()"
   ]
  },
  {
   "cell_type": "markdown",
   "id": "4b564fe1-6c73-497a-888e-b4b516700949",
   "metadata": {},
   "source": [
    "# Network metrics"
   ]
  },
  {
   "cell_type": "code",
   "execution_count": 8,
   "id": "7f3d6e8e-5329-4357-9289-53f04307223d",
   "metadata": {},
   "outputs": [
    {
     "name": "stdout",
     "output_type": "stream",
     "text": [
      "Density:  0.0005078171169852928\n",
      "Average clustering coefficient:  0.0\n",
      "Diameter:  (13, 0)\n"
     ]
    }
   ],
   "source": [
    "results = {\n",
    "            \"dataset\": \"marvel_universe\",\n",
    "            \"directed\": False,\n",
    "            \"nodes\": len(set(marvel_universe_df[\"source\"].to_list() + marvel_universe_df[\"target\"].to_list())),\n",
    "            \"edges\": g.numberOfEdges()\n",
    "        }\n",
    "\n",
    "# Density\n",
    "results[\"density\"] = nk.graphtools.density(g)\n",
    "print(f\"Density: \", results[\"density\"])\n",
    "\n",
    "# Average clustering coefficient\n",
    "results[\"average_clustering_coefficient\"] = nk.globals.ClusteringCoefficient().avgLocal(g, 10**6) \n",
    "print(f\"Average clustering coefficient: \", results[\"average_clustering_coefficient\"])\n",
    "\n",
    "# Diameter\n",
    "diameter = nk.distance.Diameter(g, algo=nk.distance.DiameterAlgo.Exact, nSamples=10**5)\n",
    "diameter.run()\n",
    "results[\"diameter\"] = diameter.getDiameter() \n",
    "print(f\"Diameter: \", results[\"diameter\"])"
   ]
  },
  {
   "cell_type": "markdown",
   "id": "f6a41ebb-018b-456d-aa8a-c91c6da94e18",
   "metadata": {},
   "source": [
    "# Centrality measures"
   ]
  },
  {
   "cell_type": "code",
   "execution_count": 5,
   "id": "34619fb2-ee25-4320-9b11-53b07e35e25b",
   "metadata": {},
   "outputs": [],
   "source": [
    "def get_degree_centrality(g):\n",
    "    start_time = time.process_time()\n",
    "    \n",
    "    degree = nk.centrality.DegreeCentrality(g)\n",
    "    degree.run()\n",
    "    \n",
    "    end_time = time.process_time()\n",
    "    \n",
    "    return degree, (end_time - start_time)\n",
    "\n",
    "def get_closeness_centrality(g):\n",
    "    start_time = time.process_time()\n",
    "    \n",
    "    closeness = nk.centrality.Closeness(g, True, nk.centrality.ClosenessVariant.Generalized)\n",
    "    closeness.run()\n",
    "    \n",
    "    end_time = time.process_time()\n",
    "    \n",
    "    return closeness, (end_time - start_time)\n",
    "\n",
    "def get_topk_closeness_centrality(g, first_heu=False, second_heu=False, k=5):\n",
    "    start_time = time.process_time()\n",
    "\n",
    "    topk_closeness = nk.centrality.TopCloseness(g, k=k, first_heu=first_heu, sec_heu=second_heu)\n",
    "    topk_closeness.run()\n",
    "    \n",
    "    end_time = time.process_time()\n",
    "\n",
    "    return topk_closeness, (end_time - start_time)\n",
    "\n",
    "centrality = {}\n",
    "results[\"time_elapsed\"] = {}\n",
    "\n",
    "# Degree centrality\n",
    "centrality[\"degree\"], results[\"time_elapsed\"][\"degree\"] = get_degree_centrality(g)\n",
    "\n",
    "# Closeness centrality\n",
    "centrality[\"closeness\"], results[\"time_elapsed\"][\"closeness\"] = get_closeness_centrality(g)\n",
    "\n",
    "# Topk closeness centrality\n",
    "ks = [5, 10, 50, 100, int(results[\"nodes\"]/2)]\n",
    "\n",
    "centrality[\"topkcloseness_0\"] = {}\n",
    "centrality[\"topkcloseness_1\"] = {}\n",
    "results[\"time_elapsed\"][\"topkcloseness_0\"] = {}\n",
    "results[\"time_elapsed\"][\"topkcloseness_1\"] = {}\n",
    "\n",
    "for k in ks:\n",
    "    centrality[\"topkcloseness_0\"][k], results[\"time_elapsed\"][\"topkcloseness_0\"][k] = get_topk_closeness_centrality(g, False, False, k)\n",
    "    centrality[\"topkcloseness_1\"][k], results[\"time_elapsed\"][\"topkcloseness_1\"][k] = get_topk_closeness_centrality(g, False, True, k)"
   ]
  },
  {
   "cell_type": "code",
   "execution_count": 6,
   "id": "13149b04-e412-45bc-baed-ea51150b70a0",
   "metadata": {},
   "outputs": [
    {
     "data": {
      "text/plain": [
       "{'dataset': 'AstroPh',\n",
       " 'directed': False,\n",
       " 'nodes': 133280,\n",
       " 'edges': 396100,\n",
       " 'density': 4.4597255014071295e-05,\n",
       " 'average_clustering_coefficient': 0.5590263049576198,\n",
       " 'diameter': (14, 0),\n",
       " 'time_elapsed': {'degree': 0.0982050180000007,\n",
       "  'closeness': 85.02065332000001,\n",
       "  'topkcloseness_0': {5: 27.789395826000003,\n",
       "   10: 42.766720056999986,\n",
       "   50: 82.60162890999999,\n",
       "   100: 91.73707829700004,\n",
       "   66640: 949.975802519},\n",
       "  'topkcloseness_1': {5: 103.52029705700001,\n",
       "   10: 113.94058410899999,\n",
       "   50: 134.27613349499995,\n",
       "   100: 140.53242466899997,\n",
       "   66640: 218.046271294}}}"
      ]
     },
     "execution_count": 6,
     "metadata": {},
     "output_type": "execute_result"
    }
   ],
   "source": [
    "print(results)"
   ]
  },
  {
   "cell_type": "markdown",
   "id": "09e5ad5e-a4e6-40c1-be76-ba74a10ff573",
   "metadata": {},
   "source": [
    "# Experiments"
   ]
  },
  {
   "cell_type": "markdown",
   "id": "6b3a6509-57f0-4a85-a607-be4ccda381ad",
   "metadata": {},
   "source": [
    "## Preprocess"
   ]
  },
  {
   "cell_type": "code",
   "execution_count": 7,
   "id": "515fa923-526d-4a7f-8b6b-7ee86e21424e",
   "metadata": {},
   "outputs": [],
   "source": [
    "normalised_scores = {}\n",
    "nodes = {}\n",
    "\n",
    "# Degree centrality\n",
    "scaler = MinMaxScaler()\n",
    "normalised_scores[\"degree\"] = scaler.fit_transform(np.array([row[1] for row in centrality[\"degree\"].ranking()]).reshape(-1, 1)).flatten()\n",
    "nodes[\"degree\"] = [row[0] for row in centrality[\"degree\"].ranking()]\n",
    "\n",
    "# Closeness centrality\n",
    "scaler = MinMaxScaler()\n",
    "normalised_scores[\"closeness\"] = scaler.fit_transform(np.array([row[1] for row in centrality[\"closeness\"].ranking()]).reshape(-1, 1)).flatten()\n",
    "nodes[\"closeness\"] = [row[0] for row in centrality[\"closeness\"].ranking()]\n",
    "\n",
    "# Topk closeness centrality\n",
    "normalised_scores[\"topkcloseness_0\"], normalised_scores[\"topkcloseness_1\"] = {}, {}\n",
    "nodes[\"topkcloseness_0\"], nodes[\"topkcloseness_1\"] = {}, {}\n",
    "\n",
    "for k in ks:\n",
    "    scaler = MinMaxScaler()\n",
    "    normalised_scores[\"topkcloseness_0\"][k] = scaler.fit_transform(np.array(centrality[\"topkcloseness_0\"][k].topkScoresList()).reshape(-1, 1)).flatten()\n",
    "    nodes[\"topkcloseness_0\"][k] = centrality[\"topkcloseness_0\"][k].topkNodesList()\n",
    "\n",
    "    scaler = MinMaxScaler()\n",
    "    normalised_scores[\"topkcloseness_1\"][k] = scaler.fit_transform(np.array(centrality[\"topkcloseness_1\"][k].topkScoresList()).reshape(-1, 1)).flatten()\n",
    "    nodes[\"topkcloseness_1\"][k] = centrality[\"topkcloseness_1\"][k].topkNodesList()"
   ]
  },
  {
   "cell_type": "markdown",
   "id": "5bb0070d-46c9-40aa-8ed9-3c05d66a1fd7",
   "metadata": {},
   "source": [
    "## LabelBinarizer function"
   ]
  },
  {
   "cell_type": "code",
   "execution_count": 8,
   "id": "fd29cdf4-dbeb-4076-a45e-80a0cf66bc4f",
   "metadata": {},
   "outputs": [],
   "source": [
    "def get_label_binarized(labels, node_count, k):\n",
    "    b = np.full((k, node_count), 0, dtype=\"byte\")\n",
    "    b[np.arange(k), labels] = 1\n",
    "    \n",
    "    return b"
   ]
  },
  {
   "cell_type": "markdown",
   "id": "5531e4a4-f124-4fa3-be84-b125b83fe047",
   "metadata": {},
   "source": [
    "## NDCG degree to (top-k) closeness"
   ]
  },
  {
   "cell_type": "code",
   "execution_count": 13,
   "id": "67c2b8cd-1870-40fd-ad12-5a77f8083463",
   "metadata": {},
   "outputs": [
    {
     "data": {
      "text/html": [
       "<div>\n",
       "<style scoped>\n",
       "    .dataframe tbody tr th:only-of-type {\n",
       "        vertical-align: middle;\n",
       "    }\n",
       "\n",
       "    .dataframe tbody tr th {\n",
       "        vertical-align: top;\n",
       "    }\n",
       "\n",
       "    .dataframe thead th {\n",
       "        text-align: right;\n",
       "    }\n",
       "</style>\n",
       "<table border=\"1\" class=\"dataframe\">\n",
       "  <thead>\n",
       "    <tr style=\"text-align: right;\">\n",
       "      <th></th>\n",
       "      <th>closeness</th>\n",
       "      <th>topkcloseness_0</th>\n",
       "      <th>topkcloseness_1</th>\n",
       "    </tr>\n",
       "  </thead>\n",
       "  <tbody>\n",
       "    <tr>\n",
       "      <th>5</th>\n",
       "      <td>0.064914</td>\n",
       "      <td>0.064914</td>\n",
       "      <td>0.064914</td>\n",
       "    </tr>\n",
       "    <tr>\n",
       "      <th>10</th>\n",
       "      <td>0.064914</td>\n",
       "      <td>0.064914</td>\n",
       "      <td>0.064914</td>\n",
       "    </tr>\n",
       "    <tr>\n",
       "      <th>50</th>\n",
       "      <td>0.086521</td>\n",
       "      <td>0.086521</td>\n",
       "      <td>0.086521</td>\n",
       "    </tr>\n",
       "    <tr>\n",
       "      <th>100</th>\n",
       "      <td>0.086347</td>\n",
       "      <td>0.086347</td>\n",
       "      <td>0.086347</td>\n",
       "    </tr>\n",
       "  </tbody>\n",
       "</table>\n",
       "</div>"
      ],
      "text/plain": [
       "     closeness  topkcloseness_0  topkcloseness_1\n",
       "5     0.064914         0.064914         0.064914\n",
       "10    0.064914         0.064914         0.064914\n",
       "50    0.086521         0.086521         0.086521\n",
       "100   0.086347         0.086347         0.086347"
      ]
     },
     "execution_count": 13,
     "metadata": {},
     "output_type": "execute_result"
    }
   ],
   "source": [
    "ndcg_scores = {}\n",
    "\n",
    "for k in ks[:-1]:\n",
    "    ndcg_scores[k] = {}\n",
    "    \n",
    "    for centrality_measure in [\"closeness\", \"topkcloseness_0\", \"topkcloseness_1\"]:\n",
    "        \n",
    "        y_true = get_label_binarized(nodes[\"degree\"][:k], g.numberOfNodes(), k)\n",
    "        sample_weight = normalised_scores[\"degree\"][:k]\n",
    "        \n",
    "        if \"topk\" in centrality_measure:\n",
    "            y_score = get_label_binarized(nodes[centrality_measure][k], g.numberOfNodes(), k)\n",
    "            \n",
    "        else:\n",
    "            y_score = get_label_binarized(nodes[centrality_measure][:k], g.numberOfNodes(), k)\n",
    "\n",
    "        ndcg_scores[k][centrality_measure] = ndcg_score(y_true, y_score, sample_weight=sample_weight)\n",
    "    \n",
    "results[\"ndcg_degree\"] = ndcg_scores\n",
    "\n",
    "print(pd.DataFrame(ndcg_scores).T)"
   ]
  },
  {
   "cell_type": "markdown",
   "id": "608b41f0-d512-41cb-873a-b63b7f1a1e7a",
   "metadata": {},
   "source": [
    "## NDCG closeness to (top-k) closeness"
   ]
  },
  {
   "cell_type": "code",
   "execution_count": 15,
   "id": "5f7e56d6-8c8c-485c-8e8c-e12fbe11b479",
   "metadata": {},
   "outputs": [
    {
     "data": {
      "text/html": [
       "<div>\n",
       "<style scoped>\n",
       "    .dataframe tbody tr th:only-of-type {\n",
       "        vertical-align: middle;\n",
       "    }\n",
       "\n",
       "    .dataframe tbody tr th {\n",
       "        vertical-align: top;\n",
       "    }\n",
       "\n",
       "    .dataframe thead th {\n",
       "        text-align: right;\n",
       "    }\n",
       "</style>\n",
       "<table border=\"1\" class=\"dataframe\">\n",
       "  <thead>\n",
       "    <tr style=\"text-align: right;\">\n",
       "      <th></th>\n",
       "      <th>topkcloseness_0</th>\n",
       "      <th>topkcloseness_1</th>\n",
       "    </tr>\n",
       "  </thead>\n",
       "  <tbody>\n",
       "    <tr>\n",
       "      <th>5</th>\n",
       "      <td>1.0</td>\n",
       "      <td>1.0</td>\n",
       "    </tr>\n",
       "    <tr>\n",
       "      <th>10</th>\n",
       "      <td>1.0</td>\n",
       "      <td>1.0</td>\n",
       "    </tr>\n",
       "    <tr>\n",
       "      <th>50</th>\n",
       "      <td>1.0</td>\n",
       "      <td>1.0</td>\n",
       "    </tr>\n",
       "    <tr>\n",
       "      <th>100</th>\n",
       "      <td>1.0</td>\n",
       "      <td>1.0</td>\n",
       "    </tr>\n",
       "  </tbody>\n",
       "</table>\n",
       "</div>"
      ],
      "text/plain": [
       "     topkcloseness_0  topkcloseness_1\n",
       "5                1.0              1.0\n",
       "10               1.0              1.0\n",
       "50               1.0              1.0\n",
       "100              1.0              1.0"
      ]
     },
     "execution_count": 15,
     "metadata": {},
     "output_type": "execute_result"
    }
   ],
   "source": [
    "ndcg_scores = {}\n",
    "\n",
    "for k in ks[:-1]:\n",
    "    ndcg_scores[k] = {}\n",
    "    \n",
    "    y_score = get_label_binarized(nodes[\"closeness\"][:k], g.numberOfNodes(), k)\n",
    "    sample_weight = normalised_scores[\"closeness\"][:k]\n",
    "    \n",
    "    for centrality_measure in [\"topkcloseness_0\", \"topkcloseness_1\"]:\n",
    "        y_true = get_label_binarized(nodes[centrality_measure][k], g.numberOfNodes(), k)\n",
    "            \n",
    "        ndcg_scores[k][centrality_measure] = ndcg_score(y_true, y_score, sample_weight=sample_weight)\n",
    "    \n",
    "results[\"ndcg_closeness\"] = ndcg_scores\n",
    "\n",
    "print(pd.DataFrame(ndcg_scores).T)"
   ]
  },
  {
   "cell_type": "markdown",
   "id": "68722b94-fb72-4866-bd92-ebbbb54dc5ab",
   "metadata": {},
   "source": [
    "## Spearman rank correlation"
   ]
  },
  {
   "cell_type": "code",
   "execution_count": 10,
   "id": "0e43494b-8fbb-42c0-83bf-a8782b7332ee",
   "metadata": {},
   "outputs": [
    {
     "data": {
      "text/html": [
       "<div>\n",
       "<style scoped>\n",
       "    .dataframe tbody tr th:only-of-type {\n",
       "        vertical-align: middle;\n",
       "    }\n",
       "\n",
       "    .dataframe tbody tr th {\n",
       "        vertical-align: top;\n",
       "    }\n",
       "\n",
       "    .dataframe thead th {\n",
       "        text-align: right;\n",
       "    }\n",
       "</style>\n",
       "<table border=\"1\" class=\"dataframe\">\n",
       "  <thead>\n",
       "    <tr style=\"text-align: right;\">\n",
       "      <th></th>\n",
       "      <th>closeness</th>\n",
       "      <th>topkcloseness_0</th>\n",
       "      <th>topkcloseness_1</th>\n",
       "    </tr>\n",
       "  </thead>\n",
       "  <tbody>\n",
       "    <tr>\n",
       "      <th>5</th>\n",
       "      <td>0.054545</td>\n",
       "      <td>-0.018699</td>\n",
       "      <td>-0.018699</td>\n",
       "    </tr>\n",
       "    <tr>\n",
       "      <th>10</th>\n",
       "      <td>0.644444</td>\n",
       "      <td>0.677895</td>\n",
       "      <td>0.677895</td>\n",
       "    </tr>\n",
       "    <tr>\n",
       "      <th>50</th>\n",
       "      <td>0.794879</td>\n",
       "      <td>0.798018</td>\n",
       "      <td>0.798018</td>\n",
       "    </tr>\n",
       "    <tr>\n",
       "      <th>100</th>\n",
       "      <td>0.688365</td>\n",
       "      <td>0.691676</td>\n",
       "      <td>0.691676</td>\n",
       "    </tr>\n",
       "    <tr>\n",
       "      <th>66640</th>\n",
       "      <td>0.994123</td>\n",
       "      <td>0.998246</td>\n",
       "      <td>0.998246</td>\n",
       "    </tr>\n",
       "  </tbody>\n",
       "</table>\n",
       "</div>"
      ],
      "text/plain": [
       "       closeness  topkcloseness_0  topkcloseness_1\n",
       "5       0.054545        -0.018699        -0.018699\n",
       "10      0.644444         0.677895         0.677895\n",
       "50      0.794879         0.798018         0.798018\n",
       "100     0.688365         0.691676         0.691676\n",
       "66640   0.994123         0.998246         0.998246"
      ]
     },
     "execution_count": 10,
     "metadata": {},
     "output_type": "execute_result"
    }
   ],
   "source": [
    "spearmanr_corr = {}\n",
    "\n",
    "for k in ks:\n",
    "    spearmanr_corr[k] = {}\n",
    "    \n",
    "    y_true = pd.DataFrame({\"nodes\": nodes[\"degree\"][:k], \"ranking_x\": normalised_scores[\"degree\"][:k]})\n",
    "\n",
    "    for centrality_measure in [\"closeness\", \"topkcloseness_0\", \"topkcloseness_1\"]:\n",
    "        \n",
    "        if \"topk\" in centrality_measure:\n",
    "            y_score = pd.DataFrame({\"nodes\": nodes[centrality_measure][k], \"ranking_y\": normalised_scores[centrality_measure][k]})\n",
    "            \n",
    "        else:\n",
    "            y_score = pd.DataFrame({\"nodes\": nodes[centrality_measure][:k], \"ranking_y\": normalised_scores[centrality_measure][:k]})\n",
    "\n",
    "        y_df = y_true.merge(y_score, how=\"outer\", on=\"nodes\").fillna(0)\n",
    "\n",
    "        corr, _ = spearmanr(y_df[\"ranking_x\"], y_df[\"ranking_y\"])\n",
    "        spearmanr_corr[k][centrality_measure] = corr\n",
    "    \n",
    "results[\"spearmanr\"] = spearmanr_corr\n",
    "\n",
    "print(pd.DataFrame(spearmanr_corr).T)"
   ]
  },
  {
   "cell_type": "markdown",
   "id": "0ce96b5f-74ac-450a-b577-597593716192",
   "metadata": {},
   "source": [
    "## Kendalltau rank correlation"
   ]
  },
  {
   "cell_type": "code",
   "execution_count": 11,
   "id": "22ceca4f-7879-4a77-b5b0-1e9ae3dd610c",
   "metadata": {},
   "outputs": [
    {
     "name": "stderr",
     "output_type": "stream",
     "text": [
      "/data/s3208796/SNACS-Final-Project/venv/lib/python3.7/site-packages/scipy/stats/stats.py:4812: RuntimeWarning: overflow encountered in long_scalars\n",
      "  (2 * xtie * ytie) / m + x0 * y0 / (9 * m * (size - 2)))\n"
     ]
    },
    {
     "data": {
      "text/html": [
       "<div>\n",
       "<style scoped>\n",
       "    .dataframe tbody tr th:only-of-type {\n",
       "        vertical-align: middle;\n",
       "    }\n",
       "\n",
       "    .dataframe tbody tr th {\n",
       "        vertical-align: top;\n",
       "    }\n",
       "\n",
       "    .dataframe thead th {\n",
       "        text-align: right;\n",
       "    }\n",
       "</style>\n",
       "<table border=\"1\" class=\"dataframe\">\n",
       "  <thead>\n",
       "    <tr style=\"text-align: right;\">\n",
       "      <th></th>\n",
       "      <th>closeness</th>\n",
       "      <th>topkcloseness_0</th>\n",
       "      <th>topkcloseness_1</th>\n",
       "    </tr>\n",
       "  </thead>\n",
       "  <tbody>\n",
       "    <tr>\n",
       "      <th>5</th>\n",
       "      <td>0.050000</td>\n",
       "      <td>-0.052705</td>\n",
       "      <td>-0.052705</td>\n",
       "    </tr>\n",
       "    <tr>\n",
       "      <th>10</th>\n",
       "      <td>0.426667</td>\n",
       "      <td>0.476290</td>\n",
       "      <td>0.476290</td>\n",
       "    </tr>\n",
       "    <tr>\n",
       "      <th>50</th>\n",
       "      <td>0.607202</td>\n",
       "      <td>0.613027</td>\n",
       "      <td>0.613027</td>\n",
       "    </tr>\n",
       "    <tr>\n",
       "      <th>100</th>\n",
       "      <td>0.516827</td>\n",
       "      <td>0.520955</td>\n",
       "      <td>0.520955</td>\n",
       "    </tr>\n",
       "    <tr>\n",
       "      <th>66640</th>\n",
       "      <td>0.945159</td>\n",
       "      <td>0.970173</td>\n",
       "      <td>0.970173</td>\n",
       "    </tr>\n",
       "  </tbody>\n",
       "</table>\n",
       "</div>"
      ],
      "text/plain": [
       "       closeness  topkcloseness_0  topkcloseness_1\n",
       "5       0.050000        -0.052705        -0.052705\n",
       "10      0.426667         0.476290         0.476290\n",
       "50      0.607202         0.613027         0.613027\n",
       "100     0.516827         0.520955         0.520955\n",
       "66640   0.945159         0.970173         0.970173"
      ]
     },
     "execution_count": 11,
     "metadata": {},
     "output_type": "execute_result"
    }
   ],
   "source": [
    "kendalltau_corr = {}\n",
    "\n",
    "for k in ks:\n",
    "    kendalltau_corr[k] = {}\n",
    "    \n",
    "    y_true = pd.DataFrame({\"nodes\": nodes[\"degree\"][:k], \"ranking_x\": normalised_scores[\"degree\"][:k]})\n",
    "\n",
    "    for centrality_measure in [\"closeness\", \"topkcloseness_0\", \"topkcloseness_1\"]:\n",
    "        \n",
    "        if \"topk\" in centrality_measure:\n",
    "            y_score = pd.DataFrame({\"nodes\": nodes[centrality_measure][k], \"ranking_y\": normalised_scores[centrality_measure][k]})\n",
    "            \n",
    "        else:\n",
    "            y_score = pd.DataFrame({\"nodes\": nodes[centrality_measure][:k], \"ranking_y\": normalised_scores[centrality_measure][:k]})\n",
    "\n",
    "        y_df = y_true.merge(y_score, how=\"outer\", on=\"nodes\").fillna(0)\n",
    "\n",
    "        corr, _ = kendalltau(y_df[\"ranking_x\"], y_df[\"ranking_y\"])\n",
    "        kendalltau_corr[k][centrality_measure] = 0 if np.isnan(corr) else corr\n",
    "    \n",
    "results[\"kendalltau\"] = kendalltau_corr\n",
    "\n",
    "print(pd.DataFrame(kendalltau_corr).T)"
   ]
  },
  {
   "cell_type": "markdown",
   "id": "f35fb0b0-b367-4165-b48a-c61e2b97f3ae",
   "metadata": {},
   "source": [
    "# Store results"
   ]
  },
  {
   "cell_type": "code",
   "execution_count": 16,
   "id": "c8c70a33-5bc9-4d25-9ad4-30cd05a3bb41",
   "metadata": {},
   "outputs": [],
   "source": [
    "with open(f\"../results/{results['dataset']}_{results['directed']}.json\", 'w') as outfile:\n",
    "    json.dump(results, outfile)"
   ]
  },
  {
   "cell_type": "code",
   "execution_count": null,
   "id": "706fafbd-329d-409b-908f-0493b3e5f6f4",
   "metadata": {},
   "outputs": [],
   "source": []
  }
 ],
 "metadata": {
  "kernelspec": {
   "display_name": "Python 3 (ipykernel)",
   "language": "python",
   "name": "python3"
  },
  "language_info": {
   "codemirror_mode": {
    "name": "ipython",
    "version": 3
   },
   "file_extension": ".py",
   "mimetype": "text/x-python",
   "name": "python",
   "nbconvert_exporter": "python",
   "pygments_lexer": "ipython3",
   "version": "3.7.3"
  }
 },
 "nbformat": 4,
 "nbformat_minor": 5
}
