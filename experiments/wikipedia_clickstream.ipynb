{
 "cells": [
  {
   "cell_type": "markdown",
   "id": "30fb94ce-7582-4b4e-91e5-852ed71cb955",
   "metadata": {},
   "source": [
    "# Imports"
   ]
  },
  {
   "cell_type": "code",
   "execution_count": 1,
   "id": "7bf9d038-da9c-443f-9ce8-56fe7a99be3a",
   "metadata": {},
   "outputs": [
    {
     "data": {
      "text/html": [
       "\n",
       "\t\t\t<script type=\"text/javascript\">\n",
       "\t\t\t<!--\n",
       "\t\t\t\t\n",
       "\t\t\t{\n",
       "\t\t\t\tvar element = document.getElementById('NetworKit_script');\n",
       "\t\t\t\tif (element) {\n",
       "\t\t\t\t\telement.parentNode.removeChild(element);\n",
       "\t\t\t\t}\n",
       "\t\t\t\telement = document.createElement('script');\n",
       "\t\t\t\telement.type = 'text/javascript';\n",
       "\t\t\t\telement.innerHTML = 'function NetworKit_pageEmbed(id) { var i, j; var elements; elements = document.getElementById(id).getElementsByClassName(\"Plot\"); for (i=0; i<elements.length; i++) { elements[i].id = id + \"_Plot_\" + i; var data = elements[i].getAttribute(\"data-image\").split(\"|\"); elements[i].removeAttribute(\"data-image\"); var content = \"<div class=\\\\\"Image\\\\\" id=\\\\\"\" + elements[i].id + \"_Image\\\\\" />\"; elements[i].innerHTML = content; elements[i].setAttribute(\"data-image-index\", 0); elements[i].setAttribute(\"data-image-length\", data.length); for (j=0; j<data.length; j++) { elements[i].setAttribute(\"data-image-\" + j, data[j]); } NetworKit_plotUpdate(elements[i]); elements[i].onclick = function (e) { NetworKit_overlayShow((e.target) ? e.target : e.srcElement); } } elements = document.getElementById(id).getElementsByClassName(\"HeatCell\"); for (i=0; i<elements.length; i++) { var data = parseFloat(elements[i].getAttribute(\"data-heat\")); var color = \"#00FF00\"; if (data <= 1 && data > 0) { color = \"hsla(0, 100%, 75%, \" + (data) + \")\"; } else if (data <= 0 && data >= -1) { color = \"hsla(240, 100%, 75%, \" + (-data) + \")\"; } elements[i].style.backgroundColor = color; } elements = document.getElementById(id).getElementsByClassName(\"Details\"); for (i=0; i<elements.length; i++) { elements[i].setAttribute(\"data-title\", \"-\"); NetworKit_toggleDetails(elements[i]); elements[i].onclick = function (e) { NetworKit_toggleDetails((e.target) ? e.target : e.srcElement); } } elements = document.getElementById(id).getElementsByClassName(\"MathValue\"); for (i=elements.length-1; i>=0; i--) { value = elements[i].innerHTML.trim(); if (value === \"nan\") { elements[i].parentNode.innerHTML = \"\" } } elements = document.getElementById(id).getElementsByClassName(\"SubCategory\"); for (i=elements.length-1; i>=0; i--) { value = elements[i].innerHTML.trim(); if (value === \"\") { elements[i].parentNode.removeChild(elements[i]) } } elements = document.getElementById(id).getElementsByClassName(\"Category\"); for (i=elements.length-1; i>=0; i--) { value = elements[i].innerHTML.trim(); if (value === \"\") { elements[i].parentNode.removeChild(elements[i]) } } var isFirefox = false; try { isFirefox = typeof InstallTrigger !== \"undefined\"; } catch (e) {} if (!isFirefox) { alert(\"Currently the function\\'s output is only fully supported by Firefox.\"); } } function NetworKit_plotUpdate(source) { var index = source.getAttribute(\"data-image-index\"); var data = source.getAttribute(\"data-image-\" + index); var image = document.getElementById(source.id + \"_Image\"); image.style.backgroundImage = \"url(\" + data + \")\"; } function NetworKit_showElement(id, show) { var element = document.getElementById(id); element.style.display = (show) ? \"block\" : \"none\"; } function NetworKit_overlayShow(source) { NetworKit_overlayUpdate(source); NetworKit_showElement(\"NetworKit_Overlay\", true); } function NetworKit_overlayUpdate(source) { document.getElementById(\"NetworKit_Overlay_Title\").innerHTML = source.title; var index = source.getAttribute(\"data-image-index\"); var data = source.getAttribute(\"data-image-\" + index); var image = document.getElementById(\"NetworKit_Overlay_Image\"); image.setAttribute(\"data-id\", source.id); image.style.backgroundImage = \"url(\" + data + \")\"; var link = document.getElementById(\"NetworKit_Overlay_Toolbar_Bottom_Save\"); link.href = data; link.download = source.title + \".svg\"; } function NetworKit_overlayImageShift(delta) { var image = document.getElementById(\"NetworKit_Overlay_Image\"); var source = document.getElementById(image.getAttribute(\"data-id\")); var index = parseInt(source.getAttribute(\"data-image-index\")); var length = parseInt(source.getAttribute(\"data-image-length\")); var index = (index+delta) % length; if (index < 0) { index = length + index; } source.setAttribute(\"data-image-index\", index); NetworKit_overlayUpdate(source); } function NetworKit_toggleDetails(source) { var childs = source.children; var show = false; if (source.getAttribute(\"data-title\") == \"-\") { source.setAttribute(\"data-title\", \"+\"); show = false; } else { source.setAttribute(\"data-title\", \"-\"); show = true; } for (i=0; i<childs.length; i++) { if (show) { childs[i].style.display = \"block\"; } else { childs[i].style.display = \"none\"; } } }';\n",
       "\t\t\t\telement.setAttribute('id', 'NetworKit_script');\n",
       "\t\t\t\tdocument.head.appendChild(element);\n",
       "\t\t\t}\n",
       "\t\t\n",
       "\t\t\t\t\n",
       "\t\t\t{\n",
       "\t\t\t\tvar element = document.getElementById('NetworKit_style');\n",
       "\t\t\t\tif (element) {\n",
       "\t\t\t\t\telement.parentNode.removeChild(element);\n",
       "\t\t\t\t}\n",
       "\t\t\t\telement = document.createElement('style');\n",
       "\t\t\t\telement.type = 'text/css';\n",
       "\t\t\t\telement.innerHTML = '.NetworKit_Page { font-family: Arial, Helvetica, sans-serif; font-size: 14px; } .NetworKit_Page .Value:before { font-family: Arial, Helvetica, sans-serif; font-size: 1.05em; content: attr(data-title) \":\"; margin-left: -2.5em; padding-right: 0.5em; } .NetworKit_Page .Details .Value:before { display: block; } .NetworKit_Page .Value { font-family: monospace; white-space: pre; padding-left: 2.5em; white-space: -moz-pre-wrap !important; white-space: -pre-wrap; white-space: -o-pre-wrap; white-space: pre-wrap; word-wrap: break-word; tab-size: 4; -moz-tab-size: 4; } .NetworKit_Page .Category { clear: both; padding-left: 1em; margin-bottom: 1.5em; } .NetworKit_Page .Category:before { content: attr(data-title); font-size: 1.75em; display: block; margin-left: -0.8em; margin-bottom: 0.5em; } .NetworKit_Page .SubCategory { margin-bottom: 1.5em; padding-left: 1em; } .NetworKit_Page .SubCategory:before { font-size: 1.6em; display: block; margin-left: -0.8em; margin-bottom: 0.5em; } .NetworKit_Page .SubCategory[data-title]:before { content: attr(data-title); } .NetworKit_Page .Block { display: block; } .NetworKit_Page .Block:after { content: \".\"; visibility: hidden; display: block; height: 0; clear: both; } .NetworKit_Page .Block .Thumbnail_Overview, .NetworKit_Page .Block .Thumbnail_ScatterPlot { width: 260px; float: left; } .NetworKit_Page .Block .Thumbnail_Overview img, .NetworKit_Page .Block .Thumbnail_ScatterPlot img { width: 260px; } .NetworKit_Page .Block .Thumbnail_Overview:before, .NetworKit_Page .Block .Thumbnail_ScatterPlot:before { display: block; text-align: center; font-weight: bold; } .NetworKit_Page .Block .Thumbnail_Overview:before { content: attr(data-title); } .NetworKit_Page .HeatCell { font-family: \"Courier New\", Courier, monospace; cursor: pointer; } .NetworKit_Page .HeatCell, .NetworKit_Page .HeatCellName { display: inline; padding: 0.1em; margin-right: 2px; background-color: #FFFFFF } .NetworKit_Page .HeatCellName { margin-left: 0.25em; } .NetworKit_Page .HeatCell:before { content: attr(data-heat); display: inline-block; color: #000000; width: 4em; text-align: center; } .NetworKit_Page .Measure { clear: both; } .NetworKit_Page .Measure .Details { cursor: pointer; } .NetworKit_Page .Measure .Details:before { content: \"[\" attr(data-title) \"]\"; display: block; } .NetworKit_Page .Measure .Details .Value { border-left: 1px dotted black; margin-left: 0.4em; padding-left: 3.5em; pointer-events: none; } .NetworKit_Page .Measure .Details .Spacer:before { content: \".\"; opacity: 0.0; pointer-events: none; } .NetworKit_Page .Measure .Plot { width: 440px; height: 440px; cursor: pointer; float: left; margin-left: -0.9em; margin-right: 20px; } .NetworKit_Page .Measure .Plot .Image { background-repeat: no-repeat; background-position: center center; background-size: contain; height: 100%; pointer-events: none; } .NetworKit_Page .Measure .Stat { width: 500px; float: left; } .NetworKit_Page .Measure .Stat .Group { padding-left: 1.25em; margin-bottom: 0.75em; } .NetworKit_Page .Measure .Stat .Group .Title { font-size: 1.1em; display: block; margin-bottom: 0.3em; margin-left: -0.75em; border-right-style: dotted; border-right-width: 1px; border-bottom-style: dotted; border-bottom-width: 1px; background-color: #D0D0D0; padding-left: 0.2em; } .NetworKit_Page .Measure .Stat .Group .List { -webkit-column-count: 3; -moz-column-count: 3; column-count: 3; } .NetworKit_Page .Measure .Stat .Group .List .Entry { position: relative; line-height: 1.75em; } .NetworKit_Page .Measure .Stat .Group .List .Entry[data-tooltip]:before { position: absolute; left: 0; top: -40px; background-color: #808080; color: #ffffff; height: 30px; line-height: 30px; border-radius: 5px; padding: 0 15px; content: attr(data-tooltip); white-space: nowrap; display: none; } .NetworKit_Page .Measure .Stat .Group .List .Entry[data-tooltip]:after { position: absolute; left: 15px; top: -10px; border-top: 7px solid #808080; border-left: 7px solid transparent; border-right: 7px solid transparent; content: \"\"; display: none; } .NetworKit_Page .Measure .Stat .Group .List .Entry[data-tooltip]:hover:after, .NetworKit_Page .Measure .Stat .Group .List .Entry[data-tooltip]:hover:before { display: block; } .NetworKit_Page .Measure .Stat .Group .List .Entry .MathValue { font-family: \"Courier New\", Courier, monospace; } .NetworKit_Page .Measure:after { content: \".\"; visibility: hidden; display: block; height: 0; clear: both; } .NetworKit_Page .PartitionPie { clear: both; } .NetworKit_Page .PartitionPie img { width: 600px; } #NetworKit_Overlay { left: 0px; top: 0px; display: none; position: absolute; width: 100%; height: 100%; background-color: rgba(0,0,0,0.6); z-index: 1000; } #NetworKit_Overlay_Title { position: absolute; color: white; transform: rotate(-90deg); width: 32em; height: 32em; padding-right: 0.5em; padding-top: 0.5em; text-align: right; font-size: 40px; } #NetworKit_Overlay .button { background: white; cursor: pointer; } #NetworKit_Overlay .button:before { size: 13px; display: inline-block; text-align: center; margin-top: 0.5em; margin-bottom: 0.5em; width: 1.5em; height: 1.5em; } #NetworKit_Overlay .icon-close:before { content: \"X\"; } #NetworKit_Overlay .icon-previous:before { content: \"P\"; } #NetworKit_Overlay .icon-next:before { content: \"N\"; } #NetworKit_Overlay .icon-save:before { content: \"S\"; } #NetworKit_Overlay_Toolbar_Top, #NetworKit_Overlay_Toolbar_Bottom { position: absolute; width: 40px; right: 13px; text-align: right; z-index: 1100; } #NetworKit_Overlay_Toolbar_Top { top: 0.5em; } #NetworKit_Overlay_Toolbar_Bottom { Bottom: 0.5em; } #NetworKit_Overlay_ImageContainer { position: absolute; top: 5%; left: 5%; height: 90%; width: 90%; background-repeat: no-repeat; background-position: center center; background-size: contain; } #NetworKit_Overlay_Image { height: 100%; width: 100%; background-repeat: no-repeat; background-position: center center; background-size: contain; }';\n",
       "\t\t\t\telement.setAttribute('id', 'NetworKit_style');\n",
       "\t\t\t\tdocument.head.appendChild(element);\n",
       "\t\t\t}\n",
       "\t\t\n",
       "\t\t\t\t\n",
       "\t\t\t{\n",
       "\t\t\t\tvar element = document.getElementById('NetworKit_Overlay');\n",
       "\t\t\t\tif (element) {\n",
       "\t\t\t\t\telement.parentNode.removeChild(element);\n",
       "\t\t\t\t}\n",
       "\t\t\t\telement = document.createElement('div');\n",
       "\t\t\t\telement.innerHTML = '<div id=\"NetworKit_Overlay_Toolbar_Top\"><div class=\"button icon-close\" id=\"NetworKit_Overlay_Close\" /></div><div id=\"NetworKit_Overlay_Title\" /> <div id=\"NetworKit_Overlay_ImageContainer\"> <div id=\"NetworKit_Overlay_Image\" /> </div> <div id=\"NetworKit_Overlay_Toolbar_Bottom\"> <div class=\"button icon-previous\" onclick=\"NetworKit_overlayImageShift(-1)\" /> <div class=\"button icon-next\" onclick=\"NetworKit_overlayImageShift(1)\" /> <a id=\"NetworKit_Overlay_Toolbar_Bottom_Save\"><div class=\"button icon-save\" /></a> </div>';\n",
       "\t\t\t\telement.setAttribute('id', 'NetworKit_Overlay');\n",
       "\t\t\t\tdocument.body.appendChild(element);\n",
       "\t\t\t\tdocument.getElementById('NetworKit_Overlay_Close').onclick = function (e) {\n",
       "\t\t\t\t\tdocument.getElementById('NetworKit_Overlay').style.display = 'none';\n",
       "\t\t\t\t}\n",
       "\t\t\t}\n",
       "\t\t\n",
       "\t\t\t-->\n",
       "\t\t\t</script>\n",
       "\t\t"
      ]
     },
     "metadata": {},
     "output_type": "display_data"
    }
   ],
   "source": [
    "import pandas as pd \n",
    "import matplotlib.pyplot as plt\n",
    "import networkit as nk\n",
    "import tqdm\n",
    "import numpy as np\n",
    "import glob\n",
    "import sys\n",
    "\n",
    "from sklearn.metrics import ndcg_score\n",
    "from sklearn.preprocessing import MinMaxScaler, normalize\n",
    "from scipy.stats import kendalltau"
   ]
  },
  {
   "cell_type": "markdown",
   "id": "56539e88-7258-43e1-8ffb-c3203f144ec8",
   "metadata": {},
   "source": [
    "# Load data"
   ]
  },
  {
   "cell_type": "code",
   "execution_count": 2,
   "id": "0aa3398b-2712-4caf-acd3-ef8e854e3eca",
   "metadata": {},
   "outputs": [
    {
     "data": {
      "text/html": [
       "<div>\n",
       "<style scoped>\n",
       "    .dataframe tbody tr th:only-of-type {\n",
       "        vertical-align: middle;\n",
       "    }\n",
       "\n",
       "    .dataframe tbody tr th {\n",
       "        vertical-align: top;\n",
       "    }\n",
       "\n",
       "    .dataframe thead th {\n",
       "        text-align: right;\n",
       "    }\n",
       "</style>\n",
       "<table border=\"1\" class=\"dataframe\">\n",
       "  <thead>\n",
       "    <tr style=\"text-align: right;\">\n",
       "      <th></th>\n",
       "      <th>prev</th>\n",
       "      <th>curr</th>\n",
       "      <th>type</th>\n",
       "      <th>n</th>\n",
       "    </tr>\n",
       "  </thead>\n",
       "  <tbody>\n",
       "    <tr>\n",
       "      <th>0</th>\n",
       "      <td>Eddie_Albert</td>\n",
       "      <td>The_Dude_Goes_West</td>\n",
       "      <td>link</td>\n",
       "      <td>17</td>\n",
       "    </tr>\n",
       "    <tr>\n",
       "      <th>2</th>\n",
       "      <td>Gale_Storm</td>\n",
       "      <td>The_Dude_Goes_West</td>\n",
       "      <td>link</td>\n",
       "      <td>15</td>\n",
       "    </tr>\n",
       "    <tr>\n",
       "      <th>5</th>\n",
       "      <td>Ascoli_Calcio_1898_F.C.</td>\n",
       "      <td>Gianluca_Scamacca</td>\n",
       "      <td>link</td>\n",
       "      <td>87</td>\n",
       "    </tr>\n",
       "    <tr>\n",
       "      <th>7</th>\n",
       "      <td>2019–20_Coppa_Italia</td>\n",
       "      <td>Gianluca_Scamacca</td>\n",
       "      <td>link</td>\n",
       "      <td>333</td>\n",
       "    </tr>\n",
       "    <tr>\n",
       "      <th>8</th>\n",
       "      <td>2018_UEFA_European_Under-19_Championship</td>\n",
       "      <td>Gianluca_Scamacca</td>\n",
       "      <td>link</td>\n",
       "      <td>23</td>\n",
       "    </tr>\n",
       "  </tbody>\n",
       "</table>\n",
       "</div>"
      ],
      "text/plain": [
       "                                       prev                curr  type    n\n",
       "0                              Eddie_Albert  The_Dude_Goes_West  link   17\n",
       "2                                Gale_Storm  The_Dude_Goes_West  link   15\n",
       "5                   Ascoli_Calcio_1898_F.C.   Gianluca_Scamacca  link   87\n",
       "7                      2019–20_Coppa_Italia   Gianluca_Scamacca  link  333\n",
       "8  2018_UEFA_European_Under-19_Championship   Gianluca_Scamacca  link   23"
      ]
     },
     "execution_count": 2,
     "metadata": {},
     "output_type": "execute_result"
    }
   ],
   "source": [
    "# wikipedia_clickstream_df = pd.concat([pd.read_csv(filepath, sep=\"\\t\", on_bad_lines=\"skip\", header=None, names=[\"prev\", \"curr\", \"type\", \"n\"]) for filepath in glob.glob(\"../data/wikipedia_clickstream/*.tsv\")[:2]], ignore_index=True, axis=0)\n",
    "wikipedia_clickstream_df = pd.read_csv(glob.glob(\"../data/wikipedia_clickstream/*.tsv\")[0], sep=\"\\t\", on_bad_lines=\"skip\", header=None, names=[\"prev\", \"curr\", \"type\", \"n\"])\n",
    "wikipedia_clickstream_df = wikipedia_clickstream_df.loc[wikipedia_clickstream_df[\"type\"]!=\"external\", :]\n",
    "\n",
    "wikipedia_clickstream_df.head()"
   ]
  },
  {
   "cell_type": "markdown",
   "id": "5d67e8dd-3d49-41e4-b4de-8669822f8a25",
   "metadata": {},
   "source": [
    "## Node id and label mapping"
   ]
  },
  {
   "cell_type": "code",
   "execution_count": 3,
   "id": "69ca9541-c507-458e-a2e2-d850339779d2",
   "metadata": {},
   "outputs": [
    {
     "name": "stdout",
     "output_type": "stream",
     "text": [
      "CPU times: user 10.8 s, sys: 527 ms, total: 11.4 s\n",
      "Wall time: 11.4 s\n"
     ]
    }
   ],
   "source": [
    "%%time\n",
    "\n",
    "id_label_mapping = {id: label for id, label in enumerate(list(set(wikipedia_clickstream_df[\"prev\"].to_list() + wikipedia_clickstream_df[\"curr\"].to_list())))}\n",
    "label_id_mapping = {label: id for id, label in id_label_mapping.items()}"
   ]
  },
  {
   "cell_type": "markdown",
   "id": "1e08bb50-022c-464f-be37-e45768343ad7",
   "metadata": {},
   "source": [
    "# Generate networkit graph"
   ]
  },
  {
   "cell_type": "code",
   "execution_count": 4,
   "id": "559e790a-0d26-43b8-82b7-9985c808ac9a",
   "metadata": {},
   "outputs": [
    {
     "name": "stdout",
     "output_type": "stream",
     "text": [
      "Number of nodes:  3021398\n",
      "Number of edges:  100000\n",
      "CPU times: user 9.75 s, sys: 851 ms, total: 10.6 s\n",
      "Wall time: 10.6 s\n"
     ]
    }
   ],
   "source": [
    "%%time\n",
    "\n",
    "kn = 10**5\n",
    "g = nk.Graph(directed=False)\n",
    "\n",
    "for row in wikipedia_clickstream_df[[\"prev\", \"curr\"]].to_records(index=False).tolist()[:kn]:\n",
    "    g.addEdge(label_id_mapping[row[0]], label_id_mapping[row[1]], addMissing=True)\n",
    "\n",
    "print(\"Number of nodes: \", g.numberOfNodes())\n",
    "print(\"Number of edges: \", g.numberOfEdges()) "
   ]
  },
  {
   "cell_type": "markdown",
   "id": "4b564fe1-6c73-497a-888e-b4b516700949",
   "metadata": {},
   "source": [
    "# Network metrics"
   ]
  },
  {
   "cell_type": "markdown",
   "id": "99a6f921-d814-4767-9feb-31ce188ad008",
   "metadata": {},
   "source": [
    "## Density"
   ]
  },
  {
   "cell_type": "code",
   "execution_count": 5,
   "id": "ed89b9dc-01f9-4c85-a6bd-6cbc8f723d10",
   "metadata": {},
   "outputs": [
    {
     "name": "stdout",
     "output_type": "stream",
     "text": [
      "Density:  2.1908581757888712e-08\n"
     ]
    }
   ],
   "source": [
    "print(f\"Density: \", nk.graphtools.density(g))"
   ]
  },
  {
   "cell_type": "markdown",
   "id": "545e1f87-3957-4262-a14b-dfae73dac6d5",
   "metadata": {},
   "source": [
    "## Average clustering coefficient"
   ]
  },
  {
   "cell_type": "code",
   "execution_count": 6,
   "id": "4549fec5-3114-4143-bcfc-9a472e26900c",
   "metadata": {},
   "outputs": [
    {
     "name": "stdout",
     "output_type": "stream",
     "text": [
      "Average clustering coefficient:  0.0010364814978774662\n"
     ]
    }
   ],
   "source": [
    "print(f\"Average clustering coefficient: \", nk.globals.ClusteringCoefficient().exactGlobal(g))"
   ]
  },
  {
   "cell_type": "markdown",
   "id": "68d31e62-6860-4fd1-b904-4dc85ac15a65",
   "metadata": {},
   "source": [
    "## Diameter"
   ]
  },
  {
   "cell_type": "code",
   "execution_count": 7,
   "id": "7470324a-1794-4884-a4b8-04b2f3fee820",
   "metadata": {},
   "outputs": [
    {
     "name": "stdout",
     "output_type": "stream",
     "text": [
      "Diameter:  (22, 0)\n"
     ]
    }
   ],
   "source": [
    "diameter = nk.distance.Diameter(g, algo=nk.distance.DiameterAlgo.Exact, nSamples=10**5)\n",
    "diameter.run()\n",
    "\n",
    "print(f\"Diameter: \", diameter.getDiameter())"
   ]
  },
  {
   "cell_type": "markdown",
   "id": "f6a41ebb-018b-456d-aa8a-c91c6da94e18",
   "metadata": {},
   "source": [
    "# Centrality measures"
   ]
  },
  {
   "cell_type": "code",
   "execution_count": 8,
   "id": "b9a419ed-125a-4435-8a86-86132f57c98e",
   "metadata": {},
   "outputs": [],
   "source": [
    "centrality = {}"
   ]
  },
  {
   "cell_type": "markdown",
   "id": "2e1bd0ec-4d6d-4ffc-badd-0e363ede06ea",
   "metadata": {},
   "source": [
    "## Degree centrality"
   ]
  },
  {
   "cell_type": "code",
   "execution_count": 9,
   "id": "34619fb2-ee25-4320-9b11-53b07e35e25b",
   "metadata": {},
   "outputs": [
    {
     "name": "stdout",
     "output_type": "stream",
     "text": [
      "CPU times: user 1.11 s, sys: 220 ms, total: 1.33 s\n",
      "Wall time: 751 ms\n"
     ]
    },
    {
     "data": {
      "text/plain": [
       "['Main_Page',\n",
       " 'The_Guardian',\n",
       " 'Maldives',\n",
       " 'Charles_de_Gaulle',\n",
       " 'Grammy_Award_for_Album_of_the_Year',\n",
       " 'Kansas',\n",
       " 'Rwanda',\n",
       " 'Kidney_failure',\n",
       " 'Hirohito',\n",
       " 'Suez_Crisis']"
      ]
     },
     "execution_count": 9,
     "metadata": {},
     "output_type": "execute_result"
    }
   ],
   "source": [
    "%%time\n",
    "\n",
    "centrality[\"degree\"] = nk.centrality.DegreeCentrality(g)\n",
    "centrality[\"degree\"].run()\n",
    "[id_label_mapping[item[0]] for item in centrality[\"degree\"].ranking()[:10]]"
   ]
  },
  {
   "cell_type": "markdown",
   "id": "6845efde-ed7a-4f66-8249-b699d5a305ed",
   "metadata": {},
   "source": [
    "## Closeness centrality"
   ]
  },
  {
   "cell_type": "code",
   "execution_count": 10,
   "id": "c6dff7e5-d0d0-4010-97fa-b7bd7db92f3b",
   "metadata": {},
   "outputs": [
    {
     "name": "stdout",
     "output_type": "stream",
     "text": [
      "CPU times: user 13min 3s, sys: 8 s, total: 13min 11s\n",
      "Wall time: 2min 47s\n"
     ]
    },
    {
     "data": {
      "text/plain": [
       "['Main_Page',\n",
       " 'Suez_Crisis',\n",
       " 'The_Guardian',\n",
       " 'Israeli–Palestinian_conflict',\n",
       " 'Charles_de_Gaulle',\n",
       " 'Maldives',\n",
       " 'Rwanda',\n",
       " 'Malaria',\n",
       " 'Reuters',\n",
       " 'British_Armed_Forces']"
      ]
     },
     "execution_count": 10,
     "metadata": {},
     "output_type": "execute_result"
    }
   ],
   "source": [
    "%%time\n",
    "\n",
    "centrality[\"closeness\"] = nk.centrality.Closeness(g, True, nk.centrality.ClosenessVariant.Generalized)\n",
    "centrality[\"closeness\"].run()\n",
    "[id_label_mapping[item[0]] for item in centrality[\"closeness\"].ranking()[:10]]"
   ]
  },
  {
   "cell_type": "markdown",
   "id": "c6e0a09e-481f-4252-92e8-c7917c2c9c22",
   "metadata": {},
   "source": [
    "## Top-k closeness centrality"
   ]
  },
  {
   "cell_type": "code",
   "execution_count": 11,
   "id": "5e2cec62-2583-43e7-b9d5-051d9d213ab1",
   "metadata": {},
   "outputs": [
    {
     "name": "stdout",
     "output_type": "stream",
     "text": [
      "CPU times: user 17min, sys: 9.37 s, total: 17min 9s\n",
      "Wall time: 3min 33s\n"
     ]
    },
    {
     "data": {
      "text/plain": [
       "['Main_Page',\n",
       " 'Suez_Crisis',\n",
       " 'The_Guardian',\n",
       " 'Israeli–Palestinian_conflict',\n",
       " 'Charles_de_Gaulle',\n",
       " 'Maldives',\n",
       " 'Rwanda',\n",
       " 'Malaria',\n",
       " 'Reuters',\n",
       " 'British_Armed_Forces']"
      ]
     },
     "execution_count": 11,
     "metadata": {},
     "output_type": "execute_result"
    }
   ],
   "source": [
    "%%time\n",
    "\n",
    "centrality[\"topkcloseness_0\"] = nk.centrality.TopCloseness(g, k=10000, first_heu=False, sec_heu=False)\n",
    "centrality[\"topkcloseness_0\"].run()\n",
    "[id_label_mapping[item] for item in centrality[\"topkcloseness_0\"].topkNodesList()[:10]]"
   ]
  },
  {
   "cell_type": "code",
   "execution_count": 12,
   "id": "62c34333-4bdd-49dc-a0df-8229c81dbc9d",
   "metadata": {},
   "outputs": [
    {
     "name": "stdout",
     "output_type": "stream",
     "text": [
      "CPU times: user 57min 44s, sys: 10min 17s, total: 1h 8min 1s\n",
      "Wall time: 14min 22s\n"
     ]
    },
    {
     "data": {
      "text/plain": [
       "['Main_Page',\n",
       " 'Suez_Crisis',\n",
       " 'The_Guardian',\n",
       " 'Israeli–Palestinian_conflict',\n",
       " 'Charles_de_Gaulle',\n",
       " 'Maldives',\n",
       " 'Rwanda',\n",
       " 'Malaria',\n",
       " 'Reuters',\n",
       " 'British_Armed_Forces']"
      ]
     },
     "execution_count": 12,
     "metadata": {},
     "output_type": "execute_result"
    }
   ],
   "source": [
    "%%time\n",
    "\n",
    "centrality[\"topkcloseness_1\"] = nk.centrality.TopCloseness(g, k=10000, first_heu=False, sec_heu=True)\n",
    "centrality[\"topkcloseness_1\"].run()\n",
    "[id_label_mapping[item] for item in centrality[\"topkcloseness_1\"].topkNodesList()[:10]]"
   ]
  },
  {
   "cell_type": "markdown",
   "id": "09e5ad5e-a4e6-40c1-be76-ba74a10ff573",
   "metadata": {},
   "source": [
    "# Comparison"
   ]
  },
  {
   "cell_type": "markdown",
   "id": "6b3a6509-57f0-4a85-a607-be4ccda381ad",
   "metadata": {},
   "source": [
    "## Preprocess"
   ]
  },
  {
   "cell_type": "code",
   "execution_count": 13,
   "id": "515fa923-526d-4a7f-8b6b-7ee86e21424e",
   "metadata": {},
   "outputs": [],
   "source": [
    "normalised_scores = {}\n",
    "\n",
    "scaler = MinMaxScaler()\n",
    "normalised_scores[\"degree\"] = scaler.fit_transform(np.array([row[1] for row in centrality[\"degree\"].ranking()]).reshape(-1, 1)).flatten()\n",
    "\n",
    "scaler = MinMaxScaler()\n",
    "normalised_scores[\"closeness\"] = scaler.fit_transform(np.array([row[1] for row in centrality[\"closeness\"].ranking()]).reshape(-1, 1)).flatten()\n",
    "\n",
    "scaler = MinMaxScaler()\n",
    "normalised_scores[\"topkcloseness_0\"] = scaler.fit_transform(np.array(centrality[\"topkcloseness_0\"].topkScoresList()).reshape(-1, 1)).flatten()\n",
    "\n",
    "scaler = MinMaxScaler()\n",
    "normalised_scores[\"topkcloseness_1\"] = scaler.fit_transform(np.array(centrality[\"topkcloseness_1\"].topkScoresList()).reshape(-1, 1)).flatten()\n",
    "\n",
    "nodes = {}\n",
    "nodes[\"degree\"] = [row[0] for row in centrality[\"degree\"].ranking()]\n",
    "nodes[\"closeness\"] = [row[0] for row in centrality[\"closeness\"].ranking()]\n",
    "nodes[\"topkcloseness_0\"] = centrality[\"topkcloseness_0\"].topkNodesList()\n",
    "nodes[\"topkcloseness_1\"] = centrality[\"topkcloseness_1\"].topkNodesList()"
   ]
  },
  {
   "cell_type": "markdown",
   "id": "5531e4a4-f124-4fa3-be84-b125b83fe047",
   "metadata": {},
   "source": [
    "## NDCG degree to (top-k) closeness"
   ]
  },
  {
   "cell_type": "code",
   "execution_count": 14,
   "id": "67c2b8cd-1870-40fd-ad12-5a77f8083463",
   "metadata": {},
   "outputs": [
    {
     "data": {
      "text/html": [
       "<div>\n",
       "<style scoped>\n",
       "    .dataframe tbody tr th:only-of-type {\n",
       "        vertical-align: middle;\n",
       "    }\n",
       "\n",
       "    .dataframe tbody tr th {\n",
       "        vertical-align: top;\n",
       "    }\n",
       "\n",
       "    .dataframe thead th {\n",
       "        text-align: right;\n",
       "    }\n",
       "</style>\n",
       "<table border=\"1\" class=\"dataframe\">\n",
       "  <thead>\n",
       "    <tr style=\"text-align: right;\">\n",
       "      <th></th>\n",
       "      <th>closeness</th>\n",
       "      <th>topkcloseness_0</th>\n",
       "      <th>topkcloseness_1</th>\n",
       "    </tr>\n",
       "  </thead>\n",
       "  <tbody>\n",
       "    <tr>\n",
       "      <th>5</th>\n",
       "      <td>0.900184</td>\n",
       "      <td>0.931698</td>\n",
       "      <td>0.931698</td>\n",
       "    </tr>\n",
       "    <tr>\n",
       "      <th>10</th>\n",
       "      <td>0.973265</td>\n",
       "      <td>0.980079</td>\n",
       "      <td>0.980079</td>\n",
       "    </tr>\n",
       "    <tr>\n",
       "      <th>100</th>\n",
       "      <td>0.967091</td>\n",
       "      <td>0.970014</td>\n",
       "      <td>0.970014</td>\n",
       "    </tr>\n",
       "    <tr>\n",
       "      <th>1000</th>\n",
       "      <td>0.987265</td>\n",
       "      <td>0.987528</td>\n",
       "      <td>0.987528</td>\n",
       "    </tr>\n",
       "    <tr>\n",
       "      <th>10000</th>\n",
       "      <td>0.958743</td>\n",
       "      <td>0.998283</td>\n",
       "      <td>0.998283</td>\n",
       "    </tr>\n",
       "  </tbody>\n",
       "</table>\n",
       "</div>"
      ],
      "text/plain": [
       "       closeness  topkcloseness_0  topkcloseness_1\n",
       "5       0.900184         0.931698         0.931698\n",
       "10      0.973265         0.980079         0.980079\n",
       "100     0.967091         0.970014         0.970014\n",
       "1000    0.987265         0.987528         0.987528\n",
       "10000   0.958743         0.998283         0.998283"
      ]
     },
     "execution_count": 14,
     "metadata": {},
     "output_type": "execute_result"
    }
   ],
   "source": [
    "ndcg_scores = {}\n",
    "\n",
    "for k in [5, 10, 100, 1000, 10000]:\n",
    "    ndcg_scores[k] = {}\n",
    "    \n",
    "    for centrality_measure in [\"closeness\", \"topkcloseness_0\", \"topkcloseness_1\"]:\n",
    "        y_score = [normalised_scores[centrality_measure][index] if node in nodes[\"degree\"][:k] else 0 for index, node in enumerate(nodes[centrality_measure][:k])]\n",
    "        y_true = normalised_scores[\"degree\"][:k]\n",
    "\n",
    "        ndcg_scores[k][centrality_measure] = ndcg_score([y_score], [y_true])\n",
    "    \n",
    "pd.DataFrame(ndcg_scores).T"
   ]
  },
  {
   "cell_type": "markdown",
   "id": "608b41f0-d512-41cb-873a-b63b7f1a1e7a",
   "metadata": {},
   "source": [
    "## NDCG (top-k) closeness to degree"
   ]
  },
  {
   "cell_type": "code",
   "execution_count": 15,
   "id": "5f7e56d6-8c8c-485c-8e8c-e12fbe11b479",
   "metadata": {},
   "outputs": [
    {
     "data": {
      "text/html": [
       "<div>\n",
       "<style scoped>\n",
       "    .dataframe tbody tr th:only-of-type {\n",
       "        vertical-align: middle;\n",
       "    }\n",
       "\n",
       "    .dataframe tbody tr th {\n",
       "        vertical-align: top;\n",
       "    }\n",
       "\n",
       "    .dataframe thead th {\n",
       "        text-align: right;\n",
       "    }\n",
       "</style>\n",
       "<table border=\"1\" class=\"dataframe\">\n",
       "  <thead>\n",
       "    <tr style=\"text-align: right;\">\n",
       "      <th></th>\n",
       "      <th>closeness</th>\n",
       "      <th>topkcloseness_0</th>\n",
       "      <th>topkcloseness_1</th>\n",
       "    </tr>\n",
       "  </thead>\n",
       "  <tbody>\n",
       "    <tr>\n",
       "      <th>5</th>\n",
       "      <td>0.985311</td>\n",
       "      <td>0.985311</td>\n",
       "      <td>0.985311</td>\n",
       "    </tr>\n",
       "    <tr>\n",
       "      <th>10</th>\n",
       "      <td>0.981775</td>\n",
       "      <td>0.981775</td>\n",
       "      <td>0.981775</td>\n",
       "    </tr>\n",
       "    <tr>\n",
       "      <th>100</th>\n",
       "      <td>0.995303</td>\n",
       "      <td>0.995303</td>\n",
       "      <td>0.995303</td>\n",
       "    </tr>\n",
       "    <tr>\n",
       "      <th>1000</th>\n",
       "      <td>0.993303</td>\n",
       "      <td>0.993303</td>\n",
       "      <td>0.993303</td>\n",
       "    </tr>\n",
       "    <tr>\n",
       "      <th>10000</th>\n",
       "      <td>0.984065</td>\n",
       "      <td>0.984065</td>\n",
       "      <td>0.984065</td>\n",
       "    </tr>\n",
       "  </tbody>\n",
       "</table>\n",
       "</div>"
      ],
      "text/plain": [
       "       closeness  topkcloseness_0  topkcloseness_1\n",
       "5       0.985311         0.985311         0.985311\n",
       "10      0.981775         0.981775         0.981775\n",
       "100     0.995303         0.995303         0.995303\n",
       "1000    0.993303         0.993303         0.993303\n",
       "10000   0.984065         0.984065         0.984065"
      ]
     },
     "execution_count": 15,
     "metadata": {},
     "output_type": "execute_result"
    }
   ],
   "source": [
    "ndcg_scores = {}\n",
    "\n",
    "for k in [5, 10, 100, 1000, 10000]:\n",
    "    ndcg_scores[k] = {}\n",
    "    \n",
    "    for centrality_measure in [\"closeness\", \"topkcloseness_0\", \"topkcloseness_1\"]:\n",
    "        y_score = [normalised_scores[\"degree\"][index] if node in nodes[centrality_measure][:k] else 0 for index, node in enumerate(nodes[\"degree\"][:k])]\n",
    "        y_true = normalised_scores[centrality_measure][:k]\n",
    "\n",
    "        ndcg_scores[k][centrality_measure] = ndcg_score([y_score], [y_true])\n",
    "    \n",
    "pd.DataFrame(ndcg_scores).T"
   ]
  },
  {
   "cell_type": "markdown",
   "id": "68722b94-fb72-4866-bd92-ebbbb54dc5ab",
   "metadata": {},
   "source": [
    "## Kendall tau degree to (top k) closeness centrality correlation"
   ]
  },
  {
   "cell_type": "code",
   "execution_count": 16,
   "id": "0e43494b-8fbb-42c0-83bf-a8782b7332ee",
   "metadata": {},
   "outputs": [
    {
     "data": {
      "text/html": [
       "<div>\n",
       "<style scoped>\n",
       "    .dataframe tbody tr th:only-of-type {\n",
       "        vertical-align: middle;\n",
       "    }\n",
       "\n",
       "    .dataframe tbody tr th {\n",
       "        vertical-align: top;\n",
       "    }\n",
       "\n",
       "    .dataframe thead th {\n",
       "        text-align: right;\n",
       "    }\n",
       "</style>\n",
       "<table border=\"1\" class=\"dataframe\">\n",
       "  <thead>\n",
       "    <tr style=\"text-align: right;\">\n",
       "      <th></th>\n",
       "      <th>closeness</th>\n",
       "      <th>topkcloseness_0</th>\n",
       "      <th>topkcloseness_1</th>\n",
       "    </tr>\n",
       "  </thead>\n",
       "  <tbody>\n",
       "    <tr>\n",
       "      <th>5</th>\n",
       "      <td>0.316228</td>\n",
       "      <td>0.316228</td>\n",
       "      <td>0.316228</td>\n",
       "    </tr>\n",
       "    <tr>\n",
       "      <th>10</th>\n",
       "      <td>0.787726</td>\n",
       "      <td>0.787726</td>\n",
       "      <td>0.787726</td>\n",
       "    </tr>\n",
       "    <tr>\n",
       "      <th>100</th>\n",
       "      <td>0.692692</td>\n",
       "      <td>0.692692</td>\n",
       "      <td>0.692692</td>\n",
       "    </tr>\n",
       "    <tr>\n",
       "      <th>1000</th>\n",
       "      <td>0.811134</td>\n",
       "      <td>0.811134</td>\n",
       "      <td>0.811134</td>\n",
       "    </tr>\n",
       "    <tr>\n",
       "      <th>10000</th>\n",
       "      <td>0.417640</td>\n",
       "      <td>0.417640</td>\n",
       "      <td>0.417640</td>\n",
       "    </tr>\n",
       "  </tbody>\n",
       "</table>\n",
       "</div>"
      ],
      "text/plain": [
       "       closeness  topkcloseness_0  topkcloseness_1\n",
       "5       0.316228         0.316228         0.316228\n",
       "10      0.787726         0.787726         0.787726\n",
       "100     0.692692         0.692692         0.692692\n",
       "1000    0.811134         0.811134         0.811134\n",
       "10000   0.417640         0.417640         0.417640"
      ]
     },
     "execution_count": 16,
     "metadata": {},
     "output_type": "execute_result"
    }
   ],
   "source": [
    "kendall_tau_corr = {}\n",
    "\n",
    "for k in [5, 10, 100, 1000, 10000]:\n",
    "    kendall_tau_corr[k] = {}\n",
    "    \n",
    "    for centrality_measure in [\"closeness\", \"topkcloseness_0\", \"topkcloseness_1\"]:\n",
    "        y_score = [normalised_scores[centrality_measure][index] if node in nodes[\"degree\"][:k] else 0 for index, node in enumerate(nodes[centrality_measure][:k])]\n",
    "        y_true = normalised_scores[\"degree\"][:k]\n",
    "\n",
    "        corr, _ = kendalltau([y_true], [y_score])\n",
    "        kendall_tau_corr[k][centrality_measure] = corr\n",
    "    \n",
    "pd.DataFrame(kendall_tau_corr).T"
   ]
  },
  {
   "cell_type": "markdown",
   "id": "0ce96b5f-74ac-450a-b577-597593716192",
   "metadata": {},
   "source": [
    "## Kendall tau (top k) closeness to degree centrality correlation"
   ]
  },
  {
   "cell_type": "code",
   "execution_count": 17,
   "id": "22ceca4f-7879-4a77-b5b0-1e9ae3dd610c",
   "metadata": {},
   "outputs": [
    {
     "data": {
      "text/html": [
       "<div>\n",
       "<style scoped>\n",
       "    .dataframe tbody tr th:only-of-type {\n",
       "        vertical-align: middle;\n",
       "    }\n",
       "\n",
       "    .dataframe tbody tr th {\n",
       "        vertical-align: top;\n",
       "    }\n",
       "\n",
       "    .dataframe thead th {\n",
       "        text-align: right;\n",
       "    }\n",
       "</style>\n",
       "<table border=\"1\" class=\"dataframe\">\n",
       "  <thead>\n",
       "    <tr style=\"text-align: right;\">\n",
       "      <th></th>\n",
       "      <th>closeness</th>\n",
       "      <th>topkcloseness_0</th>\n",
       "      <th>topkcloseness_1</th>\n",
       "    </tr>\n",
       "  </thead>\n",
       "  <tbody>\n",
       "    <tr>\n",
       "      <th>5</th>\n",
       "      <td>0.737865</td>\n",
       "      <td>0.737865</td>\n",
       "      <td>0.737865</td>\n",
       "    </tr>\n",
       "    <tr>\n",
       "      <th>10</th>\n",
       "      <td>0.644503</td>\n",
       "      <td>0.644503</td>\n",
       "      <td>0.644503</td>\n",
       "    </tr>\n",
       "    <tr>\n",
       "      <th>100</th>\n",
       "      <td>0.820800</td>\n",
       "      <td>0.820800</td>\n",
       "      <td>0.820800</td>\n",
       "    </tr>\n",
       "    <tr>\n",
       "      <th>1000</th>\n",
       "      <td>0.703637</td>\n",
       "      <td>0.703637</td>\n",
       "      <td>0.703637</td>\n",
       "    </tr>\n",
       "    <tr>\n",
       "      <th>10000</th>\n",
       "      <td>0.218185</td>\n",
       "      <td>0.218185</td>\n",
       "      <td>0.218185</td>\n",
       "    </tr>\n",
       "  </tbody>\n",
       "</table>\n",
       "</div>"
      ],
      "text/plain": [
       "       closeness  topkcloseness_0  topkcloseness_1\n",
       "5       0.737865         0.737865         0.737865\n",
       "10      0.644503         0.644503         0.644503\n",
       "100     0.820800         0.820800         0.820800\n",
       "1000    0.703637         0.703637         0.703637\n",
       "10000   0.218185         0.218185         0.218185"
      ]
     },
     "execution_count": 17,
     "metadata": {},
     "output_type": "execute_result"
    }
   ],
   "source": [
    "kendall_tau_corr = {}\n",
    "\n",
    "for k in [5, 10, 100, 1000, 10000]:\n",
    "    kendall_tau_corr[k] = {}\n",
    "    \n",
    "    for centrality_measure in [\"closeness\", \"topkcloseness_0\", \"topkcloseness_1\"]:\n",
    "        y_score = [normalised_scores[\"degree\"][index] if node in nodes[centrality_measure][:k] else 0 for index, node in enumerate(nodes[\"degree\"][:k])]\n",
    "        y_true = normalised_scores[centrality_measure][:k]\n",
    "\n",
    "        corr, _ = kendalltau([y_true], [y_score])\n",
    "        kendall_tau_corr[k][centrality_measure] = corr\n",
    "    \n",
    "pd.DataFrame(kendall_tau_corr).T"
   ]
  },
  {
   "cell_type": "code",
   "execution_count": null,
   "id": "753af7b9-73c0-4f48-aada-dd765f12149d",
   "metadata": {},
   "outputs": [],
   "source": []
  }
 ],
 "metadata": {
  "kernelspec": {
   "display_name": "Python 3 (ipykernel)",
   "language": "python",
   "name": "python3"
  },
  "language_info": {
   "codemirror_mode": {
    "name": "ipython",
    "version": 3
   },
   "file_extension": ".py",
   "mimetype": "text/x-python",
   "name": "python",
   "nbconvert_exporter": "python",
   "pygments_lexer": "ipython3",
   "version": "3.9.13"
  }
 },
 "nbformat": 4,
 "nbformat_minor": 5
}
