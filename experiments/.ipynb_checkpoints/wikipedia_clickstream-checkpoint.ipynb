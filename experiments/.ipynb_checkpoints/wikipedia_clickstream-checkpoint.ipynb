{
 "cells": [
  {
   "cell_type": "markdown",
   "metadata": {},
   "source": [
    "# Imports"
   ]
  },
  {
   "cell_type": "code",
   "execution_count": 1,
   "metadata": {},
   "outputs": [
    {
     "data": {
      "text/html": [
       "\n",
       "\t\t\t<script type=\"text/javascript\">\n",
       "\t\t\t<!--\n",
       "\t\t\t\t\n",
       "\t\t\t{\n",
       "\t\t\t\tvar element = document.getElementById('NetworKit_script');\n",
       "\t\t\t\tif (element) {\n",
       "\t\t\t\t\telement.parentNode.removeChild(element);\n",
       "\t\t\t\t}\n",
       "\t\t\t\telement = document.createElement('script');\n",
       "\t\t\t\telement.type = 'text/javascript';\n",
       "\t\t\t\telement.innerHTML = 'function NetworKit_pageEmbed(id) { var i, j; var elements; elements = document.getElementById(id).getElementsByClassName(\"Plot\"); for (i=0; i<elements.length; i++) { elements[i].id = id + \"_Plot_\" + i; var data = elements[i].getAttribute(\"data-image\").split(\"|\"); elements[i].removeAttribute(\"data-image\"); var content = \"<div class=\\\\\"Image\\\\\" id=\\\\\"\" + elements[i].id + \"_Image\\\\\" />\"; elements[i].innerHTML = content; elements[i].setAttribute(\"data-image-index\", 0); elements[i].setAttribute(\"data-image-length\", data.length); for (j=0; j<data.length; j++) { elements[i].setAttribute(\"data-image-\" + j, data[j]); } NetworKit_plotUpdate(elements[i]); elements[i].onclick = function (e) { NetworKit_overlayShow((e.target) ? e.target : e.srcElement); } } elements = document.getElementById(id).getElementsByClassName(\"HeatCell\"); for (i=0; i<elements.length; i++) { var data = parseFloat(elements[i].getAttribute(\"data-heat\")); var color = \"#00FF00\"; if (data <= 1 && data > 0) { color = \"hsla(0, 100%, 75%, \" + (data) + \")\"; } else if (data <= 0 && data >= -1) { color = \"hsla(240, 100%, 75%, \" + (-data) + \")\"; } elements[i].style.backgroundColor = color; } elements = document.getElementById(id).getElementsByClassName(\"Details\"); for (i=0; i<elements.length; i++) { elements[i].setAttribute(\"data-title\", \"-\"); NetworKit_toggleDetails(elements[i]); elements[i].onclick = function (e) { NetworKit_toggleDetails((e.target) ? e.target : e.srcElement); } } elements = document.getElementById(id).getElementsByClassName(\"MathValue\"); for (i=elements.length-1; i>=0; i--) { value = elements[i].innerHTML.trim(); if (value === \"nan\") { elements[i].parentNode.innerHTML = \"\" } } elements = document.getElementById(id).getElementsByClassName(\"SubCategory\"); for (i=elements.length-1; i>=0; i--) { value = elements[i].innerHTML.trim(); if (value === \"\") { elements[i].parentNode.removeChild(elements[i]) } } elements = document.getElementById(id).getElementsByClassName(\"Category\"); for (i=elements.length-1; i>=0; i--) { value = elements[i].innerHTML.trim(); if (value === \"\") { elements[i].parentNode.removeChild(elements[i]) } } var isFirefox = false; try { isFirefox = typeof InstallTrigger !== \"undefined\"; } catch (e) {} if (!isFirefox) { alert(\"Currently the function\\'s output is only fully supported by Firefox.\"); } } function NetworKit_plotUpdate(source) { var index = source.getAttribute(\"data-image-index\"); var data = source.getAttribute(\"data-image-\" + index); var image = document.getElementById(source.id + \"_Image\"); image.style.backgroundImage = \"url(\" + data + \")\"; } function NetworKit_showElement(id, show) { var element = document.getElementById(id); element.style.display = (show) ? \"block\" : \"none\"; } function NetworKit_overlayShow(source) { NetworKit_overlayUpdate(source); NetworKit_showElement(\"NetworKit_Overlay\", true); } function NetworKit_overlayUpdate(source) { document.getElementById(\"NetworKit_Overlay_Title\").innerHTML = source.title; var index = source.getAttribute(\"data-image-index\"); var data = source.getAttribute(\"data-image-\" + index); var image = document.getElementById(\"NetworKit_Overlay_Image\"); image.setAttribute(\"data-id\", source.id); image.style.backgroundImage = \"url(\" + data + \")\"; var link = document.getElementById(\"NetworKit_Overlay_Toolbar_Bottom_Save\"); link.href = data; link.download = source.title + \".svg\"; } function NetworKit_overlayImageShift(delta) { var image = document.getElementById(\"NetworKit_Overlay_Image\"); var source = document.getElementById(image.getAttribute(\"data-id\")); var index = parseInt(source.getAttribute(\"data-image-index\")); var length = parseInt(source.getAttribute(\"data-image-length\")); var index = (index+delta) % length; if (index < 0) { index = length + index; } source.setAttribute(\"data-image-index\", index); NetworKit_overlayUpdate(source); } function NetworKit_toggleDetails(source) { var childs = source.children; var show = false; if (source.getAttribute(\"data-title\") == \"-\") { source.setAttribute(\"data-title\", \"+\"); show = false; } else { source.setAttribute(\"data-title\", \"-\"); show = true; } for (i=0; i<childs.length; i++) { if (show) { childs[i].style.display = \"block\"; } else { childs[i].style.display = \"none\"; } } }';\n",
       "\t\t\t\telement.setAttribute('id', 'NetworKit_script');\n",
       "\t\t\t\tdocument.head.appendChild(element);\n",
       "\t\t\t}\n",
       "\t\t\n",
       "\t\t\t\t\n",
       "\t\t\t{\n",
       "\t\t\t\tvar element = document.getElementById('NetworKit_style');\n",
       "\t\t\t\tif (element) {\n",
       "\t\t\t\t\telement.parentNode.removeChild(element);\n",
       "\t\t\t\t}\n",
       "\t\t\t\telement = document.createElement('style');\n",
       "\t\t\t\telement.type = 'text/css';\n",
       "\t\t\t\telement.innerHTML = '.NetworKit_Page { font-family: Arial, Helvetica, sans-serif; font-size: 14px; } .NetworKit_Page .Value:before { font-family: Arial, Helvetica, sans-serif; font-size: 1.05em; content: attr(data-title) \":\"; margin-left: -2.5em; padding-right: 0.5em; } .NetworKit_Page .Details .Value:before { display: block; } .NetworKit_Page .Value { font-family: monospace; white-space: pre; padding-left: 2.5em; white-space: -moz-pre-wrap !important; white-space: -pre-wrap; white-space: -o-pre-wrap; white-space: pre-wrap; word-wrap: break-word; tab-size: 4; -moz-tab-size: 4; } .NetworKit_Page .Category { clear: both; padding-left: 1em; margin-bottom: 1.5em; } .NetworKit_Page .Category:before { content: attr(data-title); font-size: 1.75em; display: block; margin-left: -0.8em; margin-bottom: 0.5em; } .NetworKit_Page .SubCategory { margin-bottom: 1.5em; padding-left: 1em; } .NetworKit_Page .SubCategory:before { font-size: 1.6em; display: block; margin-left: -0.8em; margin-bottom: 0.5em; } .NetworKit_Page .SubCategory[data-title]:before { content: attr(data-title); } .NetworKit_Page .Block { display: block; } .NetworKit_Page .Block:after { content: \".\"; visibility: hidden; display: block; height: 0; clear: both; } .NetworKit_Page .Block .Thumbnail_Overview, .NetworKit_Page .Block .Thumbnail_ScatterPlot { width: 260px; float: left; } .NetworKit_Page .Block .Thumbnail_Overview img, .NetworKit_Page .Block .Thumbnail_ScatterPlot img { width: 260px; } .NetworKit_Page .Block .Thumbnail_Overview:before, .NetworKit_Page .Block .Thumbnail_ScatterPlot:before { display: block; text-align: center; font-weight: bold; } .NetworKit_Page .Block .Thumbnail_Overview:before { content: attr(data-title); } .NetworKit_Page .HeatCell { font-family: \"Courier New\", Courier, monospace; cursor: pointer; } .NetworKit_Page .HeatCell, .NetworKit_Page .HeatCellName { display: inline; padding: 0.1em; margin-right: 2px; background-color: #FFFFFF } .NetworKit_Page .HeatCellName { margin-left: 0.25em; } .NetworKit_Page .HeatCell:before { content: attr(data-heat); display: inline-block; color: #000000; width: 4em; text-align: center; } .NetworKit_Page .Measure { clear: both; } .NetworKit_Page .Measure .Details { cursor: pointer; } .NetworKit_Page .Measure .Details:before { content: \"[\" attr(data-title) \"]\"; display: block; } .NetworKit_Page .Measure .Details .Value { border-left: 1px dotted black; margin-left: 0.4em; padding-left: 3.5em; pointer-events: none; } .NetworKit_Page .Measure .Details .Spacer:before { content: \".\"; opacity: 0.0; pointer-events: none; } .NetworKit_Page .Measure .Plot { width: 440px; height: 440px; cursor: pointer; float: left; margin-left: -0.9em; margin-right: 20px; } .NetworKit_Page .Measure .Plot .Image { background-repeat: no-repeat; background-position: center center; background-size: contain; height: 100%; pointer-events: none; } .NetworKit_Page .Measure .Stat { width: 500px; float: left; } .NetworKit_Page .Measure .Stat .Group { padding-left: 1.25em; margin-bottom: 0.75em; } .NetworKit_Page .Measure .Stat .Group .Title { font-size: 1.1em; display: block; margin-bottom: 0.3em; margin-left: -0.75em; border-right-style: dotted; border-right-width: 1px; border-bottom-style: dotted; border-bottom-width: 1px; background-color: #D0D0D0; padding-left: 0.2em; } .NetworKit_Page .Measure .Stat .Group .List { -webkit-column-count: 3; -moz-column-count: 3; column-count: 3; } .NetworKit_Page .Measure .Stat .Group .List .Entry { position: relative; line-height: 1.75em; } .NetworKit_Page .Measure .Stat .Group .List .Entry[data-tooltip]:before { position: absolute; left: 0; top: -40px; background-color: #808080; color: #ffffff; height: 30px; line-height: 30px; border-radius: 5px; padding: 0 15px; content: attr(data-tooltip); white-space: nowrap; display: none; } .NetworKit_Page .Measure .Stat .Group .List .Entry[data-tooltip]:after { position: absolute; left: 15px; top: -10px; border-top: 7px solid #808080; border-left: 7px solid transparent; border-right: 7px solid transparent; content: \"\"; display: none; } .NetworKit_Page .Measure .Stat .Group .List .Entry[data-tooltip]:hover:after, .NetworKit_Page .Measure .Stat .Group .List .Entry[data-tooltip]:hover:before { display: block; } .NetworKit_Page .Measure .Stat .Group .List .Entry .MathValue { font-family: \"Courier New\", Courier, monospace; } .NetworKit_Page .Measure:after { content: \".\"; visibility: hidden; display: block; height: 0; clear: both; } .NetworKit_Page .PartitionPie { clear: both; } .NetworKit_Page .PartitionPie img { width: 600px; } #NetworKit_Overlay { left: 0px; top: 0px; display: none; position: absolute; width: 100%; height: 100%; background-color: rgba(0,0,0,0.6); z-index: 1000; } #NetworKit_Overlay_Title { position: absolute; color: white; transform: rotate(-90deg); width: 32em; height: 32em; padding-right: 0.5em; padding-top: 0.5em; text-align: right; font-size: 40px; } #NetworKit_Overlay .button { background: white; cursor: pointer; } #NetworKit_Overlay .button:before { size: 13px; display: inline-block; text-align: center; margin-top: 0.5em; margin-bottom: 0.5em; width: 1.5em; height: 1.5em; } #NetworKit_Overlay .icon-close:before { content: \"X\"; } #NetworKit_Overlay .icon-previous:before { content: \"P\"; } #NetworKit_Overlay .icon-next:before { content: \"N\"; } #NetworKit_Overlay .icon-save:before { content: \"S\"; } #NetworKit_Overlay_Toolbar_Top, #NetworKit_Overlay_Toolbar_Bottom { position: absolute; width: 40px; right: 13px; text-align: right; z-index: 1100; } #NetworKit_Overlay_Toolbar_Top { top: 0.5em; } #NetworKit_Overlay_Toolbar_Bottom { Bottom: 0.5em; } #NetworKit_Overlay_ImageContainer { position: absolute; top: 5%; left: 5%; height: 90%; width: 90%; background-repeat: no-repeat; background-position: center center; background-size: contain; } #NetworKit_Overlay_Image { height: 100%; width: 100%; background-repeat: no-repeat; background-position: center center; background-size: contain; }';\n",
       "\t\t\t\telement.setAttribute('id', 'NetworKit_style');\n",
       "\t\t\t\tdocument.head.appendChild(element);\n",
       "\t\t\t}\n",
       "\t\t\n",
       "\t\t\t\t\n",
       "\t\t\t{\n",
       "\t\t\t\tvar element = document.getElementById('NetworKit_Overlay');\n",
       "\t\t\t\tif (element) {\n",
       "\t\t\t\t\telement.parentNode.removeChild(element);\n",
       "\t\t\t\t}\n",
       "\t\t\t\telement = document.createElement('div');\n",
       "\t\t\t\telement.innerHTML = '<div id=\"NetworKit_Overlay_Toolbar_Top\"><div class=\"button icon-close\" id=\"NetworKit_Overlay_Close\" /></div><div id=\"NetworKit_Overlay_Title\" /> <div id=\"NetworKit_Overlay_ImageContainer\"> <div id=\"NetworKit_Overlay_Image\" /> </div> <div id=\"NetworKit_Overlay_Toolbar_Bottom\"> <div class=\"button icon-previous\" onclick=\"NetworKit_overlayImageShift(-1)\" /> <div class=\"button icon-next\" onclick=\"NetworKit_overlayImageShift(1)\" /> <a id=\"NetworKit_Overlay_Toolbar_Bottom_Save\"><div class=\"button icon-save\" /></a> </div>';\n",
       "\t\t\t\telement.setAttribute('id', 'NetworKit_Overlay');\n",
       "\t\t\t\tdocument.body.appendChild(element);\n",
       "\t\t\t\tdocument.getElementById('NetworKit_Overlay_Close').onclick = function (e) {\n",
       "\t\t\t\t\tdocument.getElementById('NetworKit_Overlay').style.display = 'none';\n",
       "\t\t\t\t}\n",
       "\t\t\t}\n",
       "\t\t\n",
       "\t\t\t-->\n",
       "\t\t\t</script>\n",
       "\t\t"
      ]
     },
     "metadata": {},
     "output_type": "display_data"
    }
   ],
   "source": [
    "import pandas as pd \n",
    "import matplotlib.pyplot as plt\n",
    "import networkit as nk\n",
    "import networkx as nx\n",
    "import tqdm\n",
    "import numpy as np\n",
    "import glob\n",
    "\n",
    "from sklearn.metrics import ndcg_score"
   ]
  },
  {
   "cell_type": "markdown",
   "metadata": {},
   "source": [
    "# Load data"
   ]
  },
  {
   "cell_type": "code",
   "execution_count": 88,
   "metadata": {},
   "outputs": [
    {
     "data": {
      "text/html": [
       "<div>\n",
       "<style scoped>\n",
       "    .dataframe tbody tr th:only-of-type {\n",
       "        vertical-align: middle;\n",
       "    }\n",
       "\n",
       "    .dataframe tbody tr th {\n",
       "        vertical-align: top;\n",
       "    }\n",
       "\n",
       "    .dataframe thead th {\n",
       "        text-align: right;\n",
       "    }\n",
       "</style>\n",
       "<table border=\"1\" class=\"dataframe\">\n",
       "  <thead>\n",
       "    <tr style=\"text-align: right;\">\n",
       "      <th></th>\n",
       "      <th>prev</th>\n",
       "      <th>curr</th>\n",
       "      <th>type</th>\n",
       "      <th>n</th>\n",
       "    </tr>\n",
       "  </thead>\n",
       "  <tbody>\n",
       "    <tr>\n",
       "      <th>0</th>\n",
       "      <td>Eddie_Albert</td>\n",
       "      <td>The_Dude_Goes_West</td>\n",
       "      <td>link</td>\n",
       "      <td>17</td>\n",
       "    </tr>\n",
       "    <tr>\n",
       "      <th>2</th>\n",
       "      <td>Gale_Storm</td>\n",
       "      <td>The_Dude_Goes_West</td>\n",
       "      <td>link</td>\n",
       "      <td>15</td>\n",
       "    </tr>\n",
       "    <tr>\n",
       "      <th>5</th>\n",
       "      <td>Ascoli_Calcio_1898_F.C.</td>\n",
       "      <td>Gianluca_Scamacca</td>\n",
       "      <td>link</td>\n",
       "      <td>87</td>\n",
       "    </tr>\n",
       "    <tr>\n",
       "      <th>7</th>\n",
       "      <td>2019–20_Coppa_Italia</td>\n",
       "      <td>Gianluca_Scamacca</td>\n",
       "      <td>link</td>\n",
       "      <td>333</td>\n",
       "    </tr>\n",
       "    <tr>\n",
       "      <th>8</th>\n",
       "      <td>2018_UEFA_European_Under-19_Championship</td>\n",
       "      <td>Gianluca_Scamacca</td>\n",
       "      <td>link</td>\n",
       "      <td>23</td>\n",
       "    </tr>\n",
       "  </tbody>\n",
       "</table>\n",
       "</div>"
      ],
      "text/plain": [
       "                                       prev                curr  type    n\n",
       "0                              Eddie_Albert  The_Dude_Goes_West  link   17\n",
       "2                                Gale_Storm  The_Dude_Goes_West  link   15\n",
       "5                   Ascoli_Calcio_1898_F.C.   Gianluca_Scamacca  link   87\n",
       "7                      2019–20_Coppa_Italia   Gianluca_Scamacca  link  333\n",
       "8  2018_UEFA_European_Under-19_Championship   Gianluca_Scamacca  link   23"
      ]
     },
     "execution_count": 88,
     "metadata": {},
     "output_type": "execute_result"
    }
   ],
   "source": [
    "# wikipedia_clickstream_df = pd.concat([pd.read_csv(filepath, sep=\"\\t\", on_bad_lines=\"skip\", header=None, names=[\"prev\", \"curr\", \"type\", \"n\"]) for filepath in glob.glob(\"../data/wikipedia_clickstream/*.tsv\")[:2]], ignore_index=True, axis=0)\n",
    "wikipedia_clickstream_df = pd.read_csv(glob.glob(\"../data/wikipedia_clickstream/*.tsv\")[0], sep=\"\\t\", on_bad_lines=\"skip\", header=None, names=[\"prev\", \"curr\", \"type\", \"n\"])\n",
    "wikipedia_clickstream_df = wikipedia_clickstream_df.loc[wikipedia_clickstream_df[\"type\"]!=\"external\", :]\n",
    "\n",
    "wikipedia_clickstream_df.head()"
   ]
  },
  {
   "cell_type": "code",
   "execution_count": 206,
   "metadata": {},
   "outputs": [
    {
     "data": {
      "text/html": [
       "<div>\n",
       "<style scoped>\n",
       "    .dataframe tbody tr th:only-of-type {\n",
       "        vertical-align: middle;\n",
       "    }\n",
       "\n",
       "    .dataframe tbody tr th {\n",
       "        vertical-align: top;\n",
       "    }\n",
       "\n",
       "    .dataframe thead th {\n",
       "        text-align: right;\n",
       "    }\n",
       "</style>\n",
       "<table border=\"1\" class=\"dataframe\">\n",
       "  <thead>\n",
       "    <tr style=\"text-align: right;\">\n",
       "      <th></th>\n",
       "      <th>curr</th>\n",
       "      <th>n</th>\n",
       "    </tr>\n",
       "  </thead>\n",
       "  <tbody>\n",
       "    <tr>\n",
       "      <th>1190357</th>\n",
       "      <td>Hyphen-minus</td>\n",
       "      <td>7535327</td>\n",
       "    </tr>\n",
       "    <tr>\n",
       "      <th>1661220</th>\n",
       "      <td>Main_Page</td>\n",
       "      <td>5303986</td>\n",
       "    </tr>\n",
       "    <tr>\n",
       "      <th>730536</th>\n",
       "      <td>Deaths_in_2020</td>\n",
       "      <td>1669864</td>\n",
       "    </tr>\n",
       "    <tr>\n",
       "      <th>121179</th>\n",
       "      <td>2019–20_Wuhan_coronavirus_outbreak</td>\n",
       "      <td>1519584</td>\n",
       "    </tr>\n",
       "    <tr>\n",
       "      <th>845221</th>\n",
       "      <td>Elizabeth_II</td>\n",
       "      <td>1106447</td>\n",
       "    </tr>\n",
       "  </tbody>\n",
       "</table>\n",
       "</div>"
      ],
      "text/plain": [
       "                                       curr        n\n",
       "1190357                        Hyphen-minus  7535327\n",
       "1661220                           Main_Page  5303986\n",
       "730536                       Deaths_in_2020  1669864\n",
       "121179   2019–20_Wuhan_coronavirus_outbreak  1519584\n",
       "845221                         Elizabeth_II  1106447"
      ]
     },
     "execution_count": 206,
     "metadata": {},
     "output_type": "execute_result"
    }
   ],
   "source": [
    "incoming_request_count_df = wikipedia_clickstream_df.groupby(\"curr\")[\"n\"].sum().reset_index().sort_values(\"n\", ascending=False)\n",
    "\n",
    "incoming_request_count_df.head()"
   ]
  },
  {
   "cell_type": "code",
   "execution_count": 90,
   "metadata": {},
   "outputs": [
    {
     "data": {
      "text/html": [
       "<div>\n",
       "<style scoped>\n",
       "    .dataframe tbody tr th:only-of-type {\n",
       "        vertical-align: middle;\n",
       "    }\n",
       "\n",
       "    .dataframe tbody tr th {\n",
       "        vertical-align: top;\n",
       "    }\n",
       "\n",
       "    .dataframe thead th {\n",
       "        text-align: right;\n",
       "    }\n",
       "</style>\n",
       "<table border=\"1\" class=\"dataframe\">\n",
       "  <thead>\n",
       "    <tr style=\"text-align: right;\">\n",
       "      <th></th>\n",
       "      <th>prev</th>\n",
       "      <th>n</th>\n",
       "    </tr>\n",
       "  </thead>\n",
       "  <tbody>\n",
       "    <tr>\n",
       "      <th>1160018</th>\n",
       "      <td>Main_Page</td>\n",
       "      <td>34908316</td>\n",
       "    </tr>\n",
       "    <tr>\n",
       "      <th>994400</th>\n",
       "      <td>Kobe_Bryant</td>\n",
       "      <td>4547308</td>\n",
       "    </tr>\n",
       "    <tr>\n",
       "      <th>595206</th>\n",
       "      <td>Elizabeth_II</td>\n",
       "      <td>2467055</td>\n",
       "    </tr>\n",
       "    <tr>\n",
       "      <th>1805770</th>\n",
       "      <td>The_Witcher_(TV_series)</td>\n",
       "      <td>2372085</td>\n",
       "    </tr>\n",
       "    <tr>\n",
       "      <th>515641</th>\n",
       "      <td>Deaths_in_2020</td>\n",
       "      <td>2117707</td>\n",
       "    </tr>\n",
       "  </tbody>\n",
       "</table>\n",
       "</div>"
      ],
      "text/plain": [
       "                            prev         n\n",
       "1160018                Main_Page  34908316\n",
       "994400               Kobe_Bryant   4547308\n",
       "595206              Elizabeth_II   2467055\n",
       "1805770  The_Witcher_(TV_series)   2372085\n",
       "515641            Deaths_in_2020   2117707"
      ]
     },
     "execution_count": 90,
     "metadata": {},
     "output_type": "execute_result"
    }
   ],
   "source": [
    "outgoing_request_count_df = wikipedia_clickstream_df.groupby(\"prev\")[\"n\"].sum().reset_index().sort_values(\"n\", ascending=False)\n",
    "\n",
    "outgoing_request_count_df.head()"
   ]
  },
  {
   "cell_type": "code",
   "execution_count": 91,
   "metadata": {},
   "outputs": [
    {
     "data": {
      "text/html": [
       "<div>\n",
       "<style scoped>\n",
       "    .dataframe tbody tr th:only-of-type {\n",
       "        vertical-align: middle;\n",
       "    }\n",
       "\n",
       "    .dataframe tbody tr th {\n",
       "        vertical-align: top;\n",
       "    }\n",
       "\n",
       "    .dataframe thead th {\n",
       "        text-align: right;\n",
       "    }\n",
       "</style>\n",
       "<table border=\"1\" class=\"dataframe\">\n",
       "  <thead>\n",
       "    <tr style=\"text-align: right;\">\n",
       "      <th></th>\n",
       "      <th>curr</th>\n",
       "      <th>n_x</th>\n",
       "      <th>prev</th>\n",
       "      <th>n_y</th>\n",
       "      <th>request_count</th>\n",
       "    </tr>\n",
       "  </thead>\n",
       "  <tbody>\n",
       "    <tr>\n",
       "      <th>0</th>\n",
       "      <td>Hyphen-minus</td>\n",
       "      <td>7535327</td>\n",
       "      <td>Hyphen-minus</td>\n",
       "      <td>672</td>\n",
       "      <td>7535999</td>\n",
       "    </tr>\n",
       "    <tr>\n",
       "      <th>1</th>\n",
       "      <td>Main_Page</td>\n",
       "      <td>5303986</td>\n",
       "      <td>Main_Page</td>\n",
       "      <td>34908316</td>\n",
       "      <td>40212302</td>\n",
       "    </tr>\n",
       "    <tr>\n",
       "      <th>2</th>\n",
       "      <td>Deaths_in_2020</td>\n",
       "      <td>1669864</td>\n",
       "      <td>Deaths_in_2020</td>\n",
       "      <td>2117707</td>\n",
       "      <td>3787571</td>\n",
       "    </tr>\n",
       "    <tr>\n",
       "      <th>3</th>\n",
       "      <td>2019–20_Wuhan_coronavirus_outbreak</td>\n",
       "      <td>1519584</td>\n",
       "      <td>2019–20_Wuhan_coronavirus_outbreak</td>\n",
       "      <td>1057532</td>\n",
       "      <td>2577116</td>\n",
       "    </tr>\n",
       "    <tr>\n",
       "      <th>4</th>\n",
       "      <td>Elizabeth_II</td>\n",
       "      <td>1106447</td>\n",
       "      <td>Elizabeth_II</td>\n",
       "      <td>2467055</td>\n",
       "      <td>3573502</td>\n",
       "    </tr>\n",
       "  </tbody>\n",
       "</table>\n",
       "</div>"
      ],
      "text/plain": [
       "                                 curr      n_x  \\\n",
       "0                        Hyphen-minus  7535327   \n",
       "1                           Main_Page  5303986   \n",
       "2                      Deaths_in_2020  1669864   \n",
       "3  2019–20_Wuhan_coronavirus_outbreak  1519584   \n",
       "4                        Elizabeth_II  1106447   \n",
       "\n",
       "                                 prev       n_y  request_count  \n",
       "0                        Hyphen-minus       672        7535999  \n",
       "1                           Main_Page  34908316       40212302  \n",
       "2                      Deaths_in_2020   2117707        3787571  \n",
       "3  2019–20_Wuhan_coronavirus_outbreak   1057532        2577116  \n",
       "4                        Elizabeth_II   2467055        3573502  "
      ]
     },
     "execution_count": 91,
     "metadata": {},
     "output_type": "execute_result"
    }
   ],
   "source": [
    "request_count_df = incoming_request_count_df.merge(outgoing_request_count_df, how=\"inner\", left_on=\"curr\", right_on=\"prev\")\n",
    "request_count_df[\"request_count\"] = request_count_df[\"n_x\"] + request_count_df[\"n_y\"]\n",
    "\n",
    "request_count_df.head()"
   ]
  },
  {
   "cell_type": "markdown",
   "metadata": {},
   "source": [
    "## Node label to id mapping "
   ]
  },
  {
   "cell_type": "code",
   "execution_count": 92,
   "metadata": {},
   "outputs": [
    {
     "name": "stdout",
     "output_type": "stream",
     "text": [
      "CPU times: user 10 s, sys: 1.32 s, total: 11.4 s\n",
      "Wall time: 11.9 s\n"
     ]
    }
   ],
   "source": [
    "%%time\n",
    "\n",
    "id_label_mapping = {id: label for id, label in enumerate(list(set(wikipedia_clickstream_df[\"prev\"].to_list() + wikipedia_clickstream_df[\"curr\"].to_list())))}\n",
    "label_id_mapping = {label: id for id, label in id_label_mapping.items()}"
   ]
  },
  {
   "cell_type": "markdown",
   "metadata": {},
   "source": [
    "# Generate networkit graph"
   ]
  },
  {
   "cell_type": "code",
   "execution_count": 93,
   "metadata": {},
   "outputs": [
    {
     "name": "stdout",
     "output_type": "stream",
     "text": [
      "Number of nodes:  3021434\n",
      "Number of edges:  1000000\n",
      "CPU times: user 10.4 s, sys: 939 ms, total: 11.3 s\n",
      "Wall time: 11.4 s\n"
     ]
    }
   ],
   "source": [
    "%%time\n",
    "\n",
    "kn = 10**6\n",
    "g = nk.Graph(directed=True)\n",
    "\n",
    "for row in wikipedia_clickstream_df[[\"prev\", \"curr\"]].to_records(index=False).tolist()[:kn]:\n",
    "    g.addEdge(label_id_mapping[row[0]], label_id_mapping[row[1]], addMissing=True)\n",
    "\n",
    "print(\"Number of nodes: \", g.numberOfNodes())\n",
    "print(\"Number of edges: \", g.numberOfEdges())  "
   ]
  },
  {
   "cell_type": "markdown",
   "metadata": {},
   "source": [
    "# Compare centrality measures"
   ]
  },
  {
   "cell_type": "code",
   "execution_count": 94,
   "metadata": {},
   "outputs": [],
   "source": [
    "centrality = {}"
   ]
  },
  {
   "cell_type": "markdown",
   "metadata": {},
   "source": [
    "## Request count centrality"
   ]
  },
  {
   "cell_type": "code",
   "execution_count": 95,
   "metadata": {},
   "outputs": [
    {
     "data": {
      "text/plain": [
       "['Hyphen-minus',\n",
       " 'Main_Page',\n",
       " 'Deaths_in_2020',\n",
       " '2019–20_Wuhan_coronavirus_outbreak',\n",
       " 'Elizabeth_II',\n",
       " 'Death_of_Kobe_Bryant',\n",
       " 'Kobe_Bryant',\n",
       " 'Charles,_Prince_of_Wales',\n",
       " 'Novel_coronavirus_(2019-nCoV)',\n",
       " 'George_VI']"
      ]
     },
     "execution_count": 95,
     "metadata": {},
     "output_type": "execute_result"
    }
   ],
   "source": [
    "centrality[\"request_count\"] = [label_id_mapping[label] for label in request_count_df[\"curr\"].to_list()]\n",
    "[id_label_mapping[item] for item in centrality[\"request_count\"][:10]]"
   ]
  },
  {
   "cell_type": "markdown",
   "metadata": {},
   "source": [
    "## Degree centrality"
   ]
  },
  {
   "cell_type": "code",
   "execution_count": 97,
   "metadata": {},
   "outputs": [
    {
     "name": "stdout",
     "output_type": "stream",
     "text": [
      "CPU times: user 1.64 s, sys: 326 ms, total: 1.97 s\n",
      "Wall time: 812 ms\n"
     ]
    },
    {
     "data": {
      "text/plain": [
       "['Main_Page',\n",
       " 'Deaths_in_2020',\n",
       " 'Wikipedia',\n",
       " 'Wiki',\n",
       " 'Italy',\n",
       " 'United_States',\n",
       " 'New_York_City',\n",
       " 'Russia',\n",
       " 'California',\n",
       " 'Iran']"
      ]
     },
     "execution_count": 97,
     "metadata": {},
     "output_type": "execute_result"
    }
   ],
   "source": [
    "%%time\n",
    "\n",
    "centrality[\"degree\"] = nk.centrality.DegreeCentrality(g)\n",
    "centrality[\"degree\"].run()\n",
    "[id_label_mapping[item[0]] for item in centrality[\"degree\"].ranking()[:10]]"
   ]
  },
  {
   "cell_type": "markdown",
   "metadata": {},
   "source": [
    "## Betweenness centrality"
   ]
  },
  {
   "cell_type": "code",
   "execution_count": 21,
   "metadata": {},
   "outputs": [],
   "source": [
    "# %%time\n",
    "\n",
    "# centrality[\"betweenness\"] = nk.centrality.Betweenness(g)\n",
    "# centrality[\"betweenness\"].run()\n",
    "# centrality[\"betweenness\"].ranking()[:10]"
   ]
  },
  {
   "cell_type": "markdown",
   "metadata": {},
   "source": [
    "## Closeness centrality"
   ]
  },
  {
   "cell_type": "code",
   "execution_count": 98,
   "metadata": {},
   "outputs": [
    {
     "name": "stdout",
     "output_type": "stream",
     "text": [
      "CPU times: user 9min 42s, sys: 4.89 s, total: 9min 47s\n",
      "Wall time: 58.9 s\n"
     ]
    },
    {
     "data": {
      "text/plain": [
       "['Main_Page',\n",
       " 'Wiki',\n",
       " 'Wikipedia',\n",
       " 'Deaths_in_2020',\n",
       " 'English_Wikipedia',\n",
       " 'United_Kingdom',\n",
       " 'United_States',\n",
       " 'Kobe_Bryant',\n",
       " 'France',\n",
       " 'Italy']"
      ]
     },
     "execution_count": 98,
     "metadata": {},
     "output_type": "execute_result"
    }
   ],
   "source": [
    "%%time\n",
    "\n",
    "centrality[\"closeness\"] = nk.centrality.Closeness(g, True, nk.centrality.ClosenessVariant.Generalized)\n",
    "centrality[\"closeness\"].run()\n",
    "[id_label_mapping[item[0]] for item in centrality[\"closeness\"].ranking()[:10]]"
   ]
  },
  {
   "cell_type": "markdown",
   "metadata": {},
   "source": [
    "## Top k closeness centrality"
   ]
  },
  {
   "cell_type": "code",
   "execution_count": 100,
   "metadata": {},
   "outputs": [
    {
     "name": "stdout",
     "output_type": "stream",
     "text": [
      "CPU times: user 5min 59s, sys: 4.31 s, total: 6min 3s\n",
      "Wall time: 36.3 s\n"
     ]
    },
    {
     "data": {
      "text/plain": [
       "['Main_Page',\n",
       " 'Wiki',\n",
       " 'Wikipedia',\n",
       " 'Deaths_in_2020',\n",
       " 'English_Wikipedia',\n",
       " 'United_Kingdom',\n",
       " 'United_States',\n",
       " 'Kobe_Bryant',\n",
       " 'France',\n",
       " 'Italy']"
      ]
     },
     "execution_count": 100,
     "metadata": {},
     "output_type": "execute_result"
    }
   ],
   "source": [
    "%%time\n",
    "\n",
    "centrality[\"topkcloseness\"] = nk.centrality.TopCloseness(g, k=10000, first_heu=False, sec_heu=False)\n",
    "centrality[\"topkcloseness\"].run()\n",
    "[id_label_mapping[item] for item in centrality[\"topkcloseness\"].topkNodesList()[:10]]"
   ]
  },
  {
   "cell_type": "markdown",
   "metadata": {},
   "source": [
    "## Pagerank centrality"
   ]
  },
  {
   "cell_type": "code",
   "execution_count": 101,
   "metadata": {},
   "outputs": [
    {
     "name": "stdout",
     "output_type": "stream",
     "text": [
      "CPU times: user 13.7 s, sys: 357 ms, total: 14 s\n",
      "Wall time: 1.85 s\n"
     ]
    },
    {
     "data": {
      "text/plain": [
       "['California',\n",
       " 'United_States_dollar',\n",
       " 'Semi-arid_climate',\n",
       " 'Subtropics',\n",
       " 'Sweden',\n",
       " 'Hinduism',\n",
       " \"Grey's_Anatomy\",\n",
       " 'Joseph_Stalin',\n",
       " 'Michael_Jackson',\n",
       " 'Gross_domestic_product']"
      ]
     },
     "execution_count": 101,
     "metadata": {},
     "output_type": "execute_result"
    }
   ],
   "source": [
    "%%time\n",
    "\n",
    "centrality[\"pagerank\"] = nk.centrality.PageRank(g, damp=0.85, tol=1e-9)\n",
    "centrality[\"pagerank\"].run()\n",
    "[id_label_mapping[item[0]] for item in centrality[\"pagerank\"].ranking()[:10]]"
   ]
  },
  {
   "cell_type": "markdown",
   "metadata": {},
   "source": [
    "# NDCG comparison"
   ]
  },
  {
   "cell_type": "code",
   "execution_count": 151,
   "metadata": {},
   "outputs": [
    {
     "name": "stdout",
     "output_type": "stream",
     "text": [
      "CPU times: user 1.68 s, sys: 213 ms, total: 1.89 s\n",
      "Wall time: 1.9 s\n"
     ]
    },
    {
     "data": {
      "text/html": [
       "<div>\n",
       "<style scoped>\n",
       "    .dataframe tbody tr th:only-of-type {\n",
       "        vertical-align: middle;\n",
       "    }\n",
       "\n",
       "    .dataframe tbody tr th {\n",
       "        vertical-align: top;\n",
       "    }\n",
       "\n",
       "    .dataframe thead th {\n",
       "        text-align: right;\n",
       "    }\n",
       "</style>\n",
       "<table border=\"1\" class=\"dataframe\">\n",
       "  <thead>\n",
       "    <tr style=\"text-align: right;\">\n",
       "      <th></th>\n",
       "      <th>id</th>\n",
       "      <th>y_true</th>\n",
       "      <th>y_score</th>\n",
       "    </tr>\n",
       "  </thead>\n",
       "  <tbody>\n",
       "    <tr>\n",
       "      <th>1</th>\n",
       "      <td>151706</td>\n",
       "      <td>1</td>\n",
       "      <td>0.0</td>\n",
       "    </tr>\n",
       "    <tr>\n",
       "      <th>46565</th>\n",
       "      <td>577919</td>\n",
       "      <td>46565</td>\n",
       "      <td>1.0</td>\n",
       "    </tr>\n",
       "    <tr>\n",
       "      <th>3716</th>\n",
       "      <td>803883</td>\n",
       "      <td>3716</td>\n",
       "      <td>2.0</td>\n",
       "    </tr>\n",
       "    <tr>\n",
       "      <th>2</th>\n",
       "      <td>2644187</td>\n",
       "      <td>2</td>\n",
       "      <td>3.0</td>\n",
       "    </tr>\n",
       "    <tr>\n",
       "      <th>90755</th>\n",
       "      <td>2761182</td>\n",
       "      <td>90755</td>\n",
       "      <td>4.0</td>\n",
       "    </tr>\n",
       "    <tr>\n",
       "      <th>88</th>\n",
       "      <td>2449197</td>\n",
       "      <td>88</td>\n",
       "      <td>5.0</td>\n",
       "    </tr>\n",
       "    <tr>\n",
       "      <th>18</th>\n",
       "      <td>365704</td>\n",
       "      <td>18</td>\n",
       "      <td>6.0</td>\n",
       "    </tr>\n",
       "    <tr>\n",
       "      <th>6</th>\n",
       "      <td>904589</td>\n",
       "      <td>6</td>\n",
       "      <td>7.0</td>\n",
       "    </tr>\n",
       "    <tr>\n",
       "      <th>897</th>\n",
       "      <td>2143436</td>\n",
       "      <td>897</td>\n",
       "      <td>8.0</td>\n",
       "    </tr>\n",
       "    <tr>\n",
       "      <th>1378</th>\n",
       "      <td>2901869</td>\n",
       "      <td>1378</td>\n",
       "      <td>9.0</td>\n",
       "    </tr>\n",
       "    <tr>\n",
       "      <th>0</th>\n",
       "      <td>2439511</td>\n",
       "      <td>0</td>\n",
       "      <td>NaN</td>\n",
       "    </tr>\n",
       "    <tr>\n",
       "      <th>3</th>\n",
       "      <td>211628</td>\n",
       "      <td>3</td>\n",
       "      <td>NaN</td>\n",
       "    </tr>\n",
       "    <tr>\n",
       "      <th>4</th>\n",
       "      <td>2398919</td>\n",
       "      <td>4</td>\n",
       "      <td>NaN</td>\n",
       "    </tr>\n",
       "    <tr>\n",
       "      <th>5</th>\n",
       "      <td>199271</td>\n",
       "      <td>5</td>\n",
       "      <td>NaN</td>\n",
       "    </tr>\n",
       "    <tr>\n",
       "      <th>7</th>\n",
       "      <td>225280</td>\n",
       "      <td>7</td>\n",
       "      <td>NaN</td>\n",
       "    </tr>\n",
       "    <tr>\n",
       "      <th>8</th>\n",
       "      <td>2592174</td>\n",
       "      <td>8</td>\n",
       "      <td>NaN</td>\n",
       "    </tr>\n",
       "    <tr>\n",
       "      <th>9</th>\n",
       "      <td>327036</td>\n",
       "      <td>9</td>\n",
       "      <td>NaN</td>\n",
       "    </tr>\n",
       "    <tr>\n",
       "      <th>10</th>\n",
       "      <td>315344</td>\n",
       "      <td>10</td>\n",
       "      <td>NaN</td>\n",
       "    </tr>\n",
       "    <tr>\n",
       "      <th>11</th>\n",
       "      <td>1347868</td>\n",
       "      <td>11</td>\n",
       "      <td>NaN</td>\n",
       "    </tr>\n",
       "    <tr>\n",
       "      <th>12</th>\n",
       "      <td>395689</td>\n",
       "      <td>12</td>\n",
       "      <td>NaN</td>\n",
       "    </tr>\n",
       "  </tbody>\n",
       "</table>\n",
       "</div>"
      ],
      "text/plain": [
       "            id  y_true  y_score\n",
       "1       151706       1      0.0\n",
       "46565   577919   46565      1.0\n",
       "3716    803883    3716      2.0\n",
       "2      2644187       2      3.0\n",
       "90755  2761182   90755      4.0\n",
       "88     2449197      88      5.0\n",
       "18      365704      18      6.0\n",
       "6       904589       6      7.0\n",
       "897    2143436     897      8.0\n",
       "1378   2901869    1378      9.0\n",
       "0      2439511       0      NaN\n",
       "3       211628       3      NaN\n",
       "4      2398919       4      NaN\n",
       "5       199271       5      NaN\n",
       "7       225280       7      NaN\n",
       "8      2592174       8      NaN\n",
       "9       327036       9      NaN\n",
       "10      315344      10      NaN\n",
       "11     1347868      11      NaN\n",
       "12      395689      12      NaN"
      ]
     },
     "execution_count": 151,
     "metadata": {},
     "output_type": "execute_result"
    }
   ],
   "source": [
    "%%time\n",
    "k=10\n",
    "\n",
    "y_true = centrality[\"request_count\"]\n",
    "y_score = centrality[\"topkcloseness\"].topkNodesList()[:k]\n",
    "y_true_df = pd.DataFrame({\"id\": y_true, \"y_true\": list(range(len(y_true)))})\n",
    "y_score_df = pd.DataFrame({\"id\": y_score, \"y_score\": list(range(len(y_score)))})\n",
    "\n",
    "y_df = y_true_df.merge(y_score_df, how=\"left\", on=\"id\").sort_values(\"y_score\")\n",
    "\n",
    "# y_score = y_df[\"y_true\"]\n",
    "# y_true = list(range(k))\n",
    "# print(len(y_score))\n",
    "\n",
    "# ndcg_score([y_true], [y_score])\n",
    "\n",
    "y_df.head(20)"
   ]
  },
  {
   "cell_type": "code",
   "execution_count": 201,
   "metadata": {},
   "outputs": [
    {
     "data": {
      "text/plain": [
       "0.8944402617678682"
      ]
     },
     "execution_count": 201,
     "metadata": {},
     "output_type": "execute_result"
    }
   ],
   "source": [
    "k = 100\n",
    "\n",
    "# y_true = [row[0] for row in centrality[\"pagerank\"].ranking()]\n",
    "y_true = centrality[\"request_count\"]\n",
    "\n",
    "y_score = [y_true.index(item) if item in y_true else 10**7 for item in centrality[\"topkcloseness\"].topkNodesList()[:k]]\n",
    "# y_score = [y_true.index(item[0]) if item[0] in y_true else 10**7 for item in centrality[\"pagerank\"].ranking()[:k]]\n",
    "# y_score = [y_true.index(item[0]) if item[0] in y_true else 10**7 for item in centrality[\"degree\"][:k]]\n",
    "\n",
    "# print(y_true[:k])\n",
    "# print(centrality[\"topkcloseness\"].topkNodesList()[:k])\n",
    "# print([item[0] for item in centrality[\"closeness\"].ranking()[:k]])\n",
    "\n",
    "y_true = list(range(k))\n",
    "\n",
    "# print(y_true)\n",
    "# print(y_score)\n",
    "\n",
    "ndcg_score([y_true], [y_score])"
   ]
  },
  {
   "cell_type": "markdown",
   "metadata": {},
   "source": [
    "k=1000\n",
    "- closeness/topkcloseness 0.9341286632589697\n",
    "- pagerank 0.9301915444115204\n",
    "- degree 0.9090587081639641\n",
    "\n",
    "k=100\n",
    "- degree 0.9031601692381107\n",
    "- topkcloseness/closeness 0.8944402617678682\n",
    "- pagerank 0.8914683669356246\n",
    "\n",
    "k=10\n",
    "-\n",
    "- topkcloseness/closeness 0.7668082612680364\n",
    "- degree 0.7643151136589202\n",
    "- pagerank 0.712779381324142"
   ]
  },
  {
   "cell_type": "code",
   "execution_count": null,
   "metadata": {},
   "outputs": [],
   "source": [
    "k = 50\n",
    "\n",
    "# y_true = [row[0] for row in centrality[\"eigenvector\"].ranking()]\n",
    "y_true = centrality[\"revenue\"]\n",
    "\n",
    "# y_score = [y_true.index(item) for item in centrality[\"topkcloseness\"].topkNodesList()[:k]]\n",
    "# y_score = [y_true.index(item[0]) for item in centrality[\"betweenness\"].ranking()[:k]]\n",
    "y_score = [y_true.index(item[0]) for item in centrality[\"degree\"][:k]]\n",
    "\n",
    "print(y_true[:k])\n",
    "# print(centrality[\"topkcloseness\"].topkNodesList()[:k])\n",
    "print(centrality[\"pagerank\"].ranking()[:k])\n",
    "\n",
    "y_true = range(k)\n",
    "\n",
    "print(y_true)\n",
    "print(y_score)\n",
    "\n",
    "ndcg_score([y_true], [y_score])"
   ]
  },
  {
   "cell_type": "markdown",
   "metadata": {},
   "source": [
    "## w.r.t top-k closeness"
   ]
  },
  {
   "cell_type": "code",
   "execution_count": 18,
   "metadata": {},
   "outputs": [
    {
     "data": {
      "text/html": [
       "<div>\n",
       "<style scoped>\n",
       "    .dataframe tbody tr th:only-of-type {\n",
       "        vertical-align: middle;\n",
       "    }\n",
       "\n",
       "    .dataframe tbody tr th {\n",
       "        vertical-align: top;\n",
       "    }\n",
       "\n",
       "    .dataframe thead th {\n",
       "        text-align: right;\n",
       "    }\n",
       "</style>\n",
       "<table border=\"1\" class=\"dataframe\">\n",
       "  <thead>\n",
       "    <tr style=\"text-align: right;\">\n",
       "      <th></th>\n",
       "      <th>degree</th>\n",
       "      <th>closeness</th>\n",
       "      <th>pagerank</th>\n",
       "    </tr>\n",
       "  </thead>\n",
       "  <tbody>\n",
       "    <tr>\n",
       "      <th>5</th>\n",
       "      <td>1.0</td>\n",
       "      <td>1.0</td>\n",
       "      <td>0.950353</td>\n",
       "    </tr>\n",
       "    <tr>\n",
       "      <th>10</th>\n",
       "      <td>1.0</td>\n",
       "      <td>1.0</td>\n",
       "      <td>0.946001</td>\n",
       "    </tr>\n",
       "    <tr>\n",
       "      <th>20</th>\n",
       "      <td>1.0</td>\n",
       "      <td>1.0</td>\n",
       "      <td>0.814444</td>\n",
       "    </tr>\n",
       "    <tr>\n",
       "      <th>30</th>\n",
       "      <td>1.0</td>\n",
       "      <td>1.0</td>\n",
       "      <td>0.764063</td>\n",
       "    </tr>\n",
       "    <tr>\n",
       "      <th>40</th>\n",
       "      <td>1.0</td>\n",
       "      <td>1.0</td>\n",
       "      <td>0.639165</td>\n",
       "    </tr>\n",
       "    <tr>\n",
       "      <th>50</th>\n",
       "      <td>1.0</td>\n",
       "      <td>1.0</td>\n",
       "      <td>0.626371</td>\n",
       "    </tr>\n",
       "  </tbody>\n",
       "</table>\n",
       "</div>"
      ],
      "text/plain": [
       "    degree  closeness  pagerank\n",
       "5      1.0        1.0  0.950353\n",
       "10     1.0        1.0  0.946001\n",
       "20     1.0        1.0  0.814444\n",
       "30     1.0        1.0  0.764063\n",
       "40     1.0        1.0  0.639165\n",
       "50     1.0        1.0  0.626371"
      ]
     },
     "execution_count": 18,
     "metadata": {},
     "output_type": "execute_result"
    }
   ],
   "source": [
    "ndcg_scores = {}\n",
    "\n",
    "for k in [5, 10, 20, 30, 40, 50]:\n",
    "\n",
    "    ndcg_scores[k] = {}\n",
    "\n",
    "    y_score = [centrality[\"topkcloseness\"].topkNodesList()[:k]]\n",
    "\n",
    "    for centrality_measure in [\"degree\", \"closeness\", \"pagerank\"]:\n",
    "\n",
    "        if centrality_measure == \"outdegree\":\n",
    "            y_true = [[row[0] for row in centrality[centrality_measure][:k]]]\n",
    "\n",
    "        else:\n",
    "            y_true = [[row[0] for row in centrality[centrality_measure].ranking()[:k]]]\n",
    "        \n",
    "        ndcg_scores[k][centrality_measure] = ndcg_score(y_true, y_score, k=k)\n",
    "\n",
    "ndcg_scores_df = pd.DataFrame(ndcg_scores).T\n",
    "\n",
    "ndcg_scores_df"
   ]
  },
  {
   "cell_type": "markdown",
   "metadata": {},
   "source": [
    "# Top request count locations"
   ]
  },
  {
   "cell_type": "code",
   "execution_count": 229,
   "metadata": {},
   "outputs": [
    {
     "data": {
      "text/html": [
       "<div>\n",
       "<style scoped>\n",
       "    .dataframe tbody tr th:only-of-type {\n",
       "        vertical-align: middle;\n",
       "    }\n",
       "\n",
       "    .dataframe tbody tr th {\n",
       "        vertical-align: top;\n",
       "    }\n",
       "\n",
       "    .dataframe thead th {\n",
       "        text-align: right;\n",
       "    }\n",
       "</style>\n",
       "<table border=\"1\" class=\"dataframe\">\n",
       "  <thead>\n",
       "    <tr style=\"text-align: right;\">\n",
       "      <th></th>\n",
       "      <th>degree</th>\n",
       "      <th>closeness</th>\n",
       "      <th>topkcloseness</th>\n",
       "      <th>pagerank</th>\n",
       "    </tr>\n",
       "  </thead>\n",
       "  <tbody>\n",
       "    <tr>\n",
       "      <th>100</th>\n",
       "      <td>14969167</td>\n",
       "      <td>19920576</td>\n",
       "      <td>19920576</td>\n",
       "      <td>4231931</td>\n",
       "    </tr>\n",
       "    <tr>\n",
       "      <th>1000</th>\n",
       "      <td>60372286</td>\n",
       "      <td>72029762</td>\n",
       "      <td>72029762</td>\n",
       "      <td>16034082</td>\n",
       "    </tr>\n",
       "    <tr>\n",
       "      <th>5000</th>\n",
       "      <td>176276887</td>\n",
       "      <td>170515346</td>\n",
       "      <td>170515346</td>\n",
       "      <td>39524921</td>\n",
       "    </tr>\n",
       "    <tr>\n",
       "      <th>10000</th>\n",
       "      <td>275039394</td>\n",
       "      <td>247091183</td>\n",
       "      <td>247091183</td>\n",
       "      <td>53275542</td>\n",
       "    </tr>\n",
       "    <tr>\n",
       "      <th>20000</th>\n",
       "      <td>409079290</td>\n",
       "      <td>367573679</td>\n",
       "      <td>247091183</td>\n",
       "      <td>69011896</td>\n",
       "    </tr>\n",
       "  </tbody>\n",
       "</table>\n",
       "</div>"
      ],
      "text/plain": [
       "          degree  closeness  topkcloseness  pagerank\n",
       "100     14969167   19920576       19920576   4231931\n",
       "1000    60372286   72029762       72029762  16034082\n",
       "5000   176276887  170515346      170515346  39524921\n",
       "10000  275039394  247091183      247091183  53275542\n",
       "20000  409079290  367573679      247091183  69011896"
      ]
     },
     "execution_count": 229,
     "metadata": {},
     "output_type": "execute_result"
    }
   ],
   "source": [
    "request_count = {}\n",
    "\n",
    "for k in [100, 1000, 5000, 10000, 20000]:\n",
    "\n",
    "    request_count[k] = {}\n",
    "\n",
    "    for centrality_measure in [\"degree\", \"closeness\", \"topkcloseness\", \"pagerank\"]:\n",
    "\n",
    "        if centrality_measure == \"topkcloseness\":\n",
    "            request_count[k][centrality_measure] = incoming_request_count_df.loc[incoming_request_count_df[\"curr\"].isin([id_label_mapping[item] for item in centrality[\"topkcloseness\"].topkNodesList()[:k]]), [\"n\"]].sum()[\"n\"]\n",
    "\n",
    "        else:\n",
    "            request_count[k][centrality_measure] = incoming_request_count_df.loc[incoming_request_count_df[\"curr\"].isin([id_label_mapping[item[0]] for item in centrality[centrality_measure].ranking()[:k]]), [\"n\"]].sum()[\"n\"]\n",
    "        \n",
    "pd.DataFrame(request_count).T"
   ]
  },
  {
   "cell_type": "code",
   "execution_count": 207,
   "metadata": {},
   "outputs": [],
   "source": [
    "incoming_request_count_df = incoming_request_count_df.sort_values(\"n\", ascending=True)\n",
    "incoming_request_count_df[\"n_cumsum\"] = incoming_request_count_df[\"n\"].cumsum()\n",
    "incoming_request_count_df = incoming_request_count_df.sort_values(\"n\", ascending=False)\n"
   ]
  },
  {
   "cell_type": "code",
   "execution_count": 228,
   "metadata": {},
   "outputs": [
    {
     "data": {
      "text/plain": [
       "n    1712587614\n",
       "dtype: int64"
      ]
     },
     "execution_count": 228,
     "metadata": {},
     "output_type": "execute_result"
    }
   ],
   "source": [
    "incoming_request_count_df.loc[incoming_request_count_df[\"n_cumsum\"] >= incoming_request_count_df[\"n_cumsum\"].quantile(0.9), [\"n\"]].sum()"
   ]
  },
  {
   "cell_type": "code",
   "execution_count": null,
   "metadata": {},
   "outputs": [],
   "source": []
  }
 ],
 "metadata": {
  "kernelspec": {
   "display_name": "Python 3.9.13 ('venv': venv)",
   "language": "python",
   "name": "python3"
  },
  "language_info": {
   "codemirror_mode": {
    "name": "ipython",
    "version": 3
   },
   "file_extension": ".py",
   "mimetype": "text/x-python",
   "name": "python",
   "nbconvert_exporter": "python",
   "pygments_lexer": "ipython3",
   "version": "3.9.13"
  },
  "orig_nbformat": 4,
  "vscode": {
   "interpreter": {
    "hash": "d5cc4e86fa364bec93d88269df7d8fba81299fa2b9385aebe79869b9c4b54db4"
   }
  }
 },
 "nbformat": 4,
 "nbformat_minor": 2
}
