{
 "cells": [
  {
   "cell_type": "markdown",
   "metadata": {},
   "source": [
    "# Imports"
   ]
  },
  {
   "cell_type": "code",
   "execution_count": 1,
   "metadata": {},
   "outputs": [
    {
     "data": {
      "text/html": [
       "\n",
       "\t\t\t<script type=\"text/javascript\">\n",
       "\t\t\t<!--\n",
       "\t\t\t\t\n",
       "\t\t\t{\n",
       "\t\t\t\tvar element = document.getElementById('NetworKit_script');\n",
       "\t\t\t\tif (element) {\n",
       "\t\t\t\t\telement.parentNode.removeChild(element);\n",
       "\t\t\t\t}\n",
       "\t\t\t\telement = document.createElement('script');\n",
       "\t\t\t\telement.type = 'text/javascript';\n",
       "\t\t\t\telement.innerHTML = 'function NetworKit_pageEmbed(id) { var i, j; var elements; elements = document.getElementById(id).getElementsByClassName(\"Plot\"); for (i=0; i<elements.length; i++) { elements[i].id = id + \"_Plot_\" + i; var data = elements[i].getAttribute(\"data-image\").split(\"|\"); elements[i].removeAttribute(\"data-image\"); var content = \"<div class=\\\\\"Image\\\\\" id=\\\\\"\" + elements[i].id + \"_Image\\\\\" />\"; elements[i].innerHTML = content; elements[i].setAttribute(\"data-image-index\", 0); elements[i].setAttribute(\"data-image-length\", data.length); for (j=0; j<data.length; j++) { elements[i].setAttribute(\"data-image-\" + j, data[j]); } NetworKit_plotUpdate(elements[i]); elements[i].onclick = function (e) { NetworKit_overlayShow((e.target) ? e.target : e.srcElement); } } elements = document.getElementById(id).getElementsByClassName(\"HeatCell\"); for (i=0; i<elements.length; i++) { var data = parseFloat(elements[i].getAttribute(\"data-heat\")); var color = \"#00FF00\"; if (data <= 1 && data > 0) { color = \"hsla(0, 100%, 75%, \" + (data) + \")\"; } else if (data <= 0 && data >= -1) { color = \"hsla(240, 100%, 75%, \" + (-data) + \")\"; } elements[i].style.backgroundColor = color; } elements = document.getElementById(id).getElementsByClassName(\"Details\"); for (i=0; i<elements.length; i++) { elements[i].setAttribute(\"data-title\", \"-\"); NetworKit_toggleDetails(elements[i]); elements[i].onclick = function (e) { NetworKit_toggleDetails((e.target) ? e.target : e.srcElement); } } elements = document.getElementById(id).getElementsByClassName(\"MathValue\"); for (i=elements.length-1; i>=0; i--) { value = elements[i].innerHTML.trim(); if (value === \"nan\") { elements[i].parentNode.innerHTML = \"\" } } elements = document.getElementById(id).getElementsByClassName(\"SubCategory\"); for (i=elements.length-1; i>=0; i--) { value = elements[i].innerHTML.trim(); if (value === \"\") { elements[i].parentNode.removeChild(elements[i]) } } elements = document.getElementById(id).getElementsByClassName(\"Category\"); for (i=elements.length-1; i>=0; i--) { value = elements[i].innerHTML.trim(); if (value === \"\") { elements[i].parentNode.removeChild(elements[i]) } } var isFirefox = false; try { isFirefox = typeof InstallTrigger !== \"undefined\"; } catch (e) {} if (!isFirefox) { alert(\"Currently the function\\'s output is only fully supported by Firefox.\"); } } function NetworKit_plotUpdate(source) { var index = source.getAttribute(\"data-image-index\"); var data = source.getAttribute(\"data-image-\" + index); var image = document.getElementById(source.id + \"_Image\"); image.style.backgroundImage = \"url(\" + data + \")\"; } function NetworKit_showElement(id, show) { var element = document.getElementById(id); element.style.display = (show) ? \"block\" : \"none\"; } function NetworKit_overlayShow(source) { NetworKit_overlayUpdate(source); NetworKit_showElement(\"NetworKit_Overlay\", true); } function NetworKit_overlayUpdate(source) { document.getElementById(\"NetworKit_Overlay_Title\").innerHTML = source.title; var index = source.getAttribute(\"data-image-index\"); var data = source.getAttribute(\"data-image-\" + index); var image = document.getElementById(\"NetworKit_Overlay_Image\"); image.setAttribute(\"data-id\", source.id); image.style.backgroundImage = \"url(\" + data + \")\"; var link = document.getElementById(\"NetworKit_Overlay_Toolbar_Bottom_Save\"); link.href = data; link.download = source.title + \".svg\"; } function NetworKit_overlayImageShift(delta) { var image = document.getElementById(\"NetworKit_Overlay_Image\"); var source = document.getElementById(image.getAttribute(\"data-id\")); var index = parseInt(source.getAttribute(\"data-image-index\")); var length = parseInt(source.getAttribute(\"data-image-length\")); var index = (index+delta) % length; if (index < 0) { index = length + index; } source.setAttribute(\"data-image-index\", index); NetworKit_overlayUpdate(source); } function NetworKit_toggleDetails(source) { var childs = source.children; var show = false; if (source.getAttribute(\"data-title\") == \"-\") { source.setAttribute(\"data-title\", \"+\"); show = false; } else { source.setAttribute(\"data-title\", \"-\"); show = true; } for (i=0; i<childs.length; i++) { if (show) { childs[i].style.display = \"block\"; } else { childs[i].style.display = \"none\"; } } }';\n",
       "\t\t\t\telement.setAttribute('id', 'NetworKit_script');\n",
       "\t\t\t\tdocument.head.appendChild(element);\n",
       "\t\t\t}\n",
       "\t\t\n",
       "\t\t\t\t\n",
       "\t\t\t{\n",
       "\t\t\t\tvar element = document.getElementById('NetworKit_style');\n",
       "\t\t\t\tif (element) {\n",
       "\t\t\t\t\telement.parentNode.removeChild(element);\n",
       "\t\t\t\t}\n",
       "\t\t\t\telement = document.createElement('style');\n",
       "\t\t\t\telement.type = 'text/css';\n",
       "\t\t\t\telement.innerHTML = '.NetworKit_Page { font-family: Arial, Helvetica, sans-serif; font-size: 14px; } .NetworKit_Page .Value:before { font-family: Arial, Helvetica, sans-serif; font-size: 1.05em; content: attr(data-title) \":\"; margin-left: -2.5em; padding-right: 0.5em; } .NetworKit_Page .Details .Value:before { display: block; } .NetworKit_Page .Value { font-family: monospace; white-space: pre; padding-left: 2.5em; white-space: -moz-pre-wrap !important; white-space: -pre-wrap; white-space: -o-pre-wrap; white-space: pre-wrap; word-wrap: break-word; tab-size: 4; -moz-tab-size: 4; } .NetworKit_Page .Category { clear: both; padding-left: 1em; margin-bottom: 1.5em; } .NetworKit_Page .Category:before { content: attr(data-title); font-size: 1.75em; display: block; margin-left: -0.8em; margin-bottom: 0.5em; } .NetworKit_Page .SubCategory { margin-bottom: 1.5em; padding-left: 1em; } .NetworKit_Page .SubCategory:before { font-size: 1.6em; display: block; margin-left: -0.8em; margin-bottom: 0.5em; } .NetworKit_Page .SubCategory[data-title]:before { content: attr(data-title); } .NetworKit_Page .Block { display: block; } .NetworKit_Page .Block:after { content: \".\"; visibility: hidden; display: block; height: 0; clear: both; } .NetworKit_Page .Block .Thumbnail_Overview, .NetworKit_Page .Block .Thumbnail_ScatterPlot { width: 260px; float: left; } .NetworKit_Page .Block .Thumbnail_Overview img, .NetworKit_Page .Block .Thumbnail_ScatterPlot img { width: 260px; } .NetworKit_Page .Block .Thumbnail_Overview:before, .NetworKit_Page .Block .Thumbnail_ScatterPlot:before { display: block; text-align: center; font-weight: bold; } .NetworKit_Page .Block .Thumbnail_Overview:before { content: attr(data-title); } .NetworKit_Page .HeatCell { font-family: \"Courier New\", Courier, monospace; cursor: pointer; } .NetworKit_Page .HeatCell, .NetworKit_Page .HeatCellName { display: inline; padding: 0.1em; margin-right: 2px; background-color: #FFFFFF } .NetworKit_Page .HeatCellName { margin-left: 0.25em; } .NetworKit_Page .HeatCell:before { content: attr(data-heat); display: inline-block; color: #000000; width: 4em; text-align: center; } .NetworKit_Page .Measure { clear: both; } .NetworKit_Page .Measure .Details { cursor: pointer; } .NetworKit_Page .Measure .Details:before { content: \"[\" attr(data-title) \"]\"; display: block; } .NetworKit_Page .Measure .Details .Value { border-left: 1px dotted black; margin-left: 0.4em; padding-left: 3.5em; pointer-events: none; } .NetworKit_Page .Measure .Details .Spacer:before { content: \".\"; opacity: 0.0; pointer-events: none; } .NetworKit_Page .Measure .Plot { width: 440px; height: 440px; cursor: pointer; float: left; margin-left: -0.9em; margin-right: 20px; } .NetworKit_Page .Measure .Plot .Image { background-repeat: no-repeat; background-position: center center; background-size: contain; height: 100%; pointer-events: none; } .NetworKit_Page .Measure .Stat { width: 500px; float: left; } .NetworKit_Page .Measure .Stat .Group { padding-left: 1.25em; margin-bottom: 0.75em; } .NetworKit_Page .Measure .Stat .Group .Title { font-size: 1.1em; display: block; margin-bottom: 0.3em; margin-left: -0.75em; border-right-style: dotted; border-right-width: 1px; border-bottom-style: dotted; border-bottom-width: 1px; background-color: #D0D0D0; padding-left: 0.2em; } .NetworKit_Page .Measure .Stat .Group .List { -webkit-column-count: 3; -moz-column-count: 3; column-count: 3; } .NetworKit_Page .Measure .Stat .Group .List .Entry { position: relative; line-height: 1.75em; } .NetworKit_Page .Measure .Stat .Group .List .Entry[data-tooltip]:before { position: absolute; left: 0; top: -40px; background-color: #808080; color: #ffffff; height: 30px; line-height: 30px; border-radius: 5px; padding: 0 15px; content: attr(data-tooltip); white-space: nowrap; display: none; } .NetworKit_Page .Measure .Stat .Group .List .Entry[data-tooltip]:after { position: absolute; left: 15px; top: -10px; border-top: 7px solid #808080; border-left: 7px solid transparent; border-right: 7px solid transparent; content: \"\"; display: none; } .NetworKit_Page .Measure .Stat .Group .List .Entry[data-tooltip]:hover:after, .NetworKit_Page .Measure .Stat .Group .List .Entry[data-tooltip]:hover:before { display: block; } .NetworKit_Page .Measure .Stat .Group .List .Entry .MathValue { font-family: \"Courier New\", Courier, monospace; } .NetworKit_Page .Measure:after { content: \".\"; visibility: hidden; display: block; height: 0; clear: both; } .NetworKit_Page .PartitionPie { clear: both; } .NetworKit_Page .PartitionPie img { width: 600px; } #NetworKit_Overlay { left: 0px; top: 0px; display: none; position: absolute; width: 100%; height: 100%; background-color: rgba(0,0,0,0.6); z-index: 1000; } #NetworKit_Overlay_Title { position: absolute; color: white; transform: rotate(-90deg); width: 32em; height: 32em; padding-right: 0.5em; padding-top: 0.5em; text-align: right; font-size: 40px; } #NetworKit_Overlay .button { background: white; cursor: pointer; } #NetworKit_Overlay .button:before { size: 13px; display: inline-block; text-align: center; margin-top: 0.5em; margin-bottom: 0.5em; width: 1.5em; height: 1.5em; } #NetworKit_Overlay .icon-close:before { content: \"X\"; } #NetworKit_Overlay .icon-previous:before { content: \"P\"; } #NetworKit_Overlay .icon-next:before { content: \"N\"; } #NetworKit_Overlay .icon-save:before { content: \"S\"; } #NetworKit_Overlay_Toolbar_Top, #NetworKit_Overlay_Toolbar_Bottom { position: absolute; width: 40px; right: 13px; text-align: right; z-index: 1100; } #NetworKit_Overlay_Toolbar_Top { top: 0.5em; } #NetworKit_Overlay_Toolbar_Bottom { Bottom: 0.5em; } #NetworKit_Overlay_ImageContainer { position: absolute; top: 5%; left: 5%; height: 90%; width: 90%; background-repeat: no-repeat; background-position: center center; background-size: contain; } #NetworKit_Overlay_Image { height: 100%; width: 100%; background-repeat: no-repeat; background-position: center center; background-size: contain; }';\n",
       "\t\t\t\telement.setAttribute('id', 'NetworKit_style');\n",
       "\t\t\t\tdocument.head.appendChild(element);\n",
       "\t\t\t}\n",
       "\t\t\n",
       "\t\t\t\t\n",
       "\t\t\t{\n",
       "\t\t\t\tvar element = document.getElementById('NetworKit_Overlay');\n",
       "\t\t\t\tif (element) {\n",
       "\t\t\t\t\telement.parentNode.removeChild(element);\n",
       "\t\t\t\t}\n",
       "\t\t\t\telement = document.createElement('div');\n",
       "\t\t\t\telement.innerHTML = '<div id=\"NetworKit_Overlay_Toolbar_Top\"><div class=\"button icon-close\" id=\"NetworKit_Overlay_Close\" /></div><div id=\"NetworKit_Overlay_Title\" /> <div id=\"NetworKit_Overlay_ImageContainer\"> <div id=\"NetworKit_Overlay_Image\" /> </div> <div id=\"NetworKit_Overlay_Toolbar_Bottom\"> <div class=\"button icon-previous\" onclick=\"NetworKit_overlayImageShift(-1)\" /> <div class=\"button icon-next\" onclick=\"NetworKit_overlayImageShift(1)\" /> <a id=\"NetworKit_Overlay_Toolbar_Bottom_Save\"><div class=\"button icon-save\" /></a> </div>';\n",
       "\t\t\t\telement.setAttribute('id', 'NetworKit_Overlay');\n",
       "\t\t\t\tdocument.body.appendChild(element);\n",
       "\t\t\t\tdocument.getElementById('NetworKit_Overlay_Close').onclick = function (e) {\n",
       "\t\t\t\t\tdocument.getElementById('NetworKit_Overlay').style.display = 'none';\n",
       "\t\t\t\t}\n",
       "\t\t\t}\n",
       "\t\t\n",
       "\t\t\t-->\n",
       "\t\t\t</script>\n",
       "\t\t"
      ]
     },
     "metadata": {},
     "output_type": "display_data"
    }
   ],
   "source": [
    "import pandas as pd \n",
    "import matplotlib.pyplot as plt\n",
    "import networkit as nk\n",
    "import networkx as nx\n",
    "import tqdm\n",
    "import numpy as np\n",
    "import glob\n",
    "\n",
    "from sklearn.metrics import ndcg_score"
   ]
  },
  {
   "cell_type": "markdown",
   "metadata": {},
   "source": [
    "# Load source data"
   ]
  },
  {
   "cell_type": "code",
   "execution_count": 2,
   "metadata": {},
   "outputs": [
    {
     "data": {
      "text/html": [
       "<div>\n",
       "<style scoped>\n",
       "    .dataframe tbody tr th:only-of-type {\n",
       "        vertical-align: middle;\n",
       "    }\n",
       "\n",
       "    .dataframe tbody tr th {\n",
       "        vertical-align: top;\n",
       "    }\n",
       "\n",
       "    .dataframe thead th {\n",
       "        text-align: right;\n",
       "    }\n",
       "</style>\n",
       "<table border=\"1\" class=\"dataframe\">\n",
       "  <thead>\n",
       "    <tr style=\"text-align: right;\">\n",
       "      <th></th>\n",
       "      <th>VendorID</th>\n",
       "      <th>tpep_pickup_datetime</th>\n",
       "      <th>tpep_dropoff_datetime</th>\n",
       "      <th>passenger_count</th>\n",
       "      <th>trip_distance</th>\n",
       "      <th>RatecodeID</th>\n",
       "      <th>store_and_fwd_flag</th>\n",
       "      <th>PULocationID</th>\n",
       "      <th>DOLocationID</th>\n",
       "      <th>payment_type</th>\n",
       "      <th>fare_amount</th>\n",
       "      <th>extra</th>\n",
       "      <th>mta_tax</th>\n",
       "      <th>tip_amount</th>\n",
       "      <th>tolls_amount</th>\n",
       "      <th>improvement_surcharge</th>\n",
       "      <th>total_amount</th>\n",
       "      <th>congestion_surcharge</th>\n",
       "      <th>airport_fee</th>\n",
       "    </tr>\n",
       "  </thead>\n",
       "  <tbody>\n",
       "    <tr>\n",
       "      <th>0</th>\n",
       "      <td>1</td>\n",
       "      <td>2019-06-01 00:55:13</td>\n",
       "      <td>2019-06-01 00:56:17</td>\n",
       "      <td>1.0</td>\n",
       "      <td>0.0</td>\n",
       "      <td>1.0</td>\n",
       "      <td>N</td>\n",
       "      <td>145</td>\n",
       "      <td>145</td>\n",
       "      <td>2</td>\n",
       "      <td>3.0</td>\n",
       "      <td>0.5</td>\n",
       "      <td>0.5</td>\n",
       "      <td>0.00</td>\n",
       "      <td>0.0</td>\n",
       "      <td>0.3</td>\n",
       "      <td>4.30</td>\n",
       "      <td>0.0</td>\n",
       "      <td>None</td>\n",
       "    </tr>\n",
       "    <tr>\n",
       "      <th>1</th>\n",
       "      <td>1</td>\n",
       "      <td>2019-06-01 00:06:31</td>\n",
       "      <td>2019-06-01 00:06:52</td>\n",
       "      <td>1.0</td>\n",
       "      <td>0.0</td>\n",
       "      <td>1.0</td>\n",
       "      <td>N</td>\n",
       "      <td>262</td>\n",
       "      <td>263</td>\n",
       "      <td>2</td>\n",
       "      <td>2.5</td>\n",
       "      <td>3.0</td>\n",
       "      <td>0.5</td>\n",
       "      <td>0.00</td>\n",
       "      <td>0.0</td>\n",
       "      <td>0.3</td>\n",
       "      <td>6.30</td>\n",
       "      <td>2.5</td>\n",
       "      <td>None</td>\n",
       "    </tr>\n",
       "    <tr>\n",
       "      <th>2</th>\n",
       "      <td>1</td>\n",
       "      <td>2019-06-01 00:17:05</td>\n",
       "      <td>2019-06-01 00:36:38</td>\n",
       "      <td>1.0</td>\n",
       "      <td>4.4</td>\n",
       "      <td>1.0</td>\n",
       "      <td>N</td>\n",
       "      <td>74</td>\n",
       "      <td>7</td>\n",
       "      <td>2</td>\n",
       "      <td>17.5</td>\n",
       "      <td>0.5</td>\n",
       "      <td>0.5</td>\n",
       "      <td>0.00</td>\n",
       "      <td>0.0</td>\n",
       "      <td>0.3</td>\n",
       "      <td>18.80</td>\n",
       "      <td>0.0</td>\n",
       "      <td>None</td>\n",
       "    </tr>\n",
       "    <tr>\n",
       "      <th>3</th>\n",
       "      <td>1</td>\n",
       "      <td>2019-06-01 00:59:02</td>\n",
       "      <td>2019-06-01 00:59:12</td>\n",
       "      <td>0.0</td>\n",
       "      <td>0.8</td>\n",
       "      <td>1.0</td>\n",
       "      <td>N</td>\n",
       "      <td>145</td>\n",
       "      <td>145</td>\n",
       "      <td>2</td>\n",
       "      <td>2.5</td>\n",
       "      <td>1.0</td>\n",
       "      <td>0.5</td>\n",
       "      <td>0.00</td>\n",
       "      <td>0.0</td>\n",
       "      <td>0.3</td>\n",
       "      <td>4.30</td>\n",
       "      <td>0.0</td>\n",
       "      <td>None</td>\n",
       "    </tr>\n",
       "    <tr>\n",
       "      <th>4</th>\n",
       "      <td>1</td>\n",
       "      <td>2019-06-01 00:03:25</td>\n",
       "      <td>2019-06-01 00:15:42</td>\n",
       "      <td>1.0</td>\n",
       "      <td>1.7</td>\n",
       "      <td>1.0</td>\n",
       "      <td>N</td>\n",
       "      <td>113</td>\n",
       "      <td>148</td>\n",
       "      <td>1</td>\n",
       "      <td>9.5</td>\n",
       "      <td>3.0</td>\n",
       "      <td>0.5</td>\n",
       "      <td>2.65</td>\n",
       "      <td>0.0</td>\n",
       "      <td>0.3</td>\n",
       "      <td>15.95</td>\n",
       "      <td>2.5</td>\n",
       "      <td>None</td>\n",
       "    </tr>\n",
       "  </tbody>\n",
       "</table>\n",
       "</div>"
      ],
      "text/plain": [
       "   VendorID tpep_pickup_datetime tpep_dropoff_datetime  passenger_count  \\\n",
       "0         1  2019-06-01 00:55:13   2019-06-01 00:56:17              1.0   \n",
       "1         1  2019-06-01 00:06:31   2019-06-01 00:06:52              1.0   \n",
       "2         1  2019-06-01 00:17:05   2019-06-01 00:36:38              1.0   \n",
       "3         1  2019-06-01 00:59:02   2019-06-01 00:59:12              0.0   \n",
       "4         1  2019-06-01 00:03:25   2019-06-01 00:15:42              1.0   \n",
       "\n",
       "   trip_distance  RatecodeID store_and_fwd_flag  PULocationID  DOLocationID  \\\n",
       "0            0.0         1.0                  N           145           145   \n",
       "1            0.0         1.0                  N           262           263   \n",
       "2            4.4         1.0                  N            74             7   \n",
       "3            0.8         1.0                  N           145           145   \n",
       "4            1.7         1.0                  N           113           148   \n",
       "\n",
       "   payment_type  fare_amount  extra  mta_tax  tip_amount  tolls_amount  \\\n",
       "0             2          3.0    0.5      0.5        0.00           0.0   \n",
       "1             2          2.5    3.0      0.5        0.00           0.0   \n",
       "2             2         17.5    0.5      0.5        0.00           0.0   \n",
       "3             2          2.5    1.0      0.5        0.00           0.0   \n",
       "4             1          9.5    3.0      0.5        2.65           0.0   \n",
       "\n",
       "   improvement_surcharge  total_amount  congestion_surcharge airport_fee  \n",
       "0                    0.3          4.30                   0.0        None  \n",
       "1                    0.3          6.30                   2.5        None  \n",
       "2                    0.3         18.80                   0.0        None  \n",
       "3                    0.3          4.30                   0.0        None  \n",
       "4                    0.3         15.95                   2.5        None  "
      ]
     },
     "execution_count": 2,
     "metadata": {},
     "output_type": "execute_result"
    }
   ],
   "source": [
    "nyc_taxi_df = pd.concat([pd.read_parquet(filepath) for filepath in glob.glob(\"../data/nyc_taxi/yellow*.parquet\")[:3]], ignore_index=True)\n",
    "\n",
    "nyc_taxi_df.head()"
   ]
  },
  {
   "cell_type": "code",
   "execution_count": 4,
   "metadata": {},
   "outputs": [
    {
     "name": "stdout",
     "output_type": "stream",
     "text": [
      "CPU times: user 1.26 s, sys: 592 ms, total: 1.85 s\n",
      "Wall time: 1.85 s\n"
     ]
    },
    {
     "data": {
      "text/html": [
       "<div>\n",
       "<style scoped>\n",
       "    .dataframe tbody tr th:only-of-type {\n",
       "        vertical-align: middle;\n",
       "    }\n",
       "\n",
       "    .dataframe tbody tr th {\n",
       "        vertical-align: top;\n",
       "    }\n",
       "\n",
       "    .dataframe thead th {\n",
       "        text-align: right;\n",
       "    }\n",
       "</style>\n",
       "<table border=\"1\" class=\"dataframe\">\n",
       "  <thead>\n",
       "    <tr style=\"text-align: right;\">\n",
       "      <th></th>\n",
       "      <th>PULocationID</th>\n",
       "      <th>DOLocationID</th>\n",
       "      <th>tpep_dropoff_datetime</th>\n",
       "    </tr>\n",
       "  </thead>\n",
       "  <tbody>\n",
       "    <tr>\n",
       "      <th>0</th>\n",
       "      <td>1</td>\n",
       "      <td>1</td>\n",
       "      <td>1748</td>\n",
       "    </tr>\n",
       "    <tr>\n",
       "      <th>1</th>\n",
       "      <td>1</td>\n",
       "      <td>16</td>\n",
       "      <td>1</td>\n",
       "    </tr>\n",
       "    <tr>\n",
       "      <th>2</th>\n",
       "      <td>1</td>\n",
       "      <td>21</td>\n",
       "      <td>1</td>\n",
       "    </tr>\n",
       "    <tr>\n",
       "      <th>3</th>\n",
       "      <td>1</td>\n",
       "      <td>23</td>\n",
       "      <td>1</td>\n",
       "    </tr>\n",
       "    <tr>\n",
       "      <th>4</th>\n",
       "      <td>1</td>\n",
       "      <td>43</td>\n",
       "      <td>1</td>\n",
       "    </tr>\n",
       "  </tbody>\n",
       "</table>\n",
       "</div>"
      ],
      "text/plain": [
       "   PULocationID  DOLocationID  tpep_dropoff_datetime\n",
       "0             1             1                   1748\n",
       "1             1            16                      1\n",
       "2             1            21                      1\n",
       "3             1            23                      1\n",
       "4             1            43                      1"
      ]
     },
     "execution_count": 4,
     "metadata": {},
     "output_type": "execute_result"
    }
   ],
   "source": [
    "%%time\n",
    "\n",
    "nyc_taxi_weighted_df = nyc_taxi_df[[\"PULocationID\", \"DOLocationID\", \"tpep_dropoff_datetime\"]].groupby(by=[\"PULocationID\", \"DOLocationID\"])[\"tpep_dropoff_datetime\"].count().reset_index()\n",
    "\n",
    "nyc_taxi_weighted_df.head()"
   ]
  },
  {
   "cell_type": "code",
   "execution_count": 5,
   "metadata": {},
   "outputs": [
    {
     "name": "stdout",
     "output_type": "stream",
     "text": [
      "CPU times: user 334 ms, sys: 110 ms, total: 444 ms\n",
      "Wall time: 448 ms\n"
     ]
    },
    {
     "data": {
      "text/html": [
       "<div>\n",
       "<style scoped>\n",
       "    .dataframe tbody tr th:only-of-type {\n",
       "        vertical-align: middle;\n",
       "    }\n",
       "\n",
       "    .dataframe tbody tr th {\n",
       "        vertical-align: top;\n",
       "    }\n",
       "\n",
       "    .dataframe thead th {\n",
       "        text-align: right;\n",
       "    }\n",
       "</style>\n",
       "<table border=\"1\" class=\"dataframe\">\n",
       "  <thead>\n",
       "    <tr style=\"text-align: right;\">\n",
       "      <th></th>\n",
       "      <th>PULocationID</th>\n",
       "      <th>total_amount</th>\n",
       "    </tr>\n",
       "  </thead>\n",
       "  <tbody>\n",
       "    <tr>\n",
       "      <th>128</th>\n",
       "      <td>132</td>\n",
       "      <td>40446499.93</td>\n",
       "    </tr>\n",
       "    <tr>\n",
       "      <th>134</th>\n",
       "      <td>138</td>\n",
       "      <td>23929887.32</td>\n",
       "    </tr>\n",
       "    <tr>\n",
       "      <th>157</th>\n",
       "      <td>161</td>\n",
       "      <td>15480609.56</td>\n",
       "    </tr>\n",
       "    <tr>\n",
       "      <th>226</th>\n",
       "      <td>230</td>\n",
       "      <td>13908667.26</td>\n",
       "    </tr>\n",
       "    <tr>\n",
       "      <th>158</th>\n",
       "      <td>162</td>\n",
       "      <td>13614055.41</td>\n",
       "    </tr>\n",
       "  </tbody>\n",
       "</table>\n",
       "</div>"
      ],
      "text/plain": [
       "     PULocationID  total_amount\n",
       "128           132   40446499.93\n",
       "134           138   23929887.32\n",
       "157           161   15480609.56\n",
       "226           230   13908667.26\n",
       "158           162   13614055.41"
      ]
     },
     "execution_count": 5,
     "metadata": {},
     "output_type": "execute_result"
    }
   ],
   "source": [
    "%%time\n",
    "PU_total_revenue_df = nyc_taxi_df.groupby(\"PULocationID\")[\"total_amount\"].sum().reset_index().sort_values(\"total_amount\", ascending=False)\n",
    "\n",
    "PU_total_revenue_df.head()"
   ]
  },
  {
   "cell_type": "code",
   "execution_count": 6,
   "metadata": {},
   "outputs": [
    {
     "name": "stdout",
     "output_type": "stream",
     "text": [
      "CPU times: user 469 ms, sys: 198 ms, total: 667 ms\n",
      "Wall time: 668 ms\n"
     ]
    },
    {
     "data": {
      "text/html": [
       "<div>\n",
       "<style scoped>\n",
       "    .dataframe tbody tr th:only-of-type {\n",
       "        vertical-align: middle;\n",
       "    }\n",
       "\n",
       "    .dataframe tbody tr th {\n",
       "        vertical-align: top;\n",
       "    }\n",
       "\n",
       "    .dataframe thead th {\n",
       "        text-align: right;\n",
       "    }\n",
       "</style>\n",
       "<table border=\"1\" class=\"dataframe\">\n",
       "  <thead>\n",
       "    <tr style=\"text-align: right;\">\n",
       "      <th></th>\n",
       "      <th>PULocationID</th>\n",
       "      <th>total_amount</th>\n",
       "      <th>trip_distance</th>\n",
       "      <th>unit_revenue</th>\n",
       "    </tr>\n",
       "  </thead>\n",
       "  <tbody>\n",
       "    <tr>\n",
       "      <th>0</th>\n",
       "      <td>1</td>\n",
       "      <td>218325.22</td>\n",
       "      <td>3592.86</td>\n",
       "      <td>60.766414</td>\n",
       "    </tr>\n",
       "    <tr>\n",
       "      <th>261</th>\n",
       "      <td>265</td>\n",
       "      <td>1046910.47</td>\n",
       "      <td>38429.74</td>\n",
       "      <td>27.242195</td>\n",
       "    </tr>\n",
       "    <tr>\n",
       "      <th>29</th>\n",
       "      <td>30</td>\n",
       "      <td>2312.17</td>\n",
       "      <td>141.31</td>\n",
       "      <td>16.362395</td>\n",
       "    </tr>\n",
       "    <tr>\n",
       "      <th>195</th>\n",
       "      <td>199</td>\n",
       "      <td>15.36</td>\n",
       "      <td>0.95</td>\n",
       "      <td>16.168421</td>\n",
       "    </tr>\n",
       "    <tr>\n",
       "      <th>95</th>\n",
       "      <td>96</td>\n",
       "      <td>12510.82</td>\n",
       "      <td>796.87</td>\n",
       "      <td>15.699951</td>\n",
       "    </tr>\n",
       "  </tbody>\n",
       "</table>\n",
       "</div>"
      ],
      "text/plain": [
       "     PULocationID  total_amount  trip_distance  unit_revenue\n",
       "0               1     218325.22        3592.86     60.766414\n",
       "261           265    1046910.47       38429.74     27.242195\n",
       "29             30       2312.17         141.31     16.362395\n",
       "195           199         15.36           0.95     16.168421\n",
       "95             96      12510.82         796.87     15.699951"
      ]
     },
     "execution_count": 6,
     "metadata": {},
     "output_type": "execute_result"
    }
   ],
   "source": [
    "%%time\n",
    "unit_revenue_df = nyc_taxi_df.groupby(\"PULocationID\")[[\"total_amount\", \"trip_distance\"]].sum().reset_index()\n",
    "unit_revenue_df[\"unit_revenue\"] = unit_revenue_df[\"total_amount\"]/unit_revenue_df[\"trip_distance\"]\n",
    "unit_revenue_df.sort_values(\"unit_revenue\", ascending=False, inplace=True)\n",
    "\n",
    "unit_revenue_df.head()"
   ]
  },
  {
   "cell_type": "markdown",
   "metadata": {},
   "source": [
    "# Generate networkit graph"
   ]
  },
  {
   "cell_type": "code",
   "execution_count": 7,
   "metadata": {},
   "outputs": [
    {
     "name": "stdout",
     "output_type": "stream",
     "text": [
      "Number of nodes:  266\n",
      "Number of edges:  20880424\n",
      "CPU times: user 7.8 s, sys: 885 ms, total: 8.68 s\n",
      "Wall time: 8.7 s\n"
     ]
    }
   ],
   "source": [
    "%%time\n",
    "\n",
    "g = nk.Graph(directed=True)\n",
    "\n",
    "for row in nyc_taxi_df[[\"PULocationID\", \"DOLocationID\"]].to_records(index=False).tolist():\n",
    "    g.addEdge(row[0], row[1], addMissing=True)\n",
    "\n",
    "print(\"Number of nodes: \", g.numberOfNodes())\n",
    "print(\"Number of edges: \", g.numberOfEdges())    "
   ]
  },
  {
   "cell_type": "markdown",
   "metadata": {},
   "source": [
    "# Generate networkx graph"
   ]
  },
  {
   "cell_type": "code",
   "execution_count": 14,
   "metadata": {},
   "outputs": [
    {
     "name": "stdout",
     "output_type": "stream",
     "text": [
      "Number of nodes:  261\n",
      "Number of edges:  32729\n",
      "CPU times: user 50.9 ms, sys: 5.44 ms, total: 56.3 ms\n",
      "Wall time: 75.6 ms\n"
     ]
    }
   ],
   "source": [
    "%%time\n",
    "\n",
    "gx = nx.DiGraph()\n",
    "\n",
    "gx.add_weighted_edges_from(nyc_taxi_weighted_df.to_records(index=False).tolist())\n",
    "\n",
    "print(\"Number of nodes: \", gx.number_of_nodes())\n",
    "print(\"Number of edges: \", gx.number_of_edges())  "
   ]
  },
  {
   "cell_type": "markdown",
   "metadata": {},
   "source": [
    "# Compare centrality measures"
   ]
  },
  {
   "cell_type": "code",
   "execution_count": 8,
   "metadata": {},
   "outputs": [],
   "source": [
    "centrality = {}"
   ]
  },
  {
   "cell_type": "markdown",
   "metadata": {},
   "source": [
    "## Outdegree"
   ]
  },
  {
   "cell_type": "code",
   "execution_count": 9,
   "metadata": {},
   "outputs": [
    {
     "name": "stdout",
     "output_type": "stream",
     "text": [
      "CPU times: user 2.09 s, sys: 130 ms, total: 2.22 s\n",
      "Wall time: 2.22 s\n"
     ]
    },
    {
     "data": {
      "text/plain": [
       "[(237, 505862401770),\n",
       " (161, 434443039527),\n",
       " (236, 426514976088),\n",
       " (162, 375301948458),\n",
       " (186, 347558091324),\n",
       " (230, 334468737946),\n",
       " (170, 316085964390),\n",
       " (48, 305983450129),\n",
       " (142, 302610229191),\n",
       " (163, 282345470312)]"
      ]
     },
     "execution_count": 9,
     "metadata": {},
     "output_type": "execute_result"
    }
   ],
   "source": [
    "%%time\n",
    "\n",
    "centrality[\"outdegree\"] = [(node, sum([g.degreeOut(neighbor_node) for neighbor_node in g.iterNeighbors(node)])) for node in g.iterNodes()]\n",
    "centrality[\"outdegree\"] = sorted(centrality[\"outdegree\"], key = lambda x: x[1], reverse=True)\n",
    "centrality[\"outdegree\"][:10]"
   ]
  },
  {
   "cell_type": "markdown",
   "metadata": {},
   "source": [
    "## Revenue"
   ]
  },
  {
   "cell_type": "code",
   "execution_count": 23,
   "metadata": {},
   "outputs": [
    {
     "data": {
      "text/plain": [
       "[132, 138, 161, 230, 162, 186, 237, 236, 48, 170]"
      ]
     },
     "execution_count": 23,
     "metadata": {},
     "output_type": "execute_result"
    }
   ],
   "source": [
    "centrality[\"revenue\"] = {}\n",
    "centrality[\"revenue\"][\"id\"] = PU_total_revenue_df[\"PULocationID\"].to_list()\n",
    "centrality[\"revenue\"][\"total_revenue\"] = PU_total_revenue_df[\"total_amount\"].to_list()\n",
    "\n",
    "centrality[\"revenue\"][\"id\"][:10]"
   ]
  },
  {
   "cell_type": "markdown",
   "metadata": {},
   "source": [
    "## Degree centrality"
   ]
  },
  {
   "cell_type": "code",
   "execution_count": 11,
   "metadata": {},
   "outputs": [
    {
     "name": "stdout",
     "output_type": "stream",
     "text": [
      "CPU times: user 4 ms, sys: 6.04 ms, total: 10 ms\n",
      "Wall time: 15.1 ms\n"
     ]
    },
    {
     "data": {
      "text/plain": [
       "[(237, 888550.0),\n",
       " (161, 846981.0),\n",
       " (236, 786512.0),\n",
       " (162, 759254.0),\n",
       " (186, 744075.0),\n",
       " (132, 719652.0),\n",
       " (230, 703453.0),\n",
       " (48, 665536.0),\n",
       " (170, 657893.0),\n",
       " (234, 612619.0)]"
      ]
     },
     "execution_count": 11,
     "metadata": {},
     "output_type": "execute_result"
    }
   ],
   "source": [
    "%%time\n",
    "\n",
    "centrality[\"degree\"] = nk.centrality.DegreeCentrality(g)\n",
    "centrality[\"degree\"].run()\n",
    "centrality[\"degree\"].ranking()[:10]"
   ]
  },
  {
   "cell_type": "markdown",
   "metadata": {},
   "source": [
    "## Betweenness centrality "
   ]
  },
  {
   "cell_type": "code",
   "execution_count": 12,
   "metadata": {},
   "outputs": [
    {
     "name": "stdout",
     "output_type": "stream",
     "text": [
      "CPU times: user 1min 2s, sys: 1.58 s, total: 1min 4s\n",
      "Wall time: 11.1 s\n"
     ]
    },
    {
     "data": {
      "text/plain": [
       "[(132, 5819.658803529625),\n",
       " (138, 1555.2492354060398),\n",
       " (170, 1284.6154168683656),\n",
       " (161, 1063.521833233875),\n",
       " (230, 1015.4987973068024),\n",
       " (231, 807.8454862650535),\n",
       " (48, 795.822875794891),\n",
       " (264, 751.8929122837029),\n",
       " (140, 677.4441971459423),\n",
       " (186, 675.6085760546855)]"
      ]
     },
     "execution_count": 12,
     "metadata": {},
     "output_type": "execute_result"
    }
   ],
   "source": [
    "%%time\n",
    "\n",
    "centrality[\"betweenness\"] = nk.centrality.Betweenness(g)\n",
    "centrality[\"betweenness\"].run()\n",
    "centrality[\"betweenness\"].ranking()[:10]"
   ]
  },
  {
   "cell_type": "markdown",
   "metadata": {},
   "source": [
    "## Closeness centrality"
   ]
  },
  {
   "cell_type": "code",
   "execution_count": 13,
   "metadata": {},
   "outputs": [
    {
     "name": "stdout",
     "output_type": "stream",
     "text": [
      "CPU times: user 9.16 s, sys: 20.8 ms, total: 9.18 s\n",
      "Wall time: 1.58 s\n"
     ]
    },
    {
     "data": {
      "text/plain": [
       "[(132, 0.9811892510005717),\n",
       " (138, 0.9738118882110938),\n",
       " (164, 0.9738118882110938),\n",
       " (48, 0.9701646526747226),\n",
       " (79, 0.9701646526747226),\n",
       " (161, 0.9701646526747226),\n",
       " (162, 0.9701646526747226),\n",
       " (230, 0.9701646526747226),\n",
       " (100, 0.9665446353139961),\n",
       " (107, 0.9665446353139961)]"
      ]
     },
     "execution_count": 13,
     "metadata": {},
     "output_type": "execute_result"
    }
   ],
   "source": [
    "%%time\n",
    "\n",
    "centrality[\"closeness\"] = nk.centrality.Closeness(g, True, nk.centrality.ClosenessVariant.Generalized)\n",
    "centrality[\"closeness\"].run()\n",
    "centrality[\"closeness\"].ranking()[:10]"
   ]
  },
  {
   "cell_type": "markdown",
   "metadata": {},
   "source": [
    "## Top k closeness centrality"
   ]
  },
  {
   "cell_type": "code",
   "execution_count": 15,
   "metadata": {},
   "outputs": [
    {
     "name": "stdout",
     "output_type": "stream",
     "text": [
      "CPU times: user 7.91 s, sys: 31.2 ms, total: 7.94 s\n",
      "Wall time: 1.45 s\n"
     ]
    },
    {
     "data": {
      "text/plain": [
       "[(132, 0.9811892510005717),\n",
       " (138, 0.9738118882110937),\n",
       " (164, 0.9738118882110937),\n",
       " (48, 0.9701646526747225),\n",
       " (79, 0.9701646526747225),\n",
       " (161, 0.9701646526747225),\n",
       " (162, 0.9701646526747225),\n",
       " (230, 0.9701646526747225),\n",
       " (100, 0.9665446353139963),\n",
       " (107, 0.9665446353139963)]"
      ]
     },
     "execution_count": 15,
     "metadata": {},
     "output_type": "execute_result"
    }
   ],
   "source": [
    "%%time\n",
    "\n",
    "centrality[\"topkcloseness\"] = nk.centrality.TopCloseness(g, k=100, first_heu=True, sec_heu=True)\n",
    "centrality[\"topkcloseness\"].run()\n",
    "list(zip(centrality[\"topkcloseness\"].topkNodesList(), centrality[\"topkcloseness\"].topkScoresList()))[:10]"
   ]
  },
  {
   "cell_type": "markdown",
   "metadata": {},
   "source": [
    "## Eigenvector centrality"
   ]
  },
  {
   "cell_type": "code",
   "execution_count": 16,
   "metadata": {},
   "outputs": [
    {
     "name": "stdout",
     "output_type": "stream",
     "text": [
      "CPU times: user 2.02 s, sys: 28.2 ms, total: 2.05 s\n",
      "Wall time: 378 ms\n"
     ]
    },
    {
     "data": {
      "text/plain": [
       "[(236, 0.3566022580115001),\n",
       " (237, 0.3512548155206102),\n",
       " (161, 0.2950377922633019),\n",
       " (162, 0.2356301749157863),\n",
       " (170, 0.20839578282332147),\n",
       " (230, 0.2062988454296149),\n",
       " (142, 0.19937245996192898),\n",
       " (141, 0.19098325391750562),\n",
       " (48, 0.18046415616189845),\n",
       " (239, 0.17751288131165946)]"
      ]
     },
     "execution_count": 16,
     "metadata": {},
     "output_type": "execute_result"
    }
   ],
   "source": [
    "%%time\n",
    "\n",
    "centrality[\"eigenvector\"] = nk.centrality.EigenvectorCentrality(g)\n",
    "centrality[\"eigenvector\"].run()\n",
    "centrality[\"eigenvector\"].ranking()[:10]"
   ]
  },
  {
   "cell_type": "markdown",
   "metadata": {},
   "source": [
    "## Pagerank centrality"
   ]
  },
  {
   "cell_type": "code",
   "execution_count": 17,
   "metadata": {},
   "outputs": [
    {
     "name": "stdout",
     "output_type": "stream",
     "text": [
      "CPU times: user 1.96 s, sys: 15.4 ms, total: 1.98 s\n",
      "Wall time: 381 ms\n"
     ]
    },
    {
     "data": {
      "text/plain": [
       "[(264, 0.04010237604153499),\n",
       " (236, 0.022862543021213523),\n",
       " (161, 0.022343325951096758),\n",
       " (237, 0.021456308113371556),\n",
       " (170, 0.019047433147212915),\n",
       " (230, 0.01774912279473013),\n",
       " (162, 0.017686118006468785),\n",
       " (48, 0.01639280726250008),\n",
       " (142, 0.01570201135052037),\n",
       " (239, 0.015332633613601545)]"
      ]
     },
     "execution_count": 17,
     "metadata": {},
     "output_type": "execute_result"
    }
   ],
   "source": [
    "%%time\n",
    "\n",
    "centrality[\"pagerank\"] = nk.centrality.PageRank(g, damp=0.85, tol=1e-9)\n",
    "centrality[\"pagerank\"].run()\n",
    "centrality[\"pagerank\"].ranking()[:10]"
   ]
  },
  {
   "cell_type": "markdown",
   "metadata": {},
   "source": [
    "# NDCG comparision"
   ]
  },
  {
   "cell_type": "markdown",
   "metadata": {},
   "source": [
    "## Compare centrality measures to revenue ranking"
   ]
  },
  {
   "cell_type": "code",
   "execution_count": 39,
   "metadata": {},
   "outputs": [
    {
     "name": "stdout",
     "output_type": "stream",
     "text": [
      "CPU times: user 14.3 ms, sys: 2.09 ms, total: 16.4 ms\n",
      "Wall time: 14.4 ms\n"
     ]
    },
    {
     "data": {
      "text/html": [
       "<div>\n",
       "<style scoped>\n",
       "    .dataframe tbody tr th:only-of-type {\n",
       "        vertical-align: middle;\n",
       "    }\n",
       "\n",
       "    .dataframe tbody tr th {\n",
       "        vertical-align: top;\n",
       "    }\n",
       "\n",
       "    .dataframe thead th {\n",
       "        text-align: right;\n",
       "    }\n",
       "</style>\n",
       "<table border=\"1\" class=\"dataframe\">\n",
       "  <thead>\n",
       "    <tr style=\"text-align: right;\">\n",
       "      <th></th>\n",
       "      <th>outdegree</th>\n",
       "      <th>degree</th>\n",
       "      <th>betweenness</th>\n",
       "      <th>closeness</th>\n",
       "      <th>topkcloseness</th>\n",
       "    </tr>\n",
       "  </thead>\n",
       "  <tbody>\n",
       "    <tr>\n",
       "      <th>5</th>\n",
       "      <td>0.775436</td>\n",
       "      <td>0.775436</td>\n",
       "      <td>0.881331</td>\n",
       "      <td>0.881331</td>\n",
       "      <td>0.881331</td>\n",
       "    </tr>\n",
       "    <tr>\n",
       "      <th>10</th>\n",
       "      <td>0.965314</td>\n",
       "      <td>0.962640</td>\n",
       "      <td>0.925026</td>\n",
       "      <td>0.940526</td>\n",
       "      <td>0.940526</td>\n",
       "    </tr>\n",
       "    <tr>\n",
       "      <th>20</th>\n",
       "      <td>0.944008</td>\n",
       "      <td>0.979611</td>\n",
       "      <td>0.880633</td>\n",
       "      <td>0.933090</td>\n",
       "      <td>0.933090</td>\n",
       "    </tr>\n",
       "    <tr>\n",
       "      <th>30</th>\n",
       "      <td>0.982906</td>\n",
       "      <td>0.991411</td>\n",
       "      <td>0.907824</td>\n",
       "      <td>0.906338</td>\n",
       "      <td>0.906338</td>\n",
       "    </tr>\n",
       "    <tr>\n",
       "      <th>40</th>\n",
       "      <td>0.979794</td>\n",
       "      <td>0.995334</td>\n",
       "      <td>0.940501</td>\n",
       "      <td>0.920449</td>\n",
       "      <td>0.920449</td>\n",
       "    </tr>\n",
       "    <tr>\n",
       "      <th>50</th>\n",
       "      <td>0.994616</td>\n",
       "      <td>0.996288</td>\n",
       "      <td>0.947553</td>\n",
       "      <td>0.954234</td>\n",
       "      <td>0.954234</td>\n",
       "    </tr>\n",
       "  </tbody>\n",
       "</table>\n",
       "</div>"
      ],
      "text/plain": [
       "    outdegree    degree  betweenness  closeness  topkcloseness\n",
       "5    0.775436  0.775436     0.881331   0.881331       0.881331\n",
       "10   0.965314  0.962640     0.925026   0.940526       0.940526\n",
       "20   0.944008  0.979611     0.880633   0.933090       0.933090\n",
       "30   0.982906  0.991411     0.907824   0.906338       0.906338\n",
       "40   0.979794  0.995334     0.940501   0.920449       0.920449\n",
       "50   0.994616  0.996288     0.947553   0.954234       0.954234"
      ]
     },
     "execution_count": 39,
     "metadata": {},
     "output_type": "execute_result"
    }
   ],
   "source": [
    "%%time\n",
    "\n",
    "ndcg_scores = {}\n",
    "\n",
    "for k in [5, 10, 20, 30, 40, 50]:\n",
    "\n",
    "    ndcg_scores[k] = {}\n",
    "\n",
    "    y_true = centrality[\"revenue\"][\"id\"]\n",
    "\n",
    "    for centrality_measure in [\"outdegree\", \"degree\", \"betweenness\", \"closeness\", \"topkcloseness\"]:\n",
    "\n",
    "        if centrality_measure == \"outdegree\":\n",
    "            y_score = [row[0] for row in centrality[centrality_measure][:k]]\n",
    "\n",
    "        elif centrality_measure == \"topkcloseness\":\n",
    "            y_score = centrality[\"topkcloseness\"].topkNodesList()[:k]\n",
    "\n",
    "        else:\n",
    "            y_score = [row[0] for row in centrality[centrality_measure].ranking()[:k]]\n",
    "        \n",
    "        y_score = [y_true.index(item) if item in y_true else 10**7 for item in y_score][:k]\n",
    "\n",
    "        ndcg_scores[k][centrality_measure] = ndcg_score([list(range(k))], [y_score])\n",
    "        \n",
    "pd.DataFrame(ndcg_scores).T"
   ]
  },
  {
   "cell_type": "markdown",
   "metadata": {},
   "source": [
    "# Revenue earned comparison"
   ]
  },
  {
   "cell_type": "code",
   "execution_count": 166,
   "metadata": {},
   "outputs": [
    {
     "name": "stdout",
     "output_type": "stream",
     "text": [
      "{5: {'outdegree': 68136121.09, 'degree': 68136121.09, 'betweenness': 105414551.37, 'closeness': 93317261.73, 'topkcloseness': 93317261.73, 'eigenvector': 66250698.78999999, 'pagerank': 56222207.87}, 10: {'outdegree': 125555781.2, 'degree': 156123083.38, 'betweenness': 147404665.36, 'closeness': 151819021.82999998, 'topkcloseness': 151819021.82999998, 'eigenvector': 117635465.41, 'pagerank': 113984515.49}, 20: {'outdegree': 255750380.04000002, 'degree': 257743240.37000003, 'betweenness': 235319515.59000003, 'closeness': 225813119.67000002, 'topkcloseness': 225813119.67000002, 'eigenvector': 202237959.12, 'pagerank': 195760733.77000004}, 30: {'outdegree': 317920540.09000003, 'degree': 319538965.87000006, 'betweenness': 300018399.47999996, 'closeness': 303177792.92, 'topkcloseness': 303177792.92, 'eigenvector': 276687719.18999994, 'pagerank': 249497341.48000002}, 40: {'outdegree': 361165879.69000006, 'degree': 361165879.69000006, 'betweenness': 336386597.14, 'closeness': 350946899.09000003, 'topkcloseness': 350946899.09000003, 'eigenvector': 358055991.53000003, 'pagerank': 343610160.15}}\n"
     ]
    }
   ],
   "source": [
    "revenue = {}\n",
    "\n",
    "for k in [5, 10, 20, 30, 40]:\n",
    "\n",
    "    revenue[k] = {}\n",
    "\n",
    "    for centrality_measure in [\"outdegree\", \"degree\", \"betweenness\", \"closeness\", \"topkcloseness\"]:\n",
    "\n",
    "        if centrality_measure == \"outdegree\":\n",
    "            top_nodes = [[row[0] for row in centrality[centrality_measure][:k]]][0]\n",
    "\n",
    "        elif centrality_measure == \"topkcloseness\":\n",
    "            top_nodes = [centrality[\"topkcloseness\"].topkNodesList()[:k]][0]\n",
    "\n",
    "        else:\n",
    "            top_nodes = [[row[0] for row in centrality[centrality_measure].ranking()[:k]]][0]\n",
    "        \n",
    "        revenue[k][centrality_measure] = PU_total_revenue_df[PU_total_revenue_df[\"PULocationID\"].isin(top_nodes)][\"total_amount\"].sum()\n",
    "\n",
    "print(revenue)"
   ]
  },
  {
   "cell_type": "code",
   "execution_count": 167,
   "metadata": {},
   "outputs": [
    {
     "data": {
      "text/html": [
       "<div>\n",
       "<style scoped>\n",
       "    .dataframe tbody tr th:only-of-type {\n",
       "        vertical-align: middle;\n",
       "    }\n",
       "\n",
       "    .dataframe tbody tr th {\n",
       "        vertical-align: top;\n",
       "    }\n",
       "\n",
       "    .dataframe thead th {\n",
       "        text-align: right;\n",
       "    }\n",
       "</style>\n",
       "<table border=\"1\" class=\"dataframe\">\n",
       "  <thead>\n",
       "    <tr style=\"text-align: right;\">\n",
       "      <th></th>\n",
       "      <th>outdegree</th>\n",
       "      <th>degree</th>\n",
       "      <th>betweenness</th>\n",
       "      <th>closeness</th>\n",
       "      <th>topkcloseness</th>\n",
       "      <th>eigenvector</th>\n",
       "      <th>pagerank</th>\n",
       "    </tr>\n",
       "  </thead>\n",
       "  <tbody>\n",
       "    <tr>\n",
       "      <th>5</th>\n",
       "      <td>6.813612e+07</td>\n",
       "      <td>6.813612e+07</td>\n",
       "      <td>1.054146e+08</td>\n",
       "      <td>9.331726e+07</td>\n",
       "      <td>9.331726e+07</td>\n",
       "      <td>6.625070e+07</td>\n",
       "      <td>5.622221e+07</td>\n",
       "    </tr>\n",
       "    <tr>\n",
       "      <th>10</th>\n",
       "      <td>1.255558e+08</td>\n",
       "      <td>1.561231e+08</td>\n",
       "      <td>1.474047e+08</td>\n",
       "      <td>1.518190e+08</td>\n",
       "      <td>1.518190e+08</td>\n",
       "      <td>1.176355e+08</td>\n",
       "      <td>1.139845e+08</td>\n",
       "    </tr>\n",
       "    <tr>\n",
       "      <th>20</th>\n",
       "      <td>2.557504e+08</td>\n",
       "      <td>2.577432e+08</td>\n",
       "      <td>2.353195e+08</td>\n",
       "      <td>2.258131e+08</td>\n",
       "      <td>2.258131e+08</td>\n",
       "      <td>2.022380e+08</td>\n",
       "      <td>1.957607e+08</td>\n",
       "    </tr>\n",
       "    <tr>\n",
       "      <th>30</th>\n",
       "      <td>3.179205e+08</td>\n",
       "      <td>3.195390e+08</td>\n",
       "      <td>3.000184e+08</td>\n",
       "      <td>3.031778e+08</td>\n",
       "      <td>3.031778e+08</td>\n",
       "      <td>2.766877e+08</td>\n",
       "      <td>2.494973e+08</td>\n",
       "    </tr>\n",
       "    <tr>\n",
       "      <th>40</th>\n",
       "      <td>3.611659e+08</td>\n",
       "      <td>3.611659e+08</td>\n",
       "      <td>3.363866e+08</td>\n",
       "      <td>3.509469e+08</td>\n",
       "      <td>3.509469e+08</td>\n",
       "      <td>3.580560e+08</td>\n",
       "      <td>3.436102e+08</td>\n",
       "    </tr>\n",
       "  </tbody>\n",
       "</table>\n",
       "</div>"
      ],
      "text/plain": [
       "       outdegree        degree   betweenness     closeness  topkcloseness  \\\n",
       "5   6.813612e+07  6.813612e+07  1.054146e+08  9.331726e+07   9.331726e+07   \n",
       "10  1.255558e+08  1.561231e+08  1.474047e+08  1.518190e+08   1.518190e+08   \n",
       "20  2.557504e+08  2.577432e+08  2.353195e+08  2.258131e+08   2.258131e+08   \n",
       "30  3.179205e+08  3.195390e+08  3.000184e+08  3.031778e+08   3.031778e+08   \n",
       "40  3.611659e+08  3.611659e+08  3.363866e+08  3.509469e+08   3.509469e+08   \n",
       "\n",
       "     eigenvector      pagerank  \n",
       "5   6.625070e+07  5.622221e+07  \n",
       "10  1.176355e+08  1.139845e+08  \n",
       "20  2.022380e+08  1.957607e+08  \n",
       "30  2.766877e+08  2.494973e+08  \n",
       "40  3.580560e+08  3.436102e+08  "
      ]
     },
     "execution_count": 167,
     "metadata": {},
     "output_type": "execute_result"
    }
   ],
   "source": [
    "revenue_df = pd.DataFrame(revenue).T\n",
    "\n",
    "revenue_df"
   ]
  },
  {
   "cell_type": "code",
   "execution_count": 168,
   "metadata": {},
   "outputs": [
    {
     "data": {
      "image/png": "[encoded data removed]",
      "text/plain": [
       "<Figure size 1000x500 with 1 Axes>"
      ]
     },
     "metadata": {},
     "output_type": "display_data"
    }
   ],
   "source": [
    "plt.figure(figsize=(10, 5))\n",
    "\n",
    "for column in revenue_df.columns:\n",
    "    plt.plot(revenue_df.index, revenue_df[column], label=column)\n",
    "\n",
    "plt.legend()\n",
    "plt.show()"
   ]
  },
  {
   "cell_type": "markdown",
   "metadata": {},
   "source": [
    "# Unit revenue by distance comparison"
   ]
  },
  {
   "cell_type": "code",
   "execution_count": 45,
   "metadata": {},
   "outputs": [
    {
     "data": {
      "text/html": [
       "<div>\n",
       "<style scoped>\n",
       "    .dataframe tbody tr th:only-of-type {\n",
       "        vertical-align: middle;\n",
       "    }\n",
       "\n",
       "    .dataframe tbody tr th {\n",
       "        vertical-align: top;\n",
       "    }\n",
       "\n",
       "    .dataframe thead th {\n",
       "        text-align: right;\n",
       "    }\n",
       "</style>\n",
       "<table border=\"1\" class=\"dataframe\">\n",
       "  <thead>\n",
       "    <tr style=\"text-align: right;\">\n",
       "      <th></th>\n",
       "      <th>outdegree</th>\n",
       "      <th>degree</th>\n",
       "      <th>betweenness</th>\n",
       "      <th>closeness</th>\n",
       "      <th>topkcloseness</th>\n",
       "    </tr>\n",
       "  </thead>\n",
       "  <tbody>\n",
       "    <tr>\n",
       "      <th>5</th>\n",
       "      <td>7.879957</td>\n",
       "      <td>7.879957</td>\n",
       "      <td>6.106920</td>\n",
       "      <td>5.965701</td>\n",
       "      <td>5.965701</td>\n",
       "    </tr>\n",
       "    <tr>\n",
       "      <th>10</th>\n",
       "      <td>7.593570</td>\n",
       "      <td>7.273192</td>\n",
       "      <td>6.702911</td>\n",
       "      <td>6.681757</td>\n",
       "      <td>6.681757</td>\n",
       "    </tr>\n",
       "    <tr>\n",
       "      <th>20</th>\n",
       "      <td>7.263870</td>\n",
       "      <td>7.214114</td>\n",
       "      <td>7.065462</td>\n",
       "      <td>6.856856</td>\n",
       "      <td>6.856856</td>\n",
       "    </tr>\n",
       "    <tr>\n",
       "      <th>30</th>\n",
       "      <td>7.285467</td>\n",
       "      <td>7.261422</td>\n",
       "      <td>7.071232</td>\n",
       "      <td>7.033120</td>\n",
       "      <td>7.033120</td>\n",
       "    </tr>\n",
       "    <tr>\n",
       "      <th>40</th>\n",
       "      <td>7.159055</td>\n",
       "      <td>7.159055</td>\n",
       "      <td>6.959068</td>\n",
       "      <td>7.006963</td>\n",
       "      <td>7.006963</td>\n",
       "    </tr>\n",
       "    <tr>\n",
       "      <th>50</th>\n",
       "      <td>7.006585</td>\n",
       "      <td>6.994720</td>\n",
       "      <td>6.832993</td>\n",
       "      <td>6.954186</td>\n",
       "      <td>6.954186</td>\n",
       "    </tr>\n",
       "    <tr>\n",
       "      <th>60</th>\n",
       "      <td>6.840893</td>\n",
       "      <td>6.844797</td>\n",
       "      <td>6.597462</td>\n",
       "      <td>6.783014</td>\n",
       "      <td>6.783014</td>\n",
       "    </tr>\n",
       "  </tbody>\n",
       "</table>\n",
       "</div>"
      ],
      "text/plain": [
       "    outdegree    degree  betweenness  closeness  topkcloseness\n",
       "5    7.879957  7.879957     6.106920   5.965701       5.965701\n",
       "10   7.593570  7.273192     6.702911   6.681757       6.681757\n",
       "20   7.263870  7.214114     7.065462   6.856856       6.856856\n",
       "30   7.285467  7.261422     7.071232   7.033120       7.033120\n",
       "40   7.159055  7.159055     6.959068   7.006963       7.006963\n",
       "50   7.006585  6.994720     6.832993   6.954186       6.954186\n",
       "60   6.840893  6.844797     6.597462   6.783014       6.783014"
      ]
     },
     "execution_count": 45,
     "metadata": {},
     "output_type": "execute_result"
    }
   ],
   "source": [
    "mean_revenue = {}\n",
    "\n",
    "for k in [5, 10, 20, 30, 40, 50, 60]:\n",
    "\n",
    "    mean_revenue[k] = {}\n",
    "\n",
    "    for centrality_measure in [\"outdegree\", \"degree\", \"betweenness\", \"closeness\", \"topkcloseness\"]:\n",
    "\n",
    "        if centrality_measure == \"outdegree\":\n",
    "            top_nodes = [row[0] for row in centrality[centrality_measure][:k]]\n",
    "\n",
    "        elif centrality_measure == \"topkcloseness\":\n",
    "            top_nodes = centrality[\"topkcloseness\"].topkNodesList()[:k]\n",
    "\n",
    "        else:\n",
    "            top_nodes = [row[0] for row in centrality[centrality_measure].ranking()[:k]]\n",
    "        \n",
    "        mean_revenue[k][centrality_measure] = unit_revenue_df[unit_revenue_df[\"PULocationID\"].isin(top_nodes)][\"unit_revenue\"].mean()\n",
    "\n",
    "mean_revenue_df = pd.DataFrame(mean_revenue).T\n",
    "\n",
    "mean_revenue_df"
   ]
  },
  {
   "cell_type": "code",
   "execution_count": 46,
   "metadata": {},
   "outputs": [
    {
     "data": {
      "image/png": "[encoded data removed]",
      "text/plain": [
       "<Figure size 1000x500 with 1 Axes>"
      ]
     },
     "metadata": {},
     "output_type": "display_data"
    }
   ],
   "source": [
    "plt.figure(figsize=(10, 5))\n",
    "\n",
    "for column in mean_revenue_df.columns:\n",
    "    plt.plot(mean_revenue_df.index, mean_revenue_df[column], label=column)\n",
    "\n",
    "plt.legend()\n",
    "plt.show()"
   ]
  },
  {
   "cell_type": "markdown",
   "metadata": {},
   "source": [
    "# Node + connected neighbors revenue earned comparison"
   ]
  },
  {
   "cell_type": "code",
   "execution_count": 63,
   "metadata": {},
   "outputs": [
    {
     "ename": "AttributeError",
     "evalue": "'dict' object has no attribute 'ranking'",
     "output_type": "error",
     "traceback": [
      "\u001b[0;31m---------------------------------------------------------------------------\u001b[0m",
      "\u001b[0;31mAttributeError\u001b[0m                            Traceback (most recent call last)",
      "Cell \u001b[0;32mIn [63], line 16\u001b[0m\n\u001b[1;32m     13\u001b[0m     top_nodes \u001b[38;5;241m=\u001b[39m centrality[\u001b[38;5;124m\"\u001b[39m\u001b[38;5;124mtopkcloseness\u001b[39m\u001b[38;5;124m\"\u001b[39m]\u001b[38;5;241m.\u001b[39mtopkNodesList()[:k]\n\u001b[1;32m     15\u001b[0m \u001b[38;5;28;01melse\u001b[39;00m:\n\u001b[0;32m---> 16\u001b[0m     top_nodes \u001b[38;5;241m=\u001b[39m [row[\u001b[38;5;241m0\u001b[39m] \u001b[38;5;28;01mfor\u001b[39;00m row \u001b[38;5;129;01min\u001b[39;00m \u001b[43mcentrality\u001b[49m\u001b[43m[\u001b[49m\u001b[43mcentrality_measure\u001b[49m\u001b[43m]\u001b[49m\u001b[38;5;241;43m.\u001b[39;49m\u001b[43mranking\u001b[49m()[:k]]\n\u001b[1;32m     18\u001b[0m out_neighbors \u001b[38;5;241m=\u001b[39m []\n\u001b[1;32m     20\u001b[0m \u001b[38;5;28;01mfor\u001b[39;00m node \u001b[38;5;129;01min\u001b[39;00m top_nodes:\n",
      "\u001b[0;31mAttributeError\u001b[0m: 'dict' object has no attribute 'ranking'"
     ]
    }
   ],
   "source": [
    "revenue = {}\n",
    "\n",
    "for k in [5, 10, 20, 30, 40]:\n",
    "\n",
    "    revenue[k] = {}\n",
    "\n",
    "    for centrality_measure in [\"outdegree\", \"degree\", \"revenue\", \"betweenness\", \"closeness\", \"topkcloseness\"]:\n",
    "\n",
    "        if centrality_measure == \"outdegree\":\n",
    "            top_nodes = [row[0] for row in centrality[centrality_measure][:k]]\n",
    "\n",
    "        elif centrality_measure == \"topkcloseness\":\n",
    "            top_nodes = centrality[\"topkcloseness\"].topkNodesList()[:k]\n",
    "\n",
    "        elif centrality_measure == \"revenue\":\n",
    "            top_nodes = centrality[\"revenue\"][\"id\"][:k]\n",
    "            \n",
    "        else:\n",
    "            top_nodes = [row[0] for row in centrality[centrality_measure].ranking()[:k]]\n",
    "        \n",
    "        out_neighbors = []\n",
    "\n",
    "        for node in top_nodes:\n",
    "            in_neighbors = set([node for node in g.iterInNeighbors(138)])\n",
    "            neighbors = set([node for node in g.iterNeighbors(138)])\n",
    "            out_neighbors.extend(neighbors.difference(in_neighbors))\n",
    "\n",
    "        out_neighbors = list(set(out_neighbors))\n",
    "        subset_total_revenue_df = PU_total_revenue_df[PU_total_revenue_df[\"PULocationID\"].isin(out_neighbors)].sort_values(\"total_amount\", ascending=False).iloc[:k][\"total_amount\"].sum()\n",
    "        \n",
    "        revenue[k][centrality_measure] = PU_total_revenue_df[PU_total_revenue_df[\"PULocationID\"].isin(top_nodes)][\"total_amount\"].sum() + subset_total_revenue_df\n",
    "\n",
    "revenue_df = pd.DataFrame(revenue).T\n",
    "\n",
    "revenue_df"
   ]
  },
  {
   "cell_type": "code",
   "execution_count": null,
   "metadata": {},
   "outputs": [],
   "source": []
  }
 ],
 "metadata": {
  "kernelspec": {
   "display_name": "Python 3 (ipykernel)",
   "language": "python",
   "name": "python3"
  },
  "language_info": {
   "codemirror_mode": {
    "name": "ipython",
    "version": 3
   },
   "file_extension": ".py",
   "mimetype": "text/x-python",
   "name": "python",
   "nbconvert_exporter": "python",
   "pygments_lexer": "ipython3",
   "version": "3.9.13"
  },
  "vscode": {
   "interpreter": {
    "hash": "d5cc4e86fa364bec93d88269df7d8fba81299fa2b9385aebe79869b9c4b54db4"
   }
  }
 },
 "nbformat": 4,
 "nbformat_minor": 4
}
