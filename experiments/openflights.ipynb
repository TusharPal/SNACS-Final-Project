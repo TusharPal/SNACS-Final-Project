{
 "cells": [
  {
   "cell_type": "markdown",
   "id": "30fb94ce-7582-4b4e-91e5-852ed71cb955",
   "metadata": {},
   "source": [
    "# Imports"
   ]
  },
  {
   "cell_type": "code",
   "execution_count": 1,
   "id": "7bf9d038-da9c-443f-9ce8-56fe7a99be3a",
   "metadata": {},
   "outputs": [
    {
     "data": {
      "text/html": [
       "\n",
       "\t\t\t<script type=\"text/javascript\">\n",
       "\t\t\t<!--\n",
       "\t\t\t\t\n",
       "\t\t\t{\n",
       "\t\t\t\tvar element = document.getElementById('NetworKit_script');\n",
       "\t\t\t\tif (element) {\n",
       "\t\t\t\t\telement.parentNode.removeChild(element);\n",
       "\t\t\t\t}\n",
       "\t\t\t\telement = document.createElement('script');\n",
       "\t\t\t\telement.type = 'text/javascript';\n",
       "\t\t\t\telement.innerHTML = 'function NetworKit_pageEmbed(id) { var i, j; var elements; elements = document.getElementById(id).getElementsByClassName(\"Plot\"); for (i=0; i<elements.length; i++) { elements[i].id = id + \"_Plot_\" + i; var data = elements[i].getAttribute(\"data-image\").split(\"|\"); elements[i].removeAttribute(\"data-image\"); var content = \"<div class=\\\\\"Image\\\\\" id=\\\\\"\" + elements[i].id + \"_Image\\\\\" />\"; elements[i].innerHTML = content; elements[i].setAttribute(\"data-image-index\", 0); elements[i].setAttribute(\"data-image-length\", data.length); for (j=0; j<data.length; j++) { elements[i].setAttribute(\"data-image-\" + j, data[j]); } NetworKit_plotUpdate(elements[i]); elements[i].onclick = function (e) { NetworKit_overlayShow((e.target) ? e.target : e.srcElement); } } elements = document.getElementById(id).getElementsByClassName(\"HeatCell\"); for (i=0; i<elements.length; i++) { var data = parseFloat(elements[i].getAttribute(\"data-heat\")); var color = \"#00FF00\"; if (data <= 1 && data > 0) { color = \"hsla(0, 100%, 75%, \" + (data) + \")\"; } else if (data <= 0 && data >= -1) { color = \"hsla(240, 100%, 75%, \" + (-data) + \")\"; } elements[i].style.backgroundColor = color; } elements = document.getElementById(id).getElementsByClassName(\"Details\"); for (i=0; i<elements.length; i++) { elements[i].setAttribute(\"data-title\", \"-\"); NetworKit_toggleDetails(elements[i]); elements[i].onclick = function (e) { NetworKit_toggleDetails((e.target) ? e.target : e.srcElement); } } elements = document.getElementById(id).getElementsByClassName(\"MathValue\"); for (i=elements.length-1; i>=0; i--) { value = elements[i].innerHTML.trim(); if (value === \"nan\") { elements[i].parentNode.innerHTML = \"\" } } elements = document.getElementById(id).getElementsByClassName(\"SubCategory\"); for (i=elements.length-1; i>=0; i--) { value = elements[i].innerHTML.trim(); if (value === \"\") { elements[i].parentNode.removeChild(elements[i]) } } elements = document.getElementById(id).getElementsByClassName(\"Category\"); for (i=elements.length-1; i>=0; i--) { value = elements[i].innerHTML.trim(); if (value === \"\") { elements[i].parentNode.removeChild(elements[i]) } } var isFirefox = false; try { isFirefox = typeof InstallTrigger !== \"undefined\"; } catch (e) {} if (!isFirefox) { alert(\"Currently the function\\'s output is only fully supported by Firefox.\"); } } function NetworKit_plotUpdate(source) { var index = source.getAttribute(\"data-image-index\"); var data = source.getAttribute(\"data-image-\" + index); var image = document.getElementById(source.id + \"_Image\"); image.style.backgroundImage = \"url(\" + data + \")\"; } function NetworKit_showElement(id, show) { var element = document.getElementById(id); element.style.display = (show) ? \"block\" : \"none\"; } function NetworKit_overlayShow(source) { NetworKit_overlayUpdate(source); NetworKit_showElement(\"NetworKit_Overlay\", true); } function NetworKit_overlayUpdate(source) { document.getElementById(\"NetworKit_Overlay_Title\").innerHTML = source.title; var index = source.getAttribute(\"data-image-index\"); var data = source.getAttribute(\"data-image-\" + index); var image = document.getElementById(\"NetworKit_Overlay_Image\"); image.setAttribute(\"data-id\", source.id); image.style.backgroundImage = \"url(\" + data + \")\"; var link = document.getElementById(\"NetworKit_Overlay_Toolbar_Bottom_Save\"); link.href = data; link.download = source.title + \".svg\"; } function NetworKit_overlayImageShift(delta) { var image = document.getElementById(\"NetworKit_Overlay_Image\"); var source = document.getElementById(image.getAttribute(\"data-id\")); var index = parseInt(source.getAttribute(\"data-image-index\")); var length = parseInt(source.getAttribute(\"data-image-length\")); var index = (index+delta) % length; if (index < 0) { index = length + index; } source.setAttribute(\"data-image-index\", index); NetworKit_overlayUpdate(source); } function NetworKit_toggleDetails(source) { var childs = source.children; var show = false; if (source.getAttribute(\"data-title\") == \"-\") { source.setAttribute(\"data-title\", \"+\"); show = false; } else { source.setAttribute(\"data-title\", \"-\"); show = true; } for (i=0; i<childs.length; i++) { if (show) { childs[i].style.display = \"block\"; } else { childs[i].style.display = \"none\"; } } }';\n",
       "\t\t\t\telement.setAttribute('id', 'NetworKit_script');\n",
       "\t\t\t\tdocument.head.appendChild(element);\n",
       "\t\t\t}\n",
       "\t\t\n",
       "\t\t\t\t\n",
       "\t\t\t{\n",
       "\t\t\t\tvar element = document.getElementById('NetworKit_style');\n",
       "\t\t\t\tif (element) {\n",
       "\t\t\t\t\telement.parentNode.removeChild(element);\n",
       "\t\t\t\t}\n",
       "\t\t\t\telement = document.createElement('style');\n",
       "\t\t\t\telement.type = 'text/css';\n",
       "\t\t\t\telement.innerHTML = '.NetworKit_Page { font-family: Arial, Helvetica, sans-serif; font-size: 14px; } .NetworKit_Page .Value:before { font-family: Arial, Helvetica, sans-serif; font-size: 1.05em; content: attr(data-title) \":\"; margin-left: -2.5em; padding-right: 0.5em; } .NetworKit_Page .Details .Value:before { display: block; } .NetworKit_Page .Value { font-family: monospace; white-space: pre; padding-left: 2.5em; white-space: -moz-pre-wrap !important; white-space: -pre-wrap; white-space: -o-pre-wrap; white-space: pre-wrap; word-wrap: break-word; tab-size: 4; -moz-tab-size: 4; } .NetworKit_Page .Category { clear: both; padding-left: 1em; margin-bottom: 1.5em; } .NetworKit_Page .Category:before { content: attr(data-title); font-size: 1.75em; display: block; margin-left: -0.8em; margin-bottom: 0.5em; } .NetworKit_Page .SubCategory { margin-bottom: 1.5em; padding-left: 1em; } .NetworKit_Page .SubCategory:before { font-size: 1.6em; display: block; margin-left: -0.8em; margin-bottom: 0.5em; } .NetworKit_Page .SubCategory[data-title]:before { content: attr(data-title); } .NetworKit_Page .Block { display: block; } .NetworKit_Page .Block:after { content: \".\"; visibility: hidden; display: block; height: 0; clear: both; } .NetworKit_Page .Block .Thumbnail_Overview, .NetworKit_Page .Block .Thumbnail_ScatterPlot { width: 260px; float: left; } .NetworKit_Page .Block .Thumbnail_Overview img, .NetworKit_Page .Block .Thumbnail_ScatterPlot img { width: 260px; } .NetworKit_Page .Block .Thumbnail_Overview:before, .NetworKit_Page .Block .Thumbnail_ScatterPlot:before { display: block; text-align: center; font-weight: bold; } .NetworKit_Page .Block .Thumbnail_Overview:before { content: attr(data-title); } .NetworKit_Page .HeatCell { font-family: \"Courier New\", Courier, monospace; cursor: pointer; } .NetworKit_Page .HeatCell, .NetworKit_Page .HeatCellName { display: inline; padding: 0.1em; margin-right: 2px; background-color: #FFFFFF } .NetworKit_Page .HeatCellName { margin-left: 0.25em; } .NetworKit_Page .HeatCell:before { content: attr(data-heat); display: inline-block; color: #000000; width: 4em; text-align: center; } .NetworKit_Page .Measure { clear: both; } .NetworKit_Page .Measure .Details { cursor: pointer; } .NetworKit_Page .Measure .Details:before { content: \"[\" attr(data-title) \"]\"; display: block; } .NetworKit_Page .Measure .Details .Value { border-left: 1px dotted black; margin-left: 0.4em; padding-left: 3.5em; pointer-events: none; } .NetworKit_Page .Measure .Details .Spacer:before { content: \".\"; opacity: 0.0; pointer-events: none; } .NetworKit_Page .Measure .Plot { width: 440px; height: 440px; cursor: pointer; float: left; margin-left: -0.9em; margin-right: 20px; } .NetworKit_Page .Measure .Plot .Image { background-repeat: no-repeat; background-position: center center; background-size: contain; height: 100%; pointer-events: none; } .NetworKit_Page .Measure .Stat { width: 500px; float: left; } .NetworKit_Page .Measure .Stat .Group { padding-left: 1.25em; margin-bottom: 0.75em; } .NetworKit_Page .Measure .Stat .Group .Title { font-size: 1.1em; display: block; margin-bottom: 0.3em; margin-left: -0.75em; border-right-style: dotted; border-right-width: 1px; border-bottom-style: dotted; border-bottom-width: 1px; background-color: #D0D0D0; padding-left: 0.2em; } .NetworKit_Page .Measure .Stat .Group .List { -webkit-column-count: 3; -moz-column-count: 3; column-count: 3; } .NetworKit_Page .Measure .Stat .Group .List .Entry { position: relative; line-height: 1.75em; } .NetworKit_Page .Measure .Stat .Group .List .Entry[data-tooltip]:before { position: absolute; left: 0; top: -40px; background-color: #808080; color: #ffffff; height: 30px; line-height: 30px; border-radius: 5px; padding: 0 15px; content: attr(data-tooltip); white-space: nowrap; display: none; } .NetworKit_Page .Measure .Stat .Group .List .Entry[data-tooltip]:after { position: absolute; left: 15px; top: -10px; border-top: 7px solid #808080; border-left: 7px solid transparent; border-right: 7px solid transparent; content: \"\"; display: none; } .NetworKit_Page .Measure .Stat .Group .List .Entry[data-tooltip]:hover:after, .NetworKit_Page .Measure .Stat .Group .List .Entry[data-tooltip]:hover:before { display: block; } .NetworKit_Page .Measure .Stat .Group .List .Entry .MathValue { font-family: \"Courier New\", Courier, monospace; } .NetworKit_Page .Measure:after { content: \".\"; visibility: hidden; display: block; height: 0; clear: both; } .NetworKit_Page .PartitionPie { clear: both; } .NetworKit_Page .PartitionPie img { width: 600px; } #NetworKit_Overlay { left: 0px; top: 0px; display: none; position: absolute; width: 100%; height: 100%; background-color: rgba(0,0,0,0.6); z-index: 1000; } #NetworKit_Overlay_Title { position: absolute; color: white; transform: rotate(-90deg); width: 32em; height: 32em; padding-right: 0.5em; padding-top: 0.5em; text-align: right; font-size: 40px; } #NetworKit_Overlay .button { background: white; cursor: pointer; } #NetworKit_Overlay .button:before { size: 13px; display: inline-block; text-align: center; margin-top: 0.5em; margin-bottom: 0.5em; width: 1.5em; height: 1.5em; } #NetworKit_Overlay .icon-close:before { content: \"X\"; } #NetworKit_Overlay .icon-previous:before { content: \"P\"; } #NetworKit_Overlay .icon-next:before { content: \"N\"; } #NetworKit_Overlay .icon-save:before { content: \"S\"; } #NetworKit_Overlay_Toolbar_Top, #NetworKit_Overlay_Toolbar_Bottom { position: absolute; width: 40px; right: 13px; text-align: right; z-index: 1100; } #NetworKit_Overlay_Toolbar_Top { top: 0.5em; } #NetworKit_Overlay_Toolbar_Bottom { Bottom: 0.5em; } #NetworKit_Overlay_ImageContainer { position: absolute; top: 5%; left: 5%; height: 90%; width: 90%; background-repeat: no-repeat; background-position: center center; background-size: contain; } #NetworKit_Overlay_Image { height: 100%; width: 100%; background-repeat: no-repeat; background-position: center center; background-size: contain; }';\n",
       "\t\t\t\telement.setAttribute('id', 'NetworKit_style');\n",
       "\t\t\t\tdocument.head.appendChild(element);\n",
       "\t\t\t}\n",
       "\t\t\n",
       "\t\t\t\t\n",
       "\t\t\t{\n",
       "\t\t\t\tvar element = document.getElementById('NetworKit_Overlay');\n",
       "\t\t\t\tif (element) {\n",
       "\t\t\t\t\telement.parentNode.removeChild(element);\n",
       "\t\t\t\t}\n",
       "\t\t\t\telement = document.createElement('div');\n",
       "\t\t\t\telement.innerHTML = '<div id=\"NetworKit_Overlay_Toolbar_Top\"><div class=\"button icon-close\" id=\"NetworKit_Overlay_Close\" /></div><div id=\"NetworKit_Overlay_Title\" /> <div id=\"NetworKit_Overlay_ImageContainer\"> <div id=\"NetworKit_Overlay_Image\" /> </div> <div id=\"NetworKit_Overlay_Toolbar_Bottom\"> <div class=\"button icon-previous\" onclick=\"NetworKit_overlayImageShift(-1)\" /> <div class=\"button icon-next\" onclick=\"NetworKit_overlayImageShift(1)\" /> <a id=\"NetworKit_Overlay_Toolbar_Bottom_Save\"><div class=\"button icon-save\" /></a> </div>';\n",
       "\t\t\t\telement.setAttribute('id', 'NetworKit_Overlay');\n",
       "\t\t\t\tdocument.body.appendChild(element);\n",
       "\t\t\t\tdocument.getElementById('NetworKit_Overlay_Close').onclick = function (e) {\n",
       "\t\t\t\t\tdocument.getElementById('NetworKit_Overlay').style.display = 'none';\n",
       "\t\t\t\t}\n",
       "\t\t\t}\n",
       "\t\t\n",
       "\t\t\t-->\n",
       "\t\t\t</script>\n",
       "\t\t"
      ]
     },
     "metadata": {},
     "output_type": "display_data"
    }
   ],
   "source": [
    "import pandas as pd \n",
    "import matplotlib.pyplot as plt\n",
    "import networkit as nk\n",
    "import tqdm\n",
    "import numpy as np\n",
    "import glob\n",
    "import time\n",
    "import json\n",
    "\n",
    "from sklearn.metrics import ndcg_score\n",
    "from sklearn.preprocessing import MinMaxScaler, normalize\n",
    "from scipy.stats import kendalltau"
   ]
  },
  {
   "cell_type": "markdown",
   "id": "56539e88-7258-43e1-8ffb-c3203f144ec8",
   "metadata": {},
   "source": [
    "# Load data"
   ]
  },
  {
   "cell_type": "code",
   "execution_count": 2,
   "id": "73be0bd0-8e7b-4bbd-82e0-f05f0fd2a8d9",
   "metadata": {},
   "outputs": [
    {
     "name": "stderr",
     "output_type": "stream",
     "text": [
      "/var/folders/vf/np0zpbrx3l91mcfwk4mt1t2r0000gn/T/ipykernel_80132/1139279991.py:1: ParserWarning: Length of header or names does not match length of data. This leads to a loss of data with index_col=False.\n",
      "  openflights_df = pd.read_csv(\"../data/openflights/inf-openflights.edges\", sep=\" \", on_bad_lines=\"skip\", index_col=False, header=None, names=[\"source\", \"target\"])[1:]\n"
     ]
    },
    {
     "data": {
      "text/html": [
       "<div>\n",
       "<style scoped>\n",
       "    .dataframe tbody tr th:only-of-type {\n",
       "        vertical-align: middle;\n",
       "    }\n",
       "\n",
       "    .dataframe tbody tr th {\n",
       "        vertical-align: top;\n",
       "    }\n",
       "\n",
       "    .dataframe thead th {\n",
       "        text-align: right;\n",
       "    }\n",
       "</style>\n",
       "<table border=\"1\" class=\"dataframe\">\n",
       "  <thead>\n",
       "    <tr style=\"text-align: right;\">\n",
       "      <th></th>\n",
       "      <th>source</th>\n",
       "      <th>target</th>\n",
       "    </tr>\n",
       "  </thead>\n",
       "  <tbody>\n",
       "    <tr>\n",
       "      <th>1</th>\n",
       "      <td>1</td>\n",
       "      <td>2</td>\n",
       "    </tr>\n",
       "    <tr>\n",
       "      <th>2</th>\n",
       "      <td>3</td>\n",
       "      <td>4</td>\n",
       "    </tr>\n",
       "    <tr>\n",
       "      <th>3</th>\n",
       "      <td>3</td>\n",
       "      <td>2</td>\n",
       "    </tr>\n",
       "    <tr>\n",
       "      <th>4</th>\n",
       "      <td>3</td>\n",
       "      <td>5</td>\n",
       "    </tr>\n",
       "    <tr>\n",
       "      <th>5</th>\n",
       "      <td>3</td>\n",
       "      <td>6</td>\n",
       "    </tr>\n",
       "  </tbody>\n",
       "</table>\n",
       "</div>"
      ],
      "text/plain": [
       "   source  target\n",
       "1       1       2\n",
       "2       3       4\n",
       "3       3       2\n",
       "4       3       5\n",
       "5       3       6"
      ]
     },
     "execution_count": 2,
     "metadata": {},
     "output_type": "execute_result"
    }
   ],
   "source": [
    "openflights_df = pd.read_csv(\"../data/openflights/inf-openflights.edges\", sep=\" \", on_bad_lines=\"skip\", index_col=False, header=None, names=[\"source\", \"target\"])[1:]\n",
    "\n",
    "openflights_df[\"source\"] = openflights_df[\"source\"].astype(int)\n",
    "openflights_df[\"target\"] = openflights_df[\"target\"].astype(int)\n",
    "\n",
    "openflights_df.head()"
   ]
  },
  {
   "cell_type": "markdown",
   "id": "1e08bb50-022c-464f-be37-e45768343ad7",
   "metadata": {},
   "source": [
    "# Generate networkit graph"
   ]
  },
  {
   "cell_type": "code",
   "execution_count": 3,
   "id": "559e790a-0d26-43b8-82b7-9985c808ac9a",
   "metadata": {},
   "outputs": [
    {
     "name": "stdout",
     "output_type": "stream",
     "text": [
      "Number of nodes:  2940\n",
      "Number of edges:  30501\n"
     ]
    }
   ],
   "source": [
    "g = nk.Graph(directed=False)\n",
    "\n",
    "for row in openflights_df[[\"source\", \"target\"]].to_records(index=False).tolist():\n",
    "    g.addEdge(row[0], row[1], addMissing=True)\n",
    "\n",
    "g.removeSelfLoops()\n",
    "\n",
    "print(\"Number of nodes: \", g.numberOfNodes())\n",
    "print(\"Number of edges: \", g.numberOfEdges())  "
   ]
  },
  {
   "cell_type": "markdown",
   "id": "4b564fe1-6c73-497a-888e-b4b516700949",
   "metadata": {},
   "source": [
    "# Network metrics"
   ]
  },
  {
   "cell_type": "code",
   "execution_count": 5,
   "id": "7f3d6e8e-5329-4357-9289-53f04307223d",
   "metadata": {},
   "outputs": [
    {
     "name": "stdout",
     "output_type": "stream",
     "text": [
      "Density:  0.007059877370478644\n",
      "Average clustering coefficient:  0.3969607049654641\n",
      "Diameter:  (14, 0)\n"
     ]
    }
   ],
   "source": [
    "results = {\n",
    "            \"dataset\": \"openflights\",\n",
    "            \"directed\": False,\n",
    "            \"nodes\": g.numberOfNodes(),\n",
    "            \"edges\": g.numberOfEdges()\n",
    "        }\n",
    "\n",
    "# Density\n",
    "results[\"density\"] = nk.graphtools.density(g)\n",
    "print(f\"Density: \", results[\"density\"])\n",
    "\n",
    "# Average clustering coefficient\n",
    "results[\"average_clustering_coefficient\"] = nk.globals.ClusteringCoefficient().avgLocal(g, 10**6) \n",
    "print(f\"Average clustering coefficient: \", results[\"average_clustering_coefficient\"])\n",
    "\n",
    "# Diameter\n",
    "diameter = nk.distance.Diameter(g, algo=nk.distance.DiameterAlgo.Exact, nSamples=10**5)\n",
    "diameter.run()\n",
    "results[\"diameter\"] = diameter.getDiameter() \n",
    "print(f\"Diameter: \", results[\"diameter\"])"
   ]
  },
  {
   "cell_type": "markdown",
   "id": "f6a41ebb-018b-456d-aa8a-c91c6da94e18",
   "metadata": {},
   "source": [
    "# Centrality measures"
   ]
  },
  {
   "cell_type": "code",
   "execution_count": 6,
   "id": "34619fb2-ee25-4320-9b11-53b07e35e25b",
   "metadata": {},
   "outputs": [],
   "source": [
    "def get_degree_centrality(g):\n",
    "    start_time = time.process_time()\n",
    "    \n",
    "    degree = nk.centrality.DegreeCentrality(g)\n",
    "    degree.run()\n",
    "    \n",
    "    end_time = time.process_time()\n",
    "    \n",
    "    return degree, (end_time - start_time)\n",
    "\n",
    "def get_closeness_centrality(g):\n",
    "    start_time = time.process_time()\n",
    "    \n",
    "    closeness = nk.centrality.Closeness(g, True, nk.centrality.ClosenessVariant.Generalized)\n",
    "    closeness.run()\n",
    "    \n",
    "    end_time = time.process_time()\n",
    "    \n",
    "    return closeness, (end_time - start_time)\n",
    "\n",
    "def get_topk_closeness_centrality(g, first_heu=False, second_heu=False, k=5):\n",
    "    start_time = time.process_time()\n",
    "\n",
    "    topk_closeness = nk.centrality.TopCloseness(g, k=k, first_heu=first_heu, sec_heu=second_heu)\n",
    "    topk_closeness.run()\n",
    "    \n",
    "    end_time = time.process_time()\n",
    "\n",
    "    return topk_closeness, (end_time - start_time)\n",
    "\n",
    "centrality = {}\n",
    "results[\"time_elapsed\"] = {}\n",
    "\n",
    "# Degree centrality\n",
    "centrality[\"degree\"], results[\"time_elapsed\"][\"degree\"] = get_degree_centrality(g)\n",
    "\n",
    "# Closeness centrality\n",
    "centrality[\"closeness\"], results[\"time_elapsed\"][\"closeness\"] = get_closeness_centrality(g)\n",
    "\n",
    "# Topk closeness centrality\n",
    "ks = [5, 10, 50, 100, int(results[\"nodes\"]/2)]\n",
    "\n",
    "centrality[\"topkcloseness_0\"] = {}\n",
    "centrality[\"topkcloseness_1\"] = {}\n",
    "results[\"time_elapsed\"][\"topkcloseness_0\"] = {}\n",
    "results[\"time_elapsed\"][\"topkcloseness_1\"] = {}\n",
    "\n",
    "for k in ks:\n",
    "    centrality[\"topkcloseness_0\"][k], results[\"time_elapsed\"][\"topkcloseness_0\"][k] = get_topk_closeness_centrality(g, False, False, k)\n",
    "    centrality[\"topkcloseness_1\"][k], results[\"time_elapsed\"][\"topkcloseness_1\"][k] = get_topk_closeness_centrality(g, False, True, k)"
   ]
  },
  {
   "cell_type": "code",
   "execution_count": 7,
   "id": "13149b04-e412-45bc-baed-ea51150b70a0",
   "metadata": {},
   "outputs": [
    {
     "data": {
      "text/plain": [
       "{'dataset': 'openflights',\n",
       " 'directed': False,\n",
       " 'nodes': 2940,\n",
       " 'edges': 30501,\n",
       " 'density': 0.007059877370478644,\n",
       " 'average_clustering_coefficient': 0.3969607049654641,\n",
       " 'diameter': (14, 0),\n",
       " 'time_elapsed': {'degree': 0.0006499999999993733,\n",
       "  'closeness': 0.515244,\n",
       "  'topkcloseness_0': {5: 0.061941000000000024,\n",
       "   10: 0.10529699999999931,\n",
       "   50: 0.23409500000000083,\n",
       "   100: 0.5510199999999994,\n",
       "   1470: 1.5937540000000006},\n",
       "  'topkcloseness_1': {5: 0.303585,\n",
       "   10: 0.41495700000000024,\n",
       "   50: 0.5066600000000001,\n",
       "   100: 0.4299660000000003,\n",
       "   1470: 0.5656200000000009}}}"
      ]
     },
     "execution_count": 7,
     "metadata": {},
     "output_type": "execute_result"
    }
   ],
   "source": [
    "results"
   ]
  },
  {
   "cell_type": "markdown",
   "id": "09e5ad5e-a4e6-40c1-be76-ba74a10ff573",
   "metadata": {},
   "source": [
    "# Experiments"
   ]
  },
  {
   "cell_type": "markdown",
   "id": "6b3a6509-57f0-4a85-a607-be4ccda381ad",
   "metadata": {},
   "source": [
    "## Preprocess"
   ]
  },
  {
   "cell_type": "code",
   "execution_count": 8,
   "id": "515fa923-526d-4a7f-8b6b-7ee86e21424e",
   "metadata": {},
   "outputs": [],
   "source": [
    "normalised_scores = {}\n",
    "nodes = {}\n",
    "\n",
    "# Degree centrality\n",
    "scaler = MinMaxScaler()\n",
    "normalised_scores[\"degree\"] = scaler.fit_transform(np.array([row[1] for row in centrality[\"degree\"].ranking()]).reshape(-1, 1)).flatten()\n",
    "nodes[\"degree\"] = [row[0] for row in centrality[\"degree\"].ranking()]\n",
    "\n",
    "# Closeness centrality\n",
    "scaler = MinMaxScaler()\n",
    "normalised_scores[\"closeness\"] = scaler.fit_transform(np.array([row[1] for row in centrality[\"closeness\"].ranking()]).reshape(-1, 1)).flatten()\n",
    "nodes[\"closeness\"] = [row[0] for row in centrality[\"closeness\"].ranking()]\n",
    "\n",
    "# Topk closeness centrality\n",
    "normalised_scores[\"topkcloseness_0\"], normalised_scores[\"topkcloseness_1\"] = {}, {}\n",
    "nodes[\"topkcloseness_0\"], nodes[\"topkcloseness_1\"] = {}, {}\n",
    "\n",
    "for k in ks:\n",
    "    scaler = MinMaxScaler()\n",
    "    normalised_scores[\"topkcloseness_0\"][k] = scaler.fit_transform(np.array(centrality[\"topkcloseness_0\"][k].topkScoresList()).reshape(-1, 1)).flatten()\n",
    "    nodes[\"topkcloseness_0\"][k] = centrality[\"topkcloseness_0\"][k].topkNodesList()\n",
    "\n",
    "    scaler = MinMaxScaler()\n",
    "    normalised_scores[\"topkcloseness_1\"][k] = scaler.fit_transform(np.array(centrality[\"topkcloseness_1\"][k].topkScoresList()).reshape(-1, 1)).flatten()\n",
    "    nodes[\"topkcloseness_1\"][k] = centrality[\"topkcloseness_1\"][k].topkNodesList()"
   ]
  },
  {
   "cell_type": "markdown",
   "id": "5531e4a4-f124-4fa3-be84-b125b83fe047",
   "metadata": {},
   "source": [
    "## NDCG degree to (top-k) closeness"
   ]
  },
  {
   "cell_type": "code",
   "execution_count": 9,
   "id": "67c2b8cd-1870-40fd-ad12-5a77f8083463",
   "metadata": {},
   "outputs": [
    {
     "data": {
      "text/html": [
       "<div>\n",
       "<style scoped>\n",
       "    .dataframe tbody tr th:only-of-type {\n",
       "        vertical-align: middle;\n",
       "    }\n",
       "\n",
       "    .dataframe tbody tr th {\n",
       "        vertical-align: top;\n",
       "    }\n",
       "\n",
       "    .dataframe thead th {\n",
       "        text-align: right;\n",
       "    }\n",
       "</style>\n",
       "<table border=\"1\" class=\"dataframe\">\n",
       "  <thead>\n",
       "    <tr style=\"text-align: right;\">\n",
       "      <th></th>\n",
       "      <th>closeness</th>\n",
       "      <th>topkcloseness_0</th>\n",
       "      <th>topkcloseness_1</th>\n",
       "    </tr>\n",
       "  </thead>\n",
       "  <tbody>\n",
       "    <tr>\n",
       "      <th>5</th>\n",
       "      <td>0.995858</td>\n",
       "      <td>0.995858</td>\n",
       "      <td>0.995858</td>\n",
       "    </tr>\n",
       "    <tr>\n",
       "      <th>10</th>\n",
       "      <td>0.999071</td>\n",
       "      <td>0.999397</td>\n",
       "      <td>0.999397</td>\n",
       "    </tr>\n",
       "    <tr>\n",
       "      <th>50</th>\n",
       "      <td>0.998571</td>\n",
       "      <td>0.998642</td>\n",
       "      <td>0.998642</td>\n",
       "    </tr>\n",
       "    <tr>\n",
       "      <th>100</th>\n",
       "      <td>0.998847</td>\n",
       "      <td>0.998864</td>\n",
       "      <td>0.998864</td>\n",
       "    </tr>\n",
       "    <tr>\n",
       "      <th>1470</th>\n",
       "      <td>0.999543</td>\n",
       "      <td>0.999543</td>\n",
       "      <td>0.999543</td>\n",
       "    </tr>\n",
       "  </tbody>\n",
       "</table>\n",
       "</div>"
      ],
      "text/plain": [
       "      closeness  topkcloseness_0  topkcloseness_1\n",
       "5      0.995858         0.995858         0.995858\n",
       "10     0.999071         0.999397         0.999397\n",
       "50     0.998571         0.998642         0.998642\n",
       "100    0.998847         0.998864         0.998864\n",
       "1470   0.999543         0.999543         0.999543"
      ]
     },
     "execution_count": 9,
     "metadata": {},
     "output_type": "execute_result"
    }
   ],
   "source": [
    "ndcg_scores = {}\n",
    "\n",
    "for k in ks:\n",
    "    ndcg_scores[k] = {}\n",
    "    \n",
    "    for centrality_measure in [\"closeness\", \"topkcloseness_0\", \"topkcloseness_1\"]:\n",
    "        \n",
    "        if \"topk\" in centrality_measure:\n",
    "            y_score = np.where(np.isin(nodes[centrality_measure][k], nodes[\"degree\"][:k]), normalised_scores[centrality_measure][k], np.zeros(k))\n",
    "            y_true = normalised_scores[\"degree\"][:k]\n",
    "            \n",
    "        else:\n",
    "            y_score = np.where(np.isin(nodes[centrality_measure][:k], nodes[\"degree\"][:k]), normalised_scores[centrality_measure][:k], np.zeros(k))\n",
    "            y_true = normalised_scores[\"degree\"][:k]\n",
    "\n",
    "        ndcg_scores[k][centrality_measure] = ndcg_score([y_true], [y_score])\n",
    "    \n",
    "results[\"ndcg_degree_to\"] = ndcg_scores\n",
    "\n",
    "pd.DataFrame(ndcg_scores).T"
   ]
  },
  {
   "cell_type": "markdown",
   "id": "608b41f0-d512-41cb-873a-b63b7f1a1e7a",
   "metadata": {},
   "source": [
    "## NDCG (top-k) closeness to degree"
   ]
  },
  {
   "cell_type": "code",
   "execution_count": 10,
   "id": "5f7e56d6-8c8c-485c-8e8c-e12fbe11b479",
   "metadata": {},
   "outputs": [
    {
     "data": {
      "text/html": [
       "<div>\n",
       "<style scoped>\n",
       "    .dataframe tbody tr th:only-of-type {\n",
       "        vertical-align: middle;\n",
       "    }\n",
       "\n",
       "    .dataframe tbody tr th {\n",
       "        vertical-align: top;\n",
       "    }\n",
       "\n",
       "    .dataframe thead th {\n",
       "        text-align: right;\n",
       "    }\n",
       "</style>\n",
       "<table border=\"1\" class=\"dataframe\">\n",
       "  <thead>\n",
       "    <tr style=\"text-align: right;\">\n",
       "      <th></th>\n",
       "      <th>closeness</th>\n",
       "      <th>topkcloseness_0</th>\n",
       "      <th>topkcloseness_1</th>\n",
       "    </tr>\n",
       "  </thead>\n",
       "  <tbody>\n",
       "    <tr>\n",
       "      <th>5</th>\n",
       "      <td>0.999952</td>\n",
       "      <td>0.997818</td>\n",
       "      <td>0.997818</td>\n",
       "    </tr>\n",
       "    <tr>\n",
       "      <th>10</th>\n",
       "      <td>0.998847</td>\n",
       "      <td>0.973468</td>\n",
       "      <td>0.973468</td>\n",
       "    </tr>\n",
       "    <tr>\n",
       "      <th>50</th>\n",
       "      <td>0.999530</td>\n",
       "      <td>0.993065</td>\n",
       "      <td>0.993065</td>\n",
       "    </tr>\n",
       "    <tr>\n",
       "      <th>100</th>\n",
       "      <td>0.999644</td>\n",
       "      <td>0.995770</td>\n",
       "      <td>0.995770</td>\n",
       "    </tr>\n",
       "    <tr>\n",
       "      <th>1470</th>\n",
       "      <td>0.999769</td>\n",
       "      <td>0.998227</td>\n",
       "      <td>0.998227</td>\n",
       "    </tr>\n",
       "  </tbody>\n",
       "</table>\n",
       "</div>"
      ],
      "text/plain": [
       "      closeness  topkcloseness_0  topkcloseness_1\n",
       "5      0.999952         0.997818         0.997818\n",
       "10     0.998847         0.973468         0.973468\n",
       "50     0.999530         0.993065         0.993065\n",
       "100    0.999644         0.995770         0.995770\n",
       "1470   0.999769         0.998227         0.998227"
      ]
     },
     "execution_count": 10,
     "metadata": {},
     "output_type": "execute_result"
    }
   ],
   "source": [
    "ndcg_scores = {}\n",
    "\n",
    "for k in ks:\n",
    "    ndcg_scores[k] = {}\n",
    "    \n",
    "    for centrality_measure in [\"closeness\", \"topkcloseness_0\", \"topkcloseness_1\"]:\n",
    "        \n",
    "        if \"topk\" in centrality_measure:\n",
    "            # y_score = [normalised_scores[\"degree\"][index] if node in nodes[centrality_measure][:k] else 0 for index, node in enumerate(nodes[\"degree\"][:k])]\n",
    "            y_score = np.where(np.isin(nodes[\"degree\"][:k], nodes[centrality_measure][k]), normalised_scores[\"degree\"][:k], np.zeros(k))\n",
    "            y_true = normalised_scores[centrality_measure][k]\n",
    "\n",
    "        else:\n",
    "            y_score = np.where(np.isin(nodes[\"degree\"][:k], nodes[centrality_measure][:k]), normalised_scores[\"degree\"][:k], np.zeros(k))\n",
    "            y_true = normalised_scores[centrality_measure][:k]\n",
    "            \n",
    "        ndcg_scores[k][centrality_measure] = ndcg_score([y_true], [y_score])\n",
    "    \n",
    "results[\"ndcg_to_degree\"] = ndcg_scores\n",
    "\n",
    "pd.DataFrame(ndcg_scores).T"
   ]
  },
  {
   "cell_type": "markdown",
   "id": "68722b94-fb72-4866-bd92-ebbbb54dc5ab",
   "metadata": {},
   "source": [
    "## Kendall tau degree to (top k) closeness centrality correlation"
   ]
  },
  {
   "cell_type": "code",
   "execution_count": 11,
   "id": "0e43494b-8fbb-42c0-83bf-a8782b7332ee",
   "metadata": {},
   "outputs": [
    {
     "data": {
      "text/html": [
       "<div>\n",
       "<style scoped>\n",
       "    .dataframe tbody tr th:only-of-type {\n",
       "        vertical-align: middle;\n",
       "    }\n",
       "\n",
       "    .dataframe tbody tr th {\n",
       "        vertical-align: top;\n",
       "    }\n",
       "\n",
       "    .dataframe thead th {\n",
       "        text-align: right;\n",
       "    }\n",
       "</style>\n",
       "<table border=\"1\" class=\"dataframe\">\n",
       "  <thead>\n",
       "    <tr style=\"text-align: right;\">\n",
       "      <th></th>\n",
       "      <th>closeness</th>\n",
       "      <th>topkcloseness_0</th>\n",
       "      <th>topkcloseness_1</th>\n",
       "    </tr>\n",
       "  </thead>\n",
       "  <tbody>\n",
       "    <tr>\n",
       "      <th>5</th>\n",
       "      <td>0.737865</td>\n",
       "      <td>0.737865</td>\n",
       "      <td>0.737865</td>\n",
       "    </tr>\n",
       "    <tr>\n",
       "      <th>10</th>\n",
       "      <td>0.739985</td>\n",
       "      <td>0.881917</td>\n",
       "      <td>0.881917</td>\n",
       "    </tr>\n",
       "    <tr>\n",
       "      <th>50</th>\n",
       "      <td>0.785998</td>\n",
       "      <td>0.801556</td>\n",
       "      <td>0.801556</td>\n",
       "    </tr>\n",
       "    <tr>\n",
       "      <th>100</th>\n",
       "      <td>0.866432</td>\n",
       "      <td>0.871885</td>\n",
       "      <td>0.871885</td>\n",
       "    </tr>\n",
       "    <tr>\n",
       "      <th>1470</th>\n",
       "      <td>0.873577</td>\n",
       "      <td>0.873577</td>\n",
       "      <td>0.873577</td>\n",
       "    </tr>\n",
       "  </tbody>\n",
       "</table>\n",
       "</div>"
      ],
      "text/plain": [
       "      closeness  topkcloseness_0  topkcloseness_1\n",
       "5      0.737865         0.737865         0.737865\n",
       "10     0.739985         0.881917         0.881917\n",
       "50     0.785998         0.801556         0.801556\n",
       "100    0.866432         0.871885         0.871885\n",
       "1470   0.873577         0.873577         0.873577"
      ]
     },
     "execution_count": 11,
     "metadata": {},
     "output_type": "execute_result"
    }
   ],
   "source": [
    "kendalltau_corr = {}\n",
    "\n",
    "for k in ks:\n",
    "    kendalltau_corr[k] = {}\n",
    "    \n",
    "    for centrality_measure in [\"closeness\", \"topkcloseness_0\", \"topkcloseness_1\"]:\n",
    "        \n",
    "        if \"topk\" in centrality_measure:\n",
    "            y_score = np.where(np.isin(nodes[centrality_measure][k], nodes[\"degree\"][:k]), normalised_scores[centrality_measure][k], np.zeros(k))\n",
    "            y_true = normalised_scores[\"degree\"][:k]\n",
    "            \n",
    "        else:\n",
    "            y_score = np.where(np.isin(nodes[centrality_measure][:k], nodes[\"degree\"][:k]), normalised_scores[centrality_measure][:k], np.zeros(k))\n",
    "            y_true = normalised_scores[\"degree\"][:k]\n",
    "\n",
    "        corr, _ = kendalltau([y_true], [y_score])\n",
    "        kendalltau_corr[k][centrality_measure] = 0 if np.isnan(corr) else corr\n",
    "    \n",
    "results[\"kendalltau_degree_to\"] = kendalltau_corr\n",
    "\n",
    "pd.DataFrame(kendalltau_corr).T"
   ]
  },
  {
   "cell_type": "markdown",
   "id": "0ce96b5f-74ac-450a-b577-597593716192",
   "metadata": {},
   "source": [
    "## Kendall tau (top k) closeness to degree centrality correlation"
   ]
  },
  {
   "cell_type": "code",
   "execution_count": 12,
   "id": "22ceca4f-7879-4a77-b5b0-1e9ae3dd610c",
   "metadata": {},
   "outputs": [
    {
     "data": {
      "text/html": [
       "<div>\n",
       "<style scoped>\n",
       "    .dataframe tbody tr th:only-of-type {\n",
       "        vertical-align: middle;\n",
       "    }\n",
       "\n",
       "    .dataframe tbody tr th {\n",
       "        vertical-align: top;\n",
       "    }\n",
       "\n",
       "    .dataframe thead th {\n",
       "        text-align: right;\n",
       "    }\n",
       "</style>\n",
       "<table border=\"1\" class=\"dataframe\">\n",
       "  <thead>\n",
       "    <tr style=\"text-align: right;\">\n",
       "      <th></th>\n",
       "      <th>closeness</th>\n",
       "      <th>topkcloseness_0</th>\n",
       "      <th>topkcloseness_1</th>\n",
       "    </tr>\n",
       "  </thead>\n",
       "  <tbody>\n",
       "    <tr>\n",
       "      <th>5</th>\n",
       "      <td>0.948683</td>\n",
       "      <td>0.948683</td>\n",
       "      <td>0.948683</td>\n",
       "    </tr>\n",
       "    <tr>\n",
       "      <th>10</th>\n",
       "      <td>0.501280</td>\n",
       "      <td>0.501280</td>\n",
       "      <td>0.501280</td>\n",
       "    </tr>\n",
       "    <tr>\n",
       "      <th>50</th>\n",
       "      <td>0.767112</td>\n",
       "      <td>0.767112</td>\n",
       "      <td>0.767112</td>\n",
       "    </tr>\n",
       "    <tr>\n",
       "      <th>100</th>\n",
       "      <td>0.839838</td>\n",
       "      <td>0.839838</td>\n",
       "      <td>0.839838</td>\n",
       "    </tr>\n",
       "    <tr>\n",
       "      <th>1470</th>\n",
       "      <td>0.850131</td>\n",
       "      <td>0.850131</td>\n",
       "      <td>0.850131</td>\n",
       "    </tr>\n",
       "  </tbody>\n",
       "</table>\n",
       "</div>"
      ],
      "text/plain": [
       "      closeness  topkcloseness_0  topkcloseness_1\n",
       "5      0.948683         0.948683         0.948683\n",
       "10     0.501280         0.501280         0.501280\n",
       "50     0.767112         0.767112         0.767112\n",
       "100    0.839838         0.839838         0.839838\n",
       "1470   0.850131         0.850131         0.850131"
      ]
     },
     "execution_count": 12,
     "metadata": {},
     "output_type": "execute_result"
    }
   ],
   "source": [
    "kendalltau_corr = {}\n",
    "\n",
    "for k in ks:\n",
    "    kendalltau_corr[k] = {}\n",
    "    \n",
    "    for centrality_measure in [\"closeness\", \"topkcloseness_0\", \"topkcloseness_1\"]:\n",
    "        \n",
    "        if \"topk\" in centrality_measure:\n",
    "            # y_score = [normalised_scores[\"degree\"][index] if node in nodes[centrality_measure][:k] else 0 for index, node in enumerate(nodes[\"degree\"][:k])]\n",
    "            y_score = np.where(np.isin(nodes[\"degree\"][:k], nodes[centrality_measure][k]), normalised_scores[\"degree\"][:k], np.zeros(k))\n",
    "            y_true = normalised_scores[centrality_measure][k]\n",
    "\n",
    "        else:\n",
    "            y_score = np.where(np.isin(nodes[\"degree\"][:k], nodes[centrality_measure][:k]), normalised_scores[\"degree\"][:k], np.zeros(k))\n",
    "            y_true = normalised_scores[centrality_measure][:k]\n",
    "\n",
    "        corr, _ = kendalltau([y_true], [y_score])\n",
    "        kendalltau_corr[k][centrality_measure] = 0 if np.isnan(corr) else corr\n",
    "    \n",
    "results[\"kendalltau_to_degree\"] = kendalltau_corr\n",
    "\n",
    "pd.DataFrame(kendalltau_corr).T"
   ]
  },
  {
   "cell_type": "markdown",
   "id": "f35fb0b0-b367-4165-b48a-c61e2b97f3ae",
   "metadata": {},
   "source": [
    "# Store results"
   ]
  },
  {
   "cell_type": "code",
   "execution_count": 13,
   "id": "c8c70a33-5bc9-4d25-9ad4-30cd05a3bb41",
   "metadata": {},
   "outputs": [],
   "source": [
    "with open(f\"../results/{results['dataset']}_{results['directed']}.json\", 'w') as outfile:\n",
    "    json.dump(results, outfile)"
   ]
  },
  {
   "cell_type": "code",
   "execution_count": null,
   "id": "706fafbd-329d-409b-908f-0493b3e5f6f4",
   "metadata": {},
   "outputs": [],
   "source": []
  }
 ],
 "metadata": {
  "kernelspec": {
   "display_name": "Python 3 (ipykernel)",
   "language": "python",
   "name": "python3"
  },
  "language_info": {
   "codemirror_mode": {
    "name": "ipython",
    "version": 3
   },
   "file_extension": ".py",
   "mimetype": "text/x-python",
   "name": "python",
   "nbconvert_exporter": "python",
   "pygments_lexer": "ipython3",
   "version": "3.9.13"
  }
 },
 "nbformat": 4,
 "nbformat_minor": 5
}
