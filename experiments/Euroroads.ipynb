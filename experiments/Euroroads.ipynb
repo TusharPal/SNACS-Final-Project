{
 "cells": [
  {
   "cell_type": "markdown",
   "id": "30fb94ce-7582-4b4e-91e5-852ed71cb955",
   "metadata": {},
   "source": [
    "# Imports"
   ]
  },
  {
   "cell_type": "code",
   "execution_count": 11,
   "id": "7bf9d038-da9c-443f-9ce8-56fe7a99be3a",
   "metadata": {},
   "outputs": [],
   "source": [
    "import pandas as pd \n",
    "import matplotlib.pyplot as plt\n",
    "import networkit as nk\n",
    "import tqdm\n",
    "import numpy as np\n",
    "import glob\n",
    "import time\n",
    "import json\n",
    "\n",
    "from sklearn.metrics import ndcg_score\n",
    "from sklearn.preprocessing import MinMaxScaler, normalize, LabelBinarizer\n",
    "from scipy.stats import kendalltau, spearmanr"
   ]
  },
  {
   "cell_type": "markdown",
   "id": "56539e88-7258-43e1-8ffb-c3203f144ec8",
   "metadata": {},
   "source": [
    "# Load data"
   ]
  },
  {
   "cell_type": "code",
   "execution_count": 12,
   "id": "b21ffc68-6f3f-4a49-9f2f-19fd5fb3d7ed",
   "metadata": {},
   "outputs": [
    {
     "name": "stderr",
     "output_type": "stream",
     "text": [
      "/var/folders/vf/np0zpbrx3l91mcfwk4mt1t2r0000gn/T/ipykernel_84942/1085900150.py:1: ParserWarning: Length of header or names does not match length of data. This leads to a loss of data with index_col=False.\n",
      "  Euroroads_df = pd.read_csv(\"../data/Euroroads/subelj_euroroad/out.subelj_euroroad_euroroad\", sep=\" \", on_bad_lines=\"skip\", index_col=False, header=None, names=[\"source\", \"target\"])[1:]\n"
     ]
    },
    {
     "data": {
      "text/html": [
       "<div>\n",
       "<style scoped>\n",
       "    .dataframe tbody tr th:only-of-type {\n",
       "        vertical-align: middle;\n",
       "    }\n",
       "\n",
       "    .dataframe tbody tr th {\n",
       "        vertical-align: top;\n",
       "    }\n",
       "\n",
       "    .dataframe thead th {\n",
       "        text-align: right;\n",
       "    }\n",
       "</style>\n",
       "<table border=\"1\" class=\"dataframe\">\n",
       "  <thead>\n",
       "    <tr style=\"text-align: right;\">\n",
       "      <th></th>\n",
       "      <th>source</th>\n",
       "      <th>target</th>\n",
       "    </tr>\n",
       "  </thead>\n",
       "  <tbody>\n",
       "    <tr>\n",
       "      <th>1</th>\n",
       "      <td>1</td>\n",
       "      <td>2</td>\n",
       "    </tr>\n",
       "    <tr>\n",
       "      <th>2</th>\n",
       "      <td>2</td>\n",
       "      <td>3</td>\n",
       "    </tr>\n",
       "    <tr>\n",
       "      <th>3</th>\n",
       "      <td>2</td>\n",
       "      <td>17</td>\n",
       "    </tr>\n",
       "    <tr>\n",
       "      <th>4</th>\n",
       "      <td>3</td>\n",
       "      <td>4</td>\n",
       "    </tr>\n",
       "    <tr>\n",
       "      <th>5</th>\n",
       "      <td>4</td>\n",
       "      <td>5</td>\n",
       "    </tr>\n",
       "  </tbody>\n",
       "</table>\n",
       "</div>"
      ],
      "text/plain": [
       "   source  target\n",
       "1       1       2\n",
       "2       2       3\n",
       "3       2      17\n",
       "4       3       4\n",
       "5       4       5"
      ]
     },
     "execution_count": 12,
     "metadata": {},
     "output_type": "execute_result"
    }
   ],
   "source": [
    "Euroroads_df = pd.read_csv(\"../data/Euroroads/subelj_euroroad/out.subelj_euroroad_euroroad\", sep=\" \", on_bad_lines=\"skip\", index_col=False, header=None, names=[\"source\", \"target\"])[1:]\n",
    "\n",
    "Euroroads_df[\"source\"] = Euroroads_df[\"source\"].astype(int)\n",
    "Euroroads_df[\"target\"] = Euroroads_df[\"target\"].astype(int)\n",
    "\n",
    "Euroroads_df.head()"
   ]
  },
  {
   "cell_type": "markdown",
   "id": "1e08bb50-022c-464f-be37-e45768343ad7",
   "metadata": {},
   "source": [
    "# Generate networkit graph"
   ]
  },
  {
   "cell_type": "code",
   "execution_count": 13,
   "id": "559e790a-0d26-43b8-82b7-9985c808ac9a",
   "metadata": {},
   "outputs": [
    {
     "name": "stdout",
     "output_type": "stream",
     "text": [
      "Number of nodes:  1175\n",
      "Number of edges:  1417\n"
     ]
    }
   ],
   "source": [
    "g = nk.Graph(directed=False)\n",
    "\n",
    "for row in Euroroads_df[[\"source\", \"target\"]].to_records(index=False).tolist():\n",
    "    g.addEdge(row[0], row[1], addMissing=True)\n",
    "\n",
    "g.removeSelfLoops()\n",
    "\n",
    "print(\"Number of nodes: \", g.numberOfNodes())\n",
    "print(\"Number of edges: \", g.numberOfEdges())  "
   ]
  },
  {
   "cell_type": "markdown",
   "id": "4b564fe1-6c73-497a-888e-b4b516700949",
   "metadata": {},
   "source": [
    "# Network metrics"
   ]
  },
  {
   "cell_type": "code",
   "execution_count": 14,
   "id": "7f3d6e8e-5329-4357-9289-53f04307223d",
   "metadata": {},
   "outputs": [
    {
     "name": "stdout",
     "output_type": "stream",
     "text": [
      "Density:  0.0020544419877487406\n",
      "Average clustering coefficient:  0.019962253193960503\n",
      "Diameter:  (62, 0)\n"
     ]
    }
   ],
   "source": [
    "results = {\n",
    "            \"dataset\": \"Euroroads\",\n",
    "            \"directed\": False,\n",
    "            \"nodes\": g.numberOfNodes(),\n",
    "            \"edges\": g.numberOfEdges()\n",
    "        }\n",
    "\n",
    "# Density\n",
    "results[\"density\"] = nk.graphtools.density(g)\n",
    "print(f\"Density: \", results[\"density\"])\n",
    "\n",
    "# Average clustering coefficient\n",
    "results[\"average_clustering_coefficient\"] = nk.globals.ClusteringCoefficient().avgLocal(g, 10**6) \n",
    "print(f\"Average clustering coefficient: \", results[\"average_clustering_coefficient\"])\n",
    "\n",
    "# Diameter\n",
    "diameter = nk.distance.Diameter(g, algo=nk.distance.DiameterAlgo.Exact, nSamples=10**5)\n",
    "diameter.run()\n",
    "results[\"diameter\"] = diameter.getDiameter() \n",
    "print(f\"Diameter: \", results[\"diameter\"])"
   ]
  },
  {
   "cell_type": "markdown",
   "id": "f6a41ebb-018b-456d-aa8a-c91c6da94e18",
   "metadata": {},
   "source": [
    "# Centrality measures"
   ]
  },
  {
   "cell_type": "code",
   "execution_count": 15,
   "id": "34619fb2-ee25-4320-9b11-53b07e35e25b",
   "metadata": {},
   "outputs": [],
   "source": [
    "def get_degree_centrality(g):\n",
    "    start_time = time.process_time()\n",
    "    \n",
    "    degree = nk.centrality.DegreeCentrality(g)\n",
    "    degree.run()\n",
    "    \n",
    "    end_time = time.process_time()\n",
    "    \n",
    "    return degree, (end_time - start_time)\n",
    "\n",
    "def get_closeness_centrality(g):\n",
    "    start_time = time.process_time()\n",
    "    \n",
    "    closeness = nk.centrality.Closeness(g, True, nk.centrality.ClosenessVariant.Generalized)\n",
    "    closeness.run()\n",
    "    \n",
    "    end_time = time.process_time()\n",
    "    \n",
    "    return closeness, (end_time - start_time)\n",
    "\n",
    "def get_topk_closeness_centrality(g, first_heu=False, second_heu=False, k=5):\n",
    "    start_time = time.process_time()\n",
    "\n",
    "    topk_closeness = nk.centrality.TopCloseness(g, k=k, first_heu=first_heu, sec_heu=second_heu)\n",
    "    topk_closeness.run()\n",
    "    \n",
    "    end_time = time.process_time()\n",
    "\n",
    "    return topk_closeness, (end_time - start_time)\n",
    "\n",
    "centrality = {}\n",
    "results[\"time_elapsed\"] = {}\n",
    "\n",
    "# Degree centrality\n",
    "centrality[\"degree\"], results[\"time_elapsed\"][\"degree\"] = get_degree_centrality(g)\n",
    "\n",
    "# Closeness centrality\n",
    "centrality[\"closeness\"], results[\"time_elapsed\"][\"closeness\"] = get_closeness_centrality(g)\n",
    "\n",
    "# Topk closeness centrality\n",
    "ks = [5, 10, 50, 100, int(results[\"nodes\"]/2)]\n",
    "\n",
    "centrality[\"topkcloseness_0\"] = {}\n",
    "centrality[\"topkcloseness_1\"] = {}\n",
    "results[\"time_elapsed\"][\"topkcloseness_0\"] = {}\n",
    "results[\"time_elapsed\"][\"topkcloseness_1\"] = {}\n",
    "\n",
    "for k in ks:\n",
    "    centrality[\"topkcloseness_0\"][k], results[\"time_elapsed\"][\"topkcloseness_0\"][k] = get_topk_closeness_centrality(g, False, False, k)\n",
    "    centrality[\"topkcloseness_1\"][k], results[\"time_elapsed\"][\"topkcloseness_1\"][k] = get_topk_closeness_centrality(g, False, True, k)"
   ]
  },
  {
   "cell_type": "code",
   "execution_count": 16,
   "id": "13149b04-e412-45bc-baed-ea51150b70a0",
   "metadata": {},
   "outputs": [
    {
     "data": {
      "text/plain": [
       "{'dataset': 'Euroroads',\n",
       " 'directed': False,\n",
       " 'nodes': 1175,\n",
       " 'edges': 1417,\n",
       " 'density': 0.0020544419877487406,\n",
       " 'average_clustering_coefficient': 0.019962253193960503,\n",
       " 'diameter': (62, 0),\n",
       " 'time_elapsed': {'degree': 0.0009870000000002932,\n",
       "  'closeness': 0.029200000000001225,\n",
       "  'topkcloseness_0': {5: 0.03622499999999995,\n",
       "   10: 0.011738999999998612,\n",
       "   50: 0.03205499999999972,\n",
       "   100: 0.028202999999999534,\n",
       "   587: 0.04675399999999996},\n",
       "  'topkcloseness_1': {5: 0.11434600000000117,\n",
       "   10: 0.03481700000000032,\n",
       "   50: 0.026867000000001084,\n",
       "   100: 0.02474499999999935,\n",
       "   587: 0.059626999999998986}}}"
      ]
     },
     "execution_count": 16,
     "metadata": {},
     "output_type": "execute_result"
    }
   ],
   "source": [
    "results"
   ]
  },
  {
   "cell_type": "markdown",
   "id": "09e5ad5e-a4e6-40c1-be76-ba74a10ff573",
   "metadata": {},
   "source": [
    "# Experiments"
   ]
  },
  {
   "cell_type": "markdown",
   "id": "6b3a6509-57f0-4a85-a607-be4ccda381ad",
   "metadata": {},
   "source": [
    "## Preprocess"
   ]
  },
  {
   "cell_type": "code",
   "execution_count": 17,
   "id": "515fa923-526d-4a7f-8b6b-7ee86e21424e",
   "metadata": {},
   "outputs": [],
   "source": [
    "normalised_scores = {}\n",
    "nodes = {}\n",
    "\n",
    "# Label binarizer for encoding of node labels\n",
    "lb = LabelBinarizer()\n",
    "lb.fit(np.arange(results[\"nodes\"]))\n",
    "\n",
    "# Degree centrality\n",
    "scaler = MinMaxScaler()\n",
    "normalised_scores[\"degree\"] = scaler.fit_transform(np.array([row[1] for row in centrality[\"degree\"].ranking()]).reshape(-1, 1)).flatten()\n",
    "nodes[\"degree\"] = [row[0] for row in centrality[\"degree\"].ranking()]\n",
    "\n",
    "# Closeness centrality\n",
    "scaler = MinMaxScaler()\n",
    "normalised_scores[\"closeness\"] = scaler.fit_transform(np.array([row[1] for row in centrality[\"closeness\"].ranking()]).reshape(-1, 1)).flatten()\n",
    "nodes[\"closeness\"] = [row[0] for row in centrality[\"closeness\"].ranking()]\n",
    "\n",
    "# Topk closeness centrality\n",
    "normalised_scores[\"topkcloseness_0\"], normalised_scores[\"topkcloseness_1\"] = {}, {}\n",
    "nodes[\"topkcloseness_0\"], nodes[\"topkcloseness_1\"] = {}, {}\n",
    "\n",
    "for k in ks:\n",
    "    scaler = MinMaxScaler()\n",
    "    normalised_scores[\"topkcloseness_0\"][k] = scaler.fit_transform(np.array(centrality[\"topkcloseness_0\"][k].topkScoresList()).reshape(-1, 1)).flatten()\n",
    "    nodes[\"topkcloseness_0\"][k] = centrality[\"topkcloseness_0\"][k].topkNodesList()\n",
    "\n",
    "    scaler = MinMaxScaler()\n",
    "    normalised_scores[\"topkcloseness_1\"][k] = scaler.fit_transform(np.array(centrality[\"topkcloseness_1\"][k].topkScoresList()).reshape(-1, 1)).flatten()\n",
    "    nodes[\"topkcloseness_1\"][k] = centrality[\"topkcloseness_1\"][k].topkNodesList()"
   ]
  },
  {
   "cell_type": "markdown",
   "id": "5531e4a4-f124-4fa3-be84-b125b83fe047",
   "metadata": {},
   "source": [
    "## NDCG degree to (top-k) closeness"
   ]
  },
  {
   "cell_type": "code",
   "execution_count": 18,
   "id": "67c2b8cd-1870-40fd-ad12-5a77f8083463",
   "metadata": {},
   "outputs": [
    {
     "data": {
      "text/html": [
       "<div>\n",
       "<style scoped>\n",
       "    .dataframe tbody tr th:only-of-type {\n",
       "        vertical-align: middle;\n",
       "    }\n",
       "\n",
       "    .dataframe tbody tr th {\n",
       "        vertical-align: top;\n",
       "    }\n",
       "\n",
       "    .dataframe thead th {\n",
       "        text-align: right;\n",
       "    }\n",
       "</style>\n",
       "<table border=\"1\" class=\"dataframe\">\n",
       "  <thead>\n",
       "    <tr style=\"text-align: right;\">\n",
       "      <th></th>\n",
       "      <th>closeness</th>\n",
       "      <th>topkcloseness_0</th>\n",
       "      <th>topkcloseness_1</th>\n",
       "    </tr>\n",
       "  </thead>\n",
       "  <tbody>\n",
       "    <tr>\n",
       "      <th>5</th>\n",
       "      <td>0.118774</td>\n",
       "      <td>0.118774</td>\n",
       "      <td>0.118774</td>\n",
       "    </tr>\n",
       "    <tr>\n",
       "      <th>10</th>\n",
       "      <td>0.118774</td>\n",
       "      <td>0.118774</td>\n",
       "      <td>0.118774</td>\n",
       "    </tr>\n",
       "    <tr>\n",
       "      <th>50</th>\n",
       "      <td>0.118774</td>\n",
       "      <td>0.118774</td>\n",
       "      <td>0.118774</td>\n",
       "    </tr>\n",
       "    <tr>\n",
       "      <th>100</th>\n",
       "      <td>0.118774</td>\n",
       "      <td>0.118774</td>\n",
       "      <td>0.118774</td>\n",
       "    </tr>\n",
       "    <tr>\n",
       "      <th>587</th>\n",
       "      <td>0.120203</td>\n",
       "      <td>0.120203</td>\n",
       "      <td>0.120203</td>\n",
       "    </tr>\n",
       "  </tbody>\n",
       "</table>\n",
       "</div>"
      ],
      "text/plain": [
       "     closeness  topkcloseness_0  topkcloseness_1\n",
       "5     0.118774         0.118774         0.118774\n",
       "10    0.118774         0.118774         0.118774\n",
       "50    0.118774         0.118774         0.118774\n",
       "100   0.118774         0.118774         0.118774\n",
       "587   0.120203         0.120203         0.120203"
      ]
     },
     "execution_count": 18,
     "metadata": {},
     "output_type": "execute_result"
    }
   ],
   "source": [
    "ndcg_scores = {}\n",
    "\n",
    "for k in ks:\n",
    "    ndcg_scores[k] = {}\n",
    "    \n",
    "    for centrality_measure in [\"closeness\", \"topkcloseness_0\", \"topkcloseness_1\"]:\n",
    "        \n",
    "        y_true = lb.transform(nodes[\"degree\"][:k])\n",
    "        sample_weight = normalised_scores[\"degree\"][:k]\n",
    "        \n",
    "        if \"topk\" in centrality_measure:\n",
    "            y_score = lb.transform(nodes[centrality_measure][k])\n",
    "            \n",
    "        else:\n",
    "            y_score = lb.transform(nodes[centrality_measure][:k])\n",
    "\n",
    "        ndcg_scores[k][centrality_measure] = ndcg_score(y_true, y_score, sample_weight=sample_weight)\n",
    "    \n",
    "results[\"ndcg_degree\"] = ndcg_scores\n",
    "\n",
    "pd.DataFrame(ndcg_scores).T"
   ]
  },
  {
   "cell_type": "markdown",
   "id": "608b41f0-d512-41cb-873a-b63b7f1a1e7a",
   "metadata": {},
   "source": [
    "## NDCG closeness to (top-k) closeness"
   ]
  },
  {
   "cell_type": "code",
   "execution_count": 19,
   "id": "5f7e56d6-8c8c-485c-8e8c-e12fbe11b479",
   "metadata": {},
   "outputs": [
    {
     "data": {
      "text/html": [
       "<div>\n",
       "<style scoped>\n",
       "    .dataframe tbody tr th:only-of-type {\n",
       "        vertical-align: middle;\n",
       "    }\n",
       "\n",
       "    .dataframe tbody tr th {\n",
       "        vertical-align: top;\n",
       "    }\n",
       "\n",
       "    .dataframe thead th {\n",
       "        text-align: right;\n",
       "    }\n",
       "</style>\n",
       "<table border=\"1\" class=\"dataframe\">\n",
       "  <thead>\n",
       "    <tr style=\"text-align: right;\">\n",
       "      <th></th>\n",
       "      <th>topkcloseness_0</th>\n",
       "      <th>topkcloseness_1</th>\n",
       "    </tr>\n",
       "  </thead>\n",
       "  <tbody>\n",
       "    <tr>\n",
       "      <th>5</th>\n",
       "      <td>0.82702</td>\n",
       "      <td>1.0</td>\n",
       "    </tr>\n",
       "    <tr>\n",
       "      <th>10</th>\n",
       "      <td>1.00000</td>\n",
       "      <td>1.0</td>\n",
       "    </tr>\n",
       "    <tr>\n",
       "      <th>50</th>\n",
       "      <td>1.00000</td>\n",
       "      <td>1.0</td>\n",
       "    </tr>\n",
       "    <tr>\n",
       "      <th>100</th>\n",
       "      <td>1.00000</td>\n",
       "      <td>1.0</td>\n",
       "    </tr>\n",
       "    <tr>\n",
       "      <th>587</th>\n",
       "      <td>1.00000</td>\n",
       "      <td>1.0</td>\n",
       "    </tr>\n",
       "  </tbody>\n",
       "</table>\n",
       "</div>"
      ],
      "text/plain": [
       "     topkcloseness_0  topkcloseness_1\n",
       "5            0.82702              1.0\n",
       "10           1.00000              1.0\n",
       "50           1.00000              1.0\n",
       "100          1.00000              1.0\n",
       "587          1.00000              1.0"
      ]
     },
     "execution_count": 19,
     "metadata": {},
     "output_type": "execute_result"
    }
   ],
   "source": [
    "ndcg_scores = {}\n",
    "\n",
    "for k in ks:\n",
    "    ndcg_scores[k] = {}\n",
    "    \n",
    "    y_score = lb.transform(nodes[\"closeness\"][:k])\n",
    "    sample_weight = normalised_scores[\"closeness\"][:k]\n",
    "    \n",
    "    for centrality_measure in [\"topkcloseness_0\", \"topkcloseness_1\"]:\n",
    "        y_true = lb.transform(nodes[centrality_measure][k])\n",
    "            \n",
    "        ndcg_scores[k][centrality_measure] = ndcg_score(y_true, y_score, sample_weight=sample_weight)\n",
    "    \n",
    "results[\"ndcg_closeness\"] = ndcg_scores\n",
    "\n",
    "pd.DataFrame(ndcg_scores).T"
   ]
  },
  {
   "cell_type": "markdown",
   "id": "68722b94-fb72-4866-bd92-ebbbb54dc5ab",
   "metadata": {},
   "source": [
    "## Spearman rank correlation"
   ]
  },
  {
   "cell_type": "code",
   "execution_count": 20,
   "id": "0e43494b-8fbb-42c0-83bf-a8782b7332ee",
   "metadata": {},
   "outputs": [
    {
     "data": {
      "text/html": [
       "<div>\n",
       "<style scoped>\n",
       "    .dataframe tbody tr th:only-of-type {\n",
       "        vertical-align: middle;\n",
       "    }\n",
       "\n",
       "    .dataframe tbody tr th {\n",
       "        vertical-align: top;\n",
       "    }\n",
       "\n",
       "    .dataframe thead th {\n",
       "        text-align: right;\n",
       "    }\n",
       "</style>\n",
       "<table border=\"1\" class=\"dataframe\">\n",
       "  <thead>\n",
       "    <tr style=\"text-align: right;\">\n",
       "      <th></th>\n",
       "      <th>closeness</th>\n",
       "      <th>topkcloseness_0</th>\n",
       "      <th>topkcloseness_1</th>\n",
       "    </tr>\n",
       "  </thead>\n",
       "  <tbody>\n",
       "    <tr>\n",
       "      <th>5</th>\n",
       "      <td>-0.893427</td>\n",
       "      <td>-0.754851</td>\n",
       "      <td>-0.754851</td>\n",
       "    </tr>\n",
       "    <tr>\n",
       "      <th>10</th>\n",
       "      <td>-0.708726</td>\n",
       "      <td>-0.767610</td>\n",
       "      <td>-0.767610</td>\n",
       "    </tr>\n",
       "    <tr>\n",
       "      <th>50</th>\n",
       "      <td>-0.619558</td>\n",
       "      <td>-0.605842</td>\n",
       "      <td>-0.605842</td>\n",
       "    </tr>\n",
       "    <tr>\n",
       "      <th>100</th>\n",
       "      <td>-0.521785</td>\n",
       "      <td>-0.515057</td>\n",
       "      <td>-0.515057</td>\n",
       "    </tr>\n",
       "    <tr>\n",
       "      <th>587</th>\n",
       "      <td>0.041347</td>\n",
       "      <td>0.042241</td>\n",
       "      <td>0.042241</td>\n",
       "    </tr>\n",
       "  </tbody>\n",
       "</table>\n",
       "</div>"
      ],
      "text/plain": [
       "     closeness  topkcloseness_0  topkcloseness_1\n",
       "5    -0.893427        -0.754851        -0.754851\n",
       "10   -0.708726        -0.767610        -0.767610\n",
       "50   -0.619558        -0.605842        -0.605842\n",
       "100  -0.521785        -0.515057        -0.515057\n",
       "587   0.041347         0.042241         0.042241"
      ]
     },
     "execution_count": 20,
     "metadata": {},
     "output_type": "execute_result"
    }
   ],
   "source": [
    "spearmanr_corr = {}\n",
    "\n",
    "for k in ks:\n",
    "    spearmanr_corr[k] = {}\n",
    "    \n",
    "    y_true = pd.DataFrame({\"nodes\": nodes[\"degree\"][:k], \"ranking_x\": normalised_scores[\"degree\"][:k]})\n",
    "\n",
    "    for centrality_measure in [\"closeness\", \"topkcloseness_0\", \"topkcloseness_1\"]:\n",
    "        \n",
    "        if \"topk\" in centrality_measure:\n",
    "            y_score = pd.DataFrame({\"nodes\": nodes[centrality_measure][k], \"ranking_y\": normalised_scores[centrality_measure][k]})\n",
    "            \n",
    "        else:\n",
    "            y_score = pd.DataFrame({\"nodes\": nodes[centrality_measure][:k], \"ranking_y\": normalised_scores[centrality_measure][:k]})\n",
    "\n",
    "        y_df = y_true.merge(y_score, how=\"outer\", on=\"nodes\").fillna(0)\n",
    "\n",
    "        corr, _ = spearmanr(y_df[\"ranking_x\"], y_df[\"ranking_y\"])\n",
    "        spearmanr_corr[k][centrality_measure] = corr\n",
    "    \n",
    "results[\"spearmanr\"] = spearmanr_corr\n",
    "\n",
    "pd.DataFrame(spearmanr_corr).T"
   ]
  },
  {
   "cell_type": "markdown",
   "id": "0ce96b5f-74ac-450a-b577-597593716192",
   "metadata": {},
   "source": [
    "## Kendall tau rank correlation"
   ]
  },
  {
   "cell_type": "code",
   "execution_count": 21,
   "id": "22ceca4f-7879-4a77-b5b0-1e9ae3dd610c",
   "metadata": {},
   "outputs": [
    {
     "data": {
      "text/html": [
       "<div>\n",
       "<style scoped>\n",
       "    .dataframe tbody tr th:only-of-type {\n",
       "        vertical-align: middle;\n",
       "    }\n",
       "\n",
       "    .dataframe tbody tr th {\n",
       "        vertical-align: top;\n",
       "    }\n",
       "\n",
       "    .dataframe thead th {\n",
       "        text-align: right;\n",
       "    }\n",
       "</style>\n",
       "<table border=\"1\" class=\"dataframe\">\n",
       "  <thead>\n",
       "    <tr style=\"text-align: right;\">\n",
       "      <th></th>\n",
       "      <th>closeness</th>\n",
       "      <th>topkcloseness_0</th>\n",
       "      <th>topkcloseness_1</th>\n",
       "    </tr>\n",
       "  </thead>\n",
       "  <tbody>\n",
       "    <tr>\n",
       "      <th>5</th>\n",
       "      <td>-0.784706</td>\n",
       "      <td>-0.678064</td>\n",
       "      <td>-0.678064</td>\n",
       "    </tr>\n",
       "    <tr>\n",
       "      <th>10</th>\n",
       "      <td>-0.531158</td>\n",
       "      <td>-0.619857</td>\n",
       "      <td>-0.619857</td>\n",
       "    </tr>\n",
       "    <tr>\n",
       "      <th>50</th>\n",
       "      <td>-0.507625</td>\n",
       "      <td>-0.497229</td>\n",
       "      <td>-0.497229</td>\n",
       "    </tr>\n",
       "    <tr>\n",
       "      <th>100</th>\n",
       "      <td>-0.417802</td>\n",
       "      <td>-0.412583</td>\n",
       "      <td>-0.412583</td>\n",
       "    </tr>\n",
       "    <tr>\n",
       "      <th>587</th>\n",
       "      <td>0.021783</td>\n",
       "      <td>0.022562</td>\n",
       "      <td>0.022562</td>\n",
       "    </tr>\n",
       "  </tbody>\n",
       "</table>\n",
       "</div>"
      ],
      "text/plain": [
       "     closeness  topkcloseness_0  topkcloseness_1\n",
       "5    -0.784706        -0.678064        -0.678064\n",
       "10   -0.531158        -0.619857        -0.619857\n",
       "50   -0.507625        -0.497229        -0.497229\n",
       "100  -0.417802        -0.412583        -0.412583\n",
       "587   0.021783         0.022562         0.022562"
      ]
     },
     "execution_count": 21,
     "metadata": {},
     "output_type": "execute_result"
    }
   ],
   "source": [
    "kendalltau_corr = {}\n",
    "\n",
    "for k in ks:\n",
    "    kendalltau_corr[k] = {}\n",
    "    \n",
    "    y_true = pd.DataFrame({\"nodes\": nodes[\"degree\"][:k], \"ranking_x\": normalised_scores[\"degree\"][:k]})\n",
    "\n",
    "    for centrality_measure in [\"closeness\", \"topkcloseness_0\", \"topkcloseness_1\"]:\n",
    "        \n",
    "        if \"topk\" in centrality_measure:\n",
    "            y_score = pd.DataFrame({\"nodes\": nodes[centrality_measure][k], \"ranking_y\": normalised_scores[centrality_measure][k]})\n",
    "            \n",
    "        else:\n",
    "            y_score = pd.DataFrame({\"nodes\": nodes[centrality_measure][:k], \"ranking_y\": normalised_scores[centrality_measure][:k]})\n",
    "\n",
    "        y_df = y_true.merge(y_score, how=\"outer\", on=\"nodes\").fillna(0)\n",
    "\n",
    "        corr, _ = kendalltau(y_df[\"ranking_x\"], y_df[\"ranking_y\"])\n",
    "        kendalltau_corr[k][centrality_measure] = 0 if np.isnan(corr) else corr\n",
    "    \n",
    "results[\"kendalltau\"] = kendalltau_corr\n",
    "\n",
    "pd.DataFrame(kendalltau_corr).T"
   ]
  },
  {
   "cell_type": "markdown",
   "id": "f35fb0b0-b367-4165-b48a-c61e2b97f3ae",
   "metadata": {},
   "source": [
    "# Store results"
   ]
  },
  {
   "cell_type": "code",
   "execution_count": 22,
   "id": "c8c70a33-5bc9-4d25-9ad4-30cd05a3bb41",
   "metadata": {},
   "outputs": [],
   "source": [
    "with open(f\"../results/{results['dataset']}_{results['directed']}.json\", 'w') as outfile:\n",
    "    json.dump(results, outfile)"
   ]
  },
  {
   "cell_type": "code",
   "execution_count": null,
   "id": "706fafbd-329d-409b-908f-0493b3e5f6f4",
   "metadata": {},
   "outputs": [],
   "source": []
  }
 ],
 "metadata": {
  "kernelspec": {
   "display_name": "Python 3 (ipykernel)",
   "language": "python",
   "name": "python3"
  },
  "language_info": {
   "codemirror_mode": {
    "name": "ipython",
    "version": 3
   },
   "file_extension": ".py",
   "mimetype": "text/x-python",
   "name": "python",
   "nbconvert_exporter": "python",
   "pygments_lexer": "ipython3",
   "version": "3.9.13"
  }
 },
 "nbformat": 4,
 "nbformat_minor": 5
}
